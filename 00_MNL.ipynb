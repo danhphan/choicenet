{
 "cells": [
  {
   "cell_type": "code",
   "execution_count": null,
   "metadata": {},
   "outputs": [],
   "source": [
    "# default_exp MNL"
   ]
  },
  {
   "cell_type": "markdown",
   "metadata": {},
   "source": [
    "# MNL\n",
    "\n",
    "> API details."
   ]
  },
  {
   "cell_type": "code",
   "execution_count": null,
   "metadata": {},
   "outputs": [],
   "source": [
    "#hide\n",
    "from nbdev.showdoc import *"
   ]
  },
  {
   "cell_type": "code",
   "execution_count": null,
   "metadata": {},
   "outputs": [],
   "source": [
    "import math\n",
    "import pickle\n",
    "import numpy as np\n",
    "import pandas as pd\n",
    "import torch"
   ]
  },
  {
   "cell_type": "markdown",
   "metadata": {},
   "source": [
    "### Load data set"
   ]
  },
  {
   "cell_type": "code",
   "execution_count": null,
   "metadata": {},
   "outputs": [
    {
     "data": {
      "text/plain": [
       "((10692, 28), pandas.core.frame.DataFrame)"
      ]
     },
     "execution_count": null,
     "metadata": {},
     "output_type": "execute_result"
    }
   ],
   "source": [
    "data = pickle.load(open('./data/swissmetro_clean.pkl', \"rb\"))\n",
    "data.shape, type(data)"
   ]
  },
  {
   "cell_type": "code",
   "execution_count": null,
   "metadata": {},
   "outputs": [
    {
     "data": {
      "text/plain": [
       "2    6199\n",
       "3    3080\n",
       "1    1413\n",
       "Name: CHOICE, dtype: int64"
      ]
     },
     "execution_count": null,
     "metadata": {},
     "output_type": "execute_result"
    }
   ],
   "source": [
    "data['CHOICE'].value_counts()"
   ]
  },
  {
   "cell_type": "code",
   "execution_count": null,
   "metadata": {},
   "outputs": [],
   "source": [
    "# Preprocessing\n",
    "\n",
    "data['TRAIN_AV'] = data['TRAIN_AV'] * (data['SP'] != 0)\n",
    "data['CAR_AV'] = data['CAR_AV'] * (data['SP'] != 0)\n",
    "\n",
    "data['SM_CO'] = data['SM_CO'] * (data['GA'] == 0)\n",
    "data['TRAIN_CO'] = data['TRAIN_CO'] * (data['GA'] == 0)\n",
    "\n",
    "cols = ['TRAIN_TT','TRAIN_CO', 'SM_TT', 'SM_CO', 'CAR_TT', 'CAR_CO']\n",
    "data[cols] = data[cols]/100.0"
   ]
  },
  {
   "cell_type": "markdown",
   "metadata": {},
   "source": [
    "#### Utility function:\n",
    "\n",
    "* V1 = ASC_TRAIN + B_TIME * TRAIN_TT_SCALED + B_COST * TRAIN_COST_SCALED\n",
    "* V2 = ASC_SM    + B_TIME * SM_TT_SCALED    + B_COST * SM_COST_SCALED\n",
    "* V3 = ASC_CAR   + B_TIME * CAR_TT_SCALED   + B_COST * CAR_CO_SCALED\n",
    "\n",
    "av = {1: TRAIN_AV_SP, 2: SM_AV, 3: CAR_AV_SP}\n",
    "\n",
    "CHOICE: 1: Train, 2: SM, 3: Car\n"
   ]
  },
  {
   "cell_type": "markdown",
   "metadata": {},
   "source": [
    "### MNL test with MSELoss"
   ]
  },
  {
   "cell_type": "code",
   "execution_count": null,
   "metadata": {},
   "outputs": [],
   "source": [
    "class MNL(torch.nn.Module):\n",
    "    \n",
    "    def __init__(self):\n",
    "        super().__init__()\n",
    "        self.ASC_TRAIN = torch.nn.Parameter(torch.full((),2.0))\n",
    "        self.ASC_SM    = torch.nn.Parameter(torch.full((),1.0))\n",
    "        self.ASC_CAR   = torch.nn.Parameter(torch.full((),1.0))\n",
    "        self.B_TIME    = torch.nn.Parameter(torch.full((),-1.0))\n",
    "        self.B_COST    = torch.nn.Parameter(torch.full((),-0.5))        \n",
    "        \n",
    "    def forward(self, x):\n",
    "        # Calculate V\n",
    "        V1 = self.ASC_TRAIN + self.B_TIME * torch.tensor(x['TRAIN_TT'].values, dtype=torch.float) + self.B_COST * torch.tensor(x['TRAIN_CO'].values, dtype=torch.float)\n",
    "        V2 = self.ASC_SM    + self.B_TIME * torch.tensor(x['SM_TT'].values, dtype=torch.float)    + self.B_COST * torch.tensor(x['SM_CO'].values, dtype=torch.float)\n",
    "        V3 = self.ASC_CAR   + self.B_TIME * torch.tensor(x['CAR_TT'].values, dtype=torch.float)   + self.B_COST * torch.tensor(x['CAR_CO'].values, dtype=torch.float)\n",
    "        \n",
    "        SUM = torch.exp(V1) + torch.exp(V2) + torch.exp(V3)\n",
    "        P1 = torch.exp(V1)/SUM\n",
    "        P2 = torch.exp(V2)/SUM\n",
    "        P3 = torch.exp(V3)/SUM\n",
    "        \n",
    "        ALTS = {'TRAIN': 1, 'SM': 2, 'CAR':3}\n",
    "        output = P1 * ALTS['TRAIN'] + P2 * ALTS['SM'] + P3 * ALTS['CAR']\n",
    "        return output\n",
    "    \n",
    "    def string(self):\n",
    "        return f'ASC_TRAIN={self.ASC_TRAIN}, ASC_SM={self.ASC_SM}, ASC_CAR={self.ASC_CAR}, B_TIME={self.B_TIME}, B_COST={self.B_COST}'"
   ]
  },
  {
   "cell_type": "code",
   "execution_count": null,
   "metadata": {},
   "outputs": [
    {
     "data": {
      "text/plain": [
       "((10692, 6), torch.Size([10692]))"
      ]
     },
     "execution_count": null,
     "metadata": {},
     "output_type": "execute_result"
    }
   ],
   "source": [
    "# Data prepraration\n",
    "x = data[cols]\n",
    "y = data['CHOICE']\n",
    "y = torch.tensor(y.values,dtype=torch.float)\n",
    "x.shape, y.shape"
   ]
  },
  {
   "cell_type": "code",
   "execution_count": null,
   "metadata": {},
   "outputs": [
    {
     "name": "stdout",
     "output_type": "stream",
     "text": [
      "99 tensor(8372.7666, grad_fn=<MseLossBackward>)\n",
      "199 tensor(8215.6748, grad_fn=<MseLossBackward>)\n",
      "299 tensor(7981.7471, grad_fn=<MseLossBackward>)\n",
      "399 tensor(7708.0303, grad_fn=<MseLossBackward>)\n",
      "499 tensor(7435.6187, grad_fn=<MseLossBackward>)\n",
      "599 tensor(7200.6538, grad_fn=<MseLossBackward>)\n",
      "699 tensor(7027.1870, grad_fn=<MseLossBackward>)\n",
      "799 tensor(6924.5605, grad_fn=<MseLossBackward>)\n",
      "899 tensor(6889.4072, grad_fn=<MseLossBackward>)\n",
      "999 tensor(6910.1782, grad_fn=<MseLossBackward>)\n",
      "1099 tensor(6971.7646, grad_fn=<MseLossBackward>)\n",
      "1199 tensor(7058.8242, grad_fn=<MseLossBackward>)\n",
      "1299 tensor(7157.6372, grad_fn=<MseLossBackward>)\n",
      "1399 tensor(7256.8555, grad_fn=<MseLossBackward>)\n",
      "1499 tensor(7347.6250, grad_fn=<MseLossBackward>)\n",
      "1599 tensor(7423.4067, grad_fn=<MseLossBackward>)\n",
      "1699 tensor(7479.6465, grad_fn=<MseLossBackward>)\n",
      "1799 tensor(7513.3608, grad_fn=<MseLossBackward>)\n",
      "1899 tensor(7522.3906, grad_fn=<MseLossBackward>)\n",
      "1999 tensor(7503.1631, grad_fn=<MseLossBackward>)\n"
     ]
    }
   ],
   "source": [
    "model = MNL()\n",
    "lr = 1e-9\n",
    "criterion = torch.nn.MSELoss(reduction='sum')\n",
    "optimizer = torch.optim.SGD(model.parameters(),lr=lr)\n",
    "\n",
    "for t in range(2000):\n",
    "    # Forward\n",
    "    y_pred = model(x)\n",
    "    # Compute loss\n",
    "    loss = criterion(y_pred, y)\n",
    "    if t % 100 == 99:\n",
    "        print(t, loss)\n",
    "    # Backward\n",
    "    mode.zero_grad()\n",
    "    loss.backward()\n",
    "    optimizer.step()    "
   ]
  },
  {
   "cell_type": "code",
   "execution_count": null,
   "metadata": {},
   "outputs": [
    {
     "data": {
      "text/plain": [
       "'ASC_TRAIN=-0.07177126407623291, ASC_SM=1.6048898696899414, ASC_CAR=2.466876268386841, B_TIME=-1.4506571292877197, B_COST=-0.15838482975959778'"
      ]
     },
     "execution_count": null,
     "metadata": {},
     "output_type": "execute_result"
    }
   ],
   "source": [
    "model.string()"
   ]
  },
  {
   "cell_type": "markdown",
   "metadata": {},
   "source": [
    "### MNL test with Negative Loglikelihood"
   ]
  },
  {
   "cell_type": "code",
   "execution_count": null,
   "metadata": {},
   "outputs": [],
   "source": [
    "class MNL(torch.nn.Module):\n",
    "    \n",
    "    def __init__(self):\n",
    "        super().__init__()\n",
    "        self.ASC_TRAIN = torch.nn.Parameter(torch.full((),0.1))\n",
    "        self.ASC_SM    = torch.tensor([0]) # Fixed ASC_SM = 1 like in biogeme\n",
    "        self.ASC_CAR   = torch.nn.Parameter(torch.full((),0.1))\n",
    "        self.B_TIME    = torch.nn.Parameter(torch.full((),0.1))\n",
    "        self.B_COST    = torch.nn.Parameter(torch.full((),0.1))        \n",
    "        \n",
    "    def forward(self, x, av=None):\n",
    "        # Calculate V\n",
    "        V1 = self.ASC_TRAIN + self.B_TIME * torch.tensor(x['TRAIN_TT'].values, dtype=torch.float) + self.B_COST * torch.tensor(x['TRAIN_CO'].values, dtype=torch.float)\n",
    "        V2 = self.ASC_SM    + self.B_TIME * torch.tensor(x['SM_TT'].values, dtype=torch.float)    + self.B_COST * torch.tensor(x['SM_CO'].values, dtype=torch.float)\n",
    "        V3 = self.ASC_CAR   + self.B_TIME * torch.tensor(x['CAR_TT'].values, dtype=torch.float)   + self.B_COST * torch.tensor(x['CAR_CO'].values, dtype=torch.float)\n",
    "        # Join with availability\n",
    "        V1 = V1 * torch.tensor(av['TRAIN_AV'].values, dtype=torch.float)\n",
    "        V2 = V2 * torch.tensor(av['SM_AV'].values, dtype=torch.float)\n",
    "        V3 = V3 * torch.tensor(av['CAR_AV'].values, dtype=torch.float)\n",
    "        # Concat into one matrix\n",
    "        V = torch.cat((V1.unsqueeze(-1),V2.unsqueeze(-1),V3.unsqueeze(-1)),1)\n",
    "        # Get probality and loglikelihood\n",
    "        probs = V.exp()/(V.exp().sum(-1,keepdim=True))\n",
    "        return probs\n",
    "    \n",
    "  \n",
    "    def string(self):\n",
    "        return f'ASC_TRAIN={self.ASC_TRAIN}, ASC_SM={self.ASC_SM}, ASC_CAR={self.ASC_CAR}, B_TIME={self.B_TIME}, B_COST={self.B_COST}'"
   ]
  },
  {
   "cell_type": "code",
   "execution_count": null,
   "metadata": {},
   "outputs": [
    {
     "data": {
      "text/plain": [
       "((10692, 6), torch.Size([10692]))"
      ]
     },
     "execution_count": null,
     "metadata": {},
     "output_type": "execute_result"
    }
   ],
   "source": [
    "# Data prepraration\n",
    "x = data[cols]\n",
    "\n",
    "y = data['CHOICE']\n",
    "y = torch.tensor(y.values,dtype=torch.long)\n",
    "y = y - 1\n",
    "\n",
    "av = data[['TRAIN_AV','CAR_AV','SM_AV']]\n",
    "\n",
    "x.shape, y.shape"
   ]
  },
  {
   "cell_type": "code",
   "execution_count": null,
   "metadata": {},
   "outputs": [
    {
     "name": "stdout",
     "output_type": "stream",
     "text": [
      "99 10703.1953125\n",
      "199 11286.107421875\n",
      "299 11835.771484375\n",
      "399 10371.9091796875\n",
      "499 12089.0126953125\n",
      "599 11036.29296875\n",
      "699 10918.490234375\n",
      "799 12167.994140625\n",
      "899 10488.15234375\n",
      "999 11623.80859375\n",
      "1099 11591.677734375\n",
      "1199 10428.90234375\n",
      "1299 12215.85546875\n",
      "1399 10625.486328125\n",
      "1499 11304.4375\n",
      "1599 11964.42578125\n",
      "1699 10421.9794921875\n",
      "1799 11967.2001953125\n",
      "1899 11292.4248046875\n",
      "1999 10732.845703125\n"
     ]
    }
   ],
   "source": [
    "def nll(probs, target): return -probs[range(target.shape[0]), target].log().sum()\n",
    "\n",
    "model = MNL()\n",
    "lr = 1e-6\n",
    "optimizer = torch.optim.SGD(model.parameters(),lr=lr)\n",
    "\n",
    "for t in range(2000):\n",
    "    # Forward\n",
    "    probs = model(x, av)\n",
    "    # Negative loglikelihood\n",
    "    loss = nll(probs,y)\n",
    "    if t % 100 == 99:\n",
    "        print(t, loss.item())\n",
    "    # Backward\n",
    "    mode.zero_grad()\n",
    "    loss.backward()\n",
    "    optimizer.step()"
   ]
  },
  {
   "cell_type": "code",
   "execution_count": null,
   "metadata": {},
   "outputs": [],
   "source": [
    "import torch.nn.functional as F\n",
    "loss_func = F.cross_entropy\n",
    "def accuracy(out, yb): return (torch.argmax(out, dim=1)==yb).float().mean()\n",
    "loss_func(model(x,av), y), accuracy(model(x,av),y)"
   ]
  },
  {
   "cell_type": "code",
   "execution_count": null,
   "metadata": {},
   "outputs": [
    {
     "data": {
      "text/plain": [
       "'ASC_TRAIN=-0.31197574734687805, ASC_SM=tensor([0]), ASC_CAR=-0.2863524258136749, B_TIME=-0.38315775990486145, B_COST=-0.394696980714798'"
      ]
     },
     "execution_count": null,
     "metadata": {},
     "output_type": "execute_result"
    }
   ],
   "source": [
    "model.string()"
   ]
  },
  {
   "cell_type": "markdown",
   "metadata": {},
   "source": [
    "### TasteMNL with Negative Loglikelihood"
   ]
  },
  {
   "cell_type": "code",
   "execution_count": null,
   "metadata": {},
   "outputs": [],
   "source": [
    "class TasteMNL(torch.nn.Module):\n",
    "    \n",
    "    def __init__(self, N):\n",
    "        super().__init__()\n",
    "        self.linear = torch.nn.Linear(5,4)\n",
    "        self.ASC_SM    = torch.tensor([0])\n",
    "        self.ASC_TRAIN = torch.zeros(N)   \n",
    "        self.ASC_CAR = torch.zeros(N)   \n",
    "        self.B_TIME = torch.zeros(N)   \n",
    "        self.B_COST = torch.zeros(N)   \n",
    "        \n",
    "    def forward(self, z, x, av=None):        \n",
    "        \n",
    "        Beta = self.linear(z)\n",
    "        self.ASC_TRAIN = Beta[:,0]\n",
    "        self.ASC_CAR = Beta[:,1]\n",
    "        self.B_TIME = Beta[:,2]\n",
    "        self.B_COST = Beta[:,3]\n",
    "        \n",
    "        # Calculate V\n",
    "        V1 = self.ASC_TRAIN + self.B_TIME * torch.tensor(x['TRAIN_TT'].values, dtype=torch.float) + self.B_COST * torch.tensor(x['TRAIN_CO'].values, dtype=torch.float)\n",
    "        V2 = self.ASC_SM    + self.B_TIME * torch.tensor(x['SM_TT'].values, dtype=torch.float)    + self.B_COST * torch.tensor(x['SM_CO'].values, dtype=torch.float)\n",
    "        V3 = self.ASC_CAR   + self.B_TIME * torch.tensor(x['CAR_TT'].values, dtype=torch.float)   + self.B_COST * torch.tensor(x['CAR_CO'].values, dtype=torch.float)\n",
    "        # Join with availability\n",
    "        V1 = V1 * torch.tensor(av['TRAIN_AV'].values, dtype=torch.float)\n",
    "        V2 = V2 * torch.tensor(av['SM_AV'].values, dtype=torch.float)\n",
    "        V3 = V3 * torch.tensor(av['CAR_AV'].values, dtype=torch.float)\n",
    "        # Concat into one matrix\n",
    "        V = torch.cat((V1.unsqueeze(-1),V2.unsqueeze(-1),V3.unsqueeze(-1)),1)\n",
    "        # Get probality and loglikelihood\n",
    "        probs = V.exp()/(V.exp().sum(-1,keepdim=True))\n",
    "        return probs\n",
    "    \n",
    "  \n",
    "    def string(self):\n",
    "        return f'ASC_TRAIN={self.ASC_TRAIN}, ASC_SM={self.ASC_SM}, ASC_CAR={self.ASC_CAR}, B_TIME={self.B_TIME}, B_COST={self.B_COST}'"
   ]
  },
  {
   "cell_type": "code",
   "execution_count": null,
   "metadata": {},
   "outputs": [
    {
     "data": {
      "text/plain": [
       "(torch.Size([10692, 5]), (10692, 6), torch.Size([10692]), (10692, 3))"
      ]
     },
     "execution_count": null,
     "metadata": {},
     "output_type": "execute_result"
    }
   ],
   "source": [
    "# Data prepraration\n",
    "# Personal attributes\n",
    "z = data[['AGE','MALE','INCOME','FIRST','PURPOSE']].copy()\n",
    "z = torch.tensor(z.values, dtype=torch.float)\n",
    "# Alternative attributes\n",
    "x = data[cols]\n",
    "# Observed choice (Train:0, SM: 1, Car: 2)\n",
    "y = data['CHOICE']\n",
    "y = torch.tensor(y.values,dtype=torch.long)\n",
    "y = y - 1\n",
    "# Availability\n",
    "av = data[['TRAIN_AV','SM_AV', 'CAR_AV']]\n",
    "\n",
    "z.shape, x.shape, y.shape, av.shape"
   ]
  },
  {
   "cell_type": "code",
   "execution_count": null,
   "metadata": {},
   "outputs": [
    {
     "name": "stdout",
     "output_type": "stream",
     "text": [
      "99 11442.4404296875\n",
      "199 10894.7841796875\n",
      "299 11327.0634765625\n",
      "399 10889.67578125\n",
      "499 11191.970703125\n",
      "599 11697.79296875\n",
      "699 10631.19921875\n",
      "799 12638.5673828125\n",
      "899 11262.587890625\n",
      "999 11491.1162109375\n",
      "1099 11567.58203125\n",
      "1199 12260.7451171875\n",
      "1299 11954.2138671875\n",
      "1399 13745.0087890625\n",
      "1499 11210.6728515625\n",
      "1599 13940.130859375\n",
      "1699 14963.1513671875\n",
      "1799 11559.541015625\n",
      "1899 15724.818359375\n",
      "1999 10556.94921875\n"
     ]
    }
   ],
   "source": [
    "N = z.shape[0]\n",
    "model = TasteMNL(N)\n",
    "lr = 1e-3\n",
    "# optimizer = torch.optim.SGD(model.parameters(),lr=lr)\n",
    "optimizer =  torch.optim.Adam(model.parameters(), lr = lr, weight_decay = 0.0)\n",
    "for t in range(2000):\n",
    "    # Forward\n",
    "    probs = model(z, x, av)\n",
    "    # Negative loglikelihood\n",
    "    loss = nll(probs,y)\n",
    "    if t % 100 == 99:\n",
    "        print(t, loss.item())\n",
    "    # Backward\n",
    "    mode.zero_grad()\n",
    "    loss.backward()\n",
    "    optimizer.step()"
   ]
  },
  {
   "cell_type": "code",
   "execution_count": null,
   "metadata": {},
   "outputs": [
    {
     "data": {
      "text/plain": [
       "(tensor(0.9804, grad_fn=<NllLossBackward>), tensor(0.5614))"
      ]
     },
     "execution_count": null,
     "metadata": {},
     "output_type": "execute_result"
    }
   ],
   "source": [
    "import torch.nn.functional as F\n",
    "loss_func = F.cross_entropy\n",
    "def accuracy(out, yb): return (torch.argmax(out, dim=1)==yb).float().mean()\n",
    "loss_func(model(z,x,av), y), accuracy(model(z,x,av),y)"
   ]
  }
 ],
 "metadata": {
  "kernelspec": {
   "display_name": "Python 3",
   "language": "python",
   "name": "python3"
  }
 },
 "nbformat": 4,
 "nbformat_minor": 2
}
