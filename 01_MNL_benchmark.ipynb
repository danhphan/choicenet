{
 "cells": [
  {
   "cell_type": "code",
   "execution_count": 1,
   "metadata": {},
   "outputs": [],
   "source": [
    "# default_exp MNL_benchmark"
   ]
  },
  {
   "cell_type": "markdown",
   "metadata": {},
   "source": [
    "# MNL benchmark\n",
    "\n",
    "> Benchmark with Swissmetro dataset => Chang utility function same as in TasteNet paper"
   ]
  },
  {
   "cell_type": "code",
   "execution_count": 3,
   "metadata": {},
   "outputs": [],
   "source": [
    "#hide\n",
    "from nbdev.showdoc import *"
   ]
  },
  {
   "cell_type": "code",
   "execution_count": 5,
   "metadata": {},
   "outputs": [],
   "source": [
    "#export\n",
    "import numpy as np\n",
    "import pandas as pd\n",
    "import biogeme.database as db\n",
    "import biogeme.biogeme as bio\n",
    "import biogeme.models as models\n",
    "from biogeme.expressions import Beta"
   ]
  },
  {
   "cell_type": "markdown",
   "metadata": {},
   "source": [
    "#### Data preparation"
   ]
  },
  {
   "cell_type": "code",
   "execution_count": 6,
   "metadata": {},
   "outputs": [
    {
     "data": {
      "text/plain": [
       "(7484, 28)"
      ]
     },
     "execution_count": 6,
     "metadata": {},
     "output_type": "execute_result"
    }
   ],
   "source": [
    "# read data\n",
    "df = pd.read_csv('./data/swissmetro_train.csv')\n",
    "df.shape"
   ]
  },
  {
   "cell_type": "code",
   "execution_count": 7,
   "metadata": {
    "scrolled": true
   },
   "outputs": [
    {
     "data": {
      "text/html": [
       "<div>\n",
       "<style scoped>\n",
       "    .dataframe tbody tr th:only-of-type {\n",
       "        vertical-align: middle;\n",
       "    }\n",
       "\n",
       "    .dataframe tbody tr th {\n",
       "        vertical-align: top;\n",
       "    }\n",
       "\n",
       "    .dataframe thead th {\n",
       "        text-align: right;\n",
       "    }\n",
       "</style>\n",
       "<table border=\"1\" class=\"dataframe\">\n",
       "  <thead>\n",
       "    <tr style=\"text-align: right;\">\n",
       "      <th></th>\n",
       "      <th>GROUP</th>\n",
       "      <th>SURVEY</th>\n",
       "      <th>SP</th>\n",
       "      <th>ID</th>\n",
       "      <th>PURPOSE</th>\n",
       "      <th>FIRST</th>\n",
       "      <th>TICKET</th>\n",
       "      <th>WHO</th>\n",
       "      <th>LUGGAGE</th>\n",
       "      <th>AGE</th>\n",
       "      <th>...</th>\n",
       "      <th>TRAIN_TT</th>\n",
       "      <th>TRAIN_CO</th>\n",
       "      <th>TRAIN_HE</th>\n",
       "      <th>SM_TT</th>\n",
       "      <th>SM_CO</th>\n",
       "      <th>SM_HE</th>\n",
       "      <th>SM_SEATS</th>\n",
       "      <th>CAR_TT</th>\n",
       "      <th>CAR_CO</th>\n",
       "      <th>CHOICE</th>\n",
       "    </tr>\n",
       "  </thead>\n",
       "  <tbody>\n",
       "    <tr>\n",
       "      <th>count</th>\n",
       "      <td>7484.000000</td>\n",
       "      <td>7484.000000</td>\n",
       "      <td>7484.0</td>\n",
       "      <td>7484.000000</td>\n",
       "      <td>7484.000000</td>\n",
       "      <td>7484.000000</td>\n",
       "      <td>7484.000000</td>\n",
       "      <td>7484.000000</td>\n",
       "      <td>7484.000000</td>\n",
       "      <td>7484.000000</td>\n",
       "      <td>...</td>\n",
       "      <td>7484.000000</td>\n",
       "      <td>7484.000000</td>\n",
       "      <td>7484.000000</td>\n",
       "      <td>7484.000000</td>\n",
       "      <td>7484.000000</td>\n",
       "      <td>7484.000000</td>\n",
       "      <td>7484.000000</td>\n",
       "      <td>7484.000000</td>\n",
       "      <td>7484.000000</td>\n",
       "      <td>7484.000000</td>\n",
       "    </tr>\n",
       "    <tr>\n",
       "      <th>mean</th>\n",
       "      <td>2.631614</td>\n",
       "      <td>0.631614</td>\n",
       "      <td>1.0</td>\n",
       "      <td>597.088856</td>\n",
       "      <td>2.899653</td>\n",
       "      <td>0.473544</td>\n",
       "      <td>2.898049</td>\n",
       "      <td>1.497595</td>\n",
       "      <td>0.675975</td>\n",
       "      <td>2.898985</td>\n",
       "      <td>...</td>\n",
       "      <td>167.127338</td>\n",
       "      <td>512.706975</td>\n",
       "      <td>69.857028</td>\n",
       "      <td>87.760289</td>\n",
       "      <td>669.774452</td>\n",
       "      <td>20.061464</td>\n",
       "      <td>0.117451</td>\n",
       "      <td>124.153260</td>\n",
       "      <td>79.018306</td>\n",
       "      <td>2.155933</td>\n",
       "    </tr>\n",
       "    <tr>\n",
       "      <th>std</th>\n",
       "      <td>0.482399</td>\n",
       "      <td>0.482399</td>\n",
       "      <td>0.0</td>\n",
       "      <td>343.772433</td>\n",
       "      <td>1.110953</td>\n",
       "      <td>0.499333</td>\n",
       "      <td>2.191708</td>\n",
       "      <td>0.710073</td>\n",
       "      <td>0.599483</td>\n",
       "      <td>1.027071</td>\n",
       "      <td>...</td>\n",
       "      <td>78.343306</td>\n",
       "      <td>1083.101925</td>\n",
       "      <td>37.295564</td>\n",
       "      <td>55.210542</td>\n",
       "      <td>1436.019973</td>\n",
       "      <td>8.164189</td>\n",
       "      <td>0.321978</td>\n",
       "      <td>89.711416</td>\n",
       "      <td>55.083844</td>\n",
       "      <td>0.629260</td>\n",
       "    </tr>\n",
       "    <tr>\n",
       "      <th>min</th>\n",
       "      <td>2.000000</td>\n",
       "      <td>0.000000</td>\n",
       "      <td>1.0</td>\n",
       "      <td>1.000000</td>\n",
       "      <td>1.000000</td>\n",
       "      <td>0.000000</td>\n",
       "      <td>1.000000</td>\n",
       "      <td>0.000000</td>\n",
       "      <td>0.000000</td>\n",
       "      <td>1.000000</td>\n",
       "      <td>...</td>\n",
       "      <td>31.000000</td>\n",
       "      <td>8.000000</td>\n",
       "      <td>30.000000</td>\n",
       "      <td>8.000000</td>\n",
       "      <td>10.000000</td>\n",
       "      <td>10.000000</td>\n",
       "      <td>0.000000</td>\n",
       "      <td>0.000000</td>\n",
       "      <td>0.000000</td>\n",
       "      <td>1.000000</td>\n",
       "    </tr>\n",
       "    <tr>\n",
       "      <th>25%</th>\n",
       "      <td>2.000000</td>\n",
       "      <td>0.000000</td>\n",
       "      <td>1.0</td>\n",
       "      <td>299.000000</td>\n",
       "      <td>2.000000</td>\n",
       "      <td>0.000000</td>\n",
       "      <td>1.000000</td>\n",
       "      <td>1.000000</td>\n",
       "      <td>0.000000</td>\n",
       "      <td>2.000000</td>\n",
       "      <td>...</td>\n",
       "      <td>110.000000</td>\n",
       "      <td>58.000000</td>\n",
       "      <td>30.000000</td>\n",
       "      <td>54.000000</td>\n",
       "      <td>71.000000</td>\n",
       "      <td>10.000000</td>\n",
       "      <td>0.000000</td>\n",
       "      <td>70.000000</td>\n",
       "      <td>40.000000</td>\n",
       "      <td>2.000000</td>\n",
       "    </tr>\n",
       "    <tr>\n",
       "      <th>50%</th>\n",
       "      <td>3.000000</td>\n",
       "      <td>1.000000</td>\n",
       "      <td>1.0</td>\n",
       "      <td>599.000000</td>\n",
       "      <td>3.000000</td>\n",
       "      <td>0.000000</td>\n",
       "      <td>3.000000</td>\n",
       "      <td>1.000000</td>\n",
       "      <td>1.000000</td>\n",
       "      <td>3.000000</td>\n",
       "      <td>...</td>\n",
       "      <td>159.000000</td>\n",
       "      <td>94.000000</td>\n",
       "      <td>60.000000</td>\n",
       "      <td>79.000000</td>\n",
       "      <td>112.000000</td>\n",
       "      <td>20.000000</td>\n",
       "      <td>0.000000</td>\n",
       "      <td>120.000000</td>\n",
       "      <td>76.000000</td>\n",
       "      <td>2.000000</td>\n",
       "    </tr>\n",
       "    <tr>\n",
       "      <th>75%</th>\n",
       "      <td>3.000000</td>\n",
       "      <td>1.000000</td>\n",
       "      <td>1.0</td>\n",
       "      <td>893.000000</td>\n",
       "      <td>3.000000</td>\n",
       "      <td>1.000000</td>\n",
       "      <td>3.000000</td>\n",
       "      <td>2.000000</td>\n",
       "      <td>1.000000</td>\n",
       "      <td>4.000000</td>\n",
       "      <td>...</td>\n",
       "      <td>209.000000</td>\n",
       "      <td>173.000000</td>\n",
       "      <td>120.000000</td>\n",
       "      <td>110.000000</td>\n",
       "      <td>210.000000</td>\n",
       "      <td>30.000000</td>\n",
       "      <td>0.000000</td>\n",
       "      <td>176.000000</td>\n",
       "      <td>112.000000</td>\n",
       "      <td>3.000000</td>\n",
       "    </tr>\n",
       "    <tr>\n",
       "      <th>max</th>\n",
       "      <td>3.000000</td>\n",
       "      <td>1.000000</td>\n",
       "      <td>1.0</td>\n",
       "      <td>1192.000000</td>\n",
       "      <td>8.000000</td>\n",
       "      <td>1.000000</td>\n",
       "      <td>10.000000</td>\n",
       "      <td>3.000000</td>\n",
       "      <td>3.000000</td>\n",
       "      <td>5.000000</td>\n",
       "      <td>...</td>\n",
       "      <td>1049.000000</td>\n",
       "      <td>5040.000000</td>\n",
       "      <td>120.000000</td>\n",
       "      <td>796.000000</td>\n",
       "      <td>6720.000000</td>\n",
       "      <td>30.000000</td>\n",
       "      <td>1.000000</td>\n",
       "      <td>1560.000000</td>\n",
       "      <td>520.000000</td>\n",
       "      <td>3.000000</td>\n",
       "    </tr>\n",
       "  </tbody>\n",
       "</table>\n",
       "<p>8 rows × 28 columns</p>\n",
       "</div>"
      ],
      "text/plain": [
       "             GROUP       SURVEY      SP           ID      PURPOSE  \\\n",
       "count  7484.000000  7484.000000  7484.0  7484.000000  7484.000000   \n",
       "mean      2.631614     0.631614     1.0   597.088856     2.899653   \n",
       "std       0.482399     0.482399     0.0   343.772433     1.110953   \n",
       "min       2.000000     0.000000     1.0     1.000000     1.000000   \n",
       "25%       2.000000     0.000000     1.0   299.000000     2.000000   \n",
       "50%       3.000000     1.000000     1.0   599.000000     3.000000   \n",
       "75%       3.000000     1.000000     1.0   893.000000     3.000000   \n",
       "max       3.000000     1.000000     1.0  1192.000000     8.000000   \n",
       "\n",
       "             FIRST       TICKET          WHO      LUGGAGE          AGE  ...  \\\n",
       "count  7484.000000  7484.000000  7484.000000  7484.000000  7484.000000  ...   \n",
       "mean      0.473544     2.898049     1.497595     0.675975     2.898985  ...   \n",
       "std       0.499333     2.191708     0.710073     0.599483     1.027071  ...   \n",
       "min       0.000000     1.000000     0.000000     0.000000     1.000000  ...   \n",
       "25%       0.000000     1.000000     1.000000     0.000000     2.000000  ...   \n",
       "50%       0.000000     3.000000     1.000000     1.000000     3.000000  ...   \n",
       "75%       1.000000     3.000000     2.000000     1.000000     4.000000  ...   \n",
       "max       1.000000    10.000000     3.000000     3.000000     5.000000  ...   \n",
       "\n",
       "          TRAIN_TT     TRAIN_CO     TRAIN_HE        SM_TT        SM_CO  \\\n",
       "count  7484.000000  7484.000000  7484.000000  7484.000000  7484.000000   \n",
       "mean    167.127338   512.706975    69.857028    87.760289   669.774452   \n",
       "std      78.343306  1083.101925    37.295564    55.210542  1436.019973   \n",
       "min      31.000000     8.000000    30.000000     8.000000    10.000000   \n",
       "25%     110.000000    58.000000    30.000000    54.000000    71.000000   \n",
       "50%     159.000000    94.000000    60.000000    79.000000   112.000000   \n",
       "75%     209.000000   173.000000   120.000000   110.000000   210.000000   \n",
       "max    1049.000000  5040.000000   120.000000   796.000000  6720.000000   \n",
       "\n",
       "             SM_HE     SM_SEATS       CAR_TT       CAR_CO       CHOICE  \n",
       "count  7484.000000  7484.000000  7484.000000  7484.000000  7484.000000  \n",
       "mean     20.061464     0.117451   124.153260    79.018306     2.155933  \n",
       "std       8.164189     0.321978    89.711416    55.083844     0.629260  \n",
       "min      10.000000     0.000000     0.000000     0.000000     1.000000  \n",
       "25%      10.000000     0.000000    70.000000    40.000000     2.000000  \n",
       "50%      20.000000     0.000000   120.000000    76.000000     2.000000  \n",
       "75%      30.000000     0.000000   176.000000   112.000000     3.000000  \n",
       "max      30.000000     1.000000  1560.000000   520.000000     3.000000  \n",
       "\n",
       "[8 rows x 28 columns]"
      ]
     },
     "execution_count": 7,
     "metadata": {},
     "output_type": "execute_result"
    }
   ],
   "source": [
    "df.describe()"
   ]
  },
  {
   "cell_type": "code",
   "execution_count": 9,
   "metadata": {},
   "outputs": [
    {
     "data": {
      "text/plain": [
       "Index(['GROUP', 'SURVEY', 'SP', 'ID', 'PURPOSE', 'FIRST', 'TICKET', 'WHO',\n",
       "       'LUGGAGE', 'AGE', 'MALE', 'INCOME', 'GA', 'ORIGIN', 'DEST', 'TRAIN_AV',\n",
       "       'CAR_AV', 'SM_AV', 'TRAIN_TT', 'TRAIN_CO', 'TRAIN_HE', 'SM_TT', 'SM_CO',\n",
       "       'SM_HE', 'SM_SEATS', 'CAR_TT', 'CAR_CO', 'CHOICE'],\n",
       "      dtype='object')"
      ]
     },
     "execution_count": 9,
     "metadata": {},
     "output_type": "execute_result"
    }
   ],
   "source": [
    "df.columns"
   ]
  },
  {
   "cell_type": "code",
   "execution_count": 20,
   "metadata": {},
   "outputs": [
    {
     "data": {
      "text/plain": [
       "3    2682\n",
       "2    2321\n",
       "4    1425\n",
       "5     563\n",
       "1     493\n",
       "Name: AGE, dtype: int64"
      ]
     },
     "execution_count": 20,
     "metadata": {},
     "output_type": "execute_result"
    }
   ],
   "source": [
    "df.AGE.value_counts()"
   ]
  },
  {
   "cell_type": "markdown",
   "metadata": {},
   "source": [
    "### 1. Biogeme"
   ]
  },
  {
   "cell_type": "code",
   "execution_count": 80,
   "metadata": {},
   "outputs": [],
   "source": [
    "database = db.Database('swissmetro', df)\n",
    "globals().update(database.variables)"
   ]
  },
  {
   "cell_type": "code",
   "execution_count": 81,
   "metadata": {},
   "outputs": [],
   "source": [
    "# Define parameters\n",
    "ASC_TRAIN = Beta('ASC_TRAIN', 0, None, None, 0)\n",
    "ASC_SM = Beta('ASC_SM', 0, None, None, 0)\n",
    "ASC_CAR = Beta('ASC_CAR',0, None, None, 1) # Constant\n",
    "\n",
    "B_TIME_TRAIN = Beta('B_TIME_TRAIN', 0, None, None, 0)\n",
    "B_TIME_SM = Beta('B_TIME_SM', 0, None, None, 0)\n",
    "B_TIME_CAR = Beta('B_TIME_CAR', 0, None, None, 0)\n",
    "\n",
    "B_HEADWAY_TRAIN = Beta('B_HEADWAY_TRAIN', 0, None, None, 0)\n",
    "B_HEADWAY_SM = Beta('B_HEADWAY_SM', 0, None, None, 0)\n",
    "\n",
    "B_COST_TRAIN = Beta('B_COST_TRAIN', -1, None, None, 1) # Fixed\n",
    "B_COST_SM = Beta('B_COST_SM', -1, None, None, 1) # Fixed\n",
    "B_COST_CAR = Beta('B_COST_CAR', -1, None, None, 1) # Fixed\n",
    "# B_COST_TRAIN = Beta('B_COST_TRAIN', 0, None, None, 0) # Fixed\n",
    "# B_COST_SM = Beta('B_COST_SM', 0, None, None, 0) # Fixed\n",
    "# B_COST_CAR = Beta('B_COST_CAR', 0, None, None, 0) # Fixed"
   ]
  },
  {
   "cell_type": "code",
   "execution_count": 82,
   "metadata": {},
   "outputs": [],
   "source": [
    "# Definition of new variables\n",
    "SM_CO = SM_CO * (GA == 0)\n",
    "TRAIN_CO = TRAIN_CO * (GA == 0)\n",
    "\n",
    "CAR_AV = CAR_AV * (SP != 0)\n",
    "TRAIN_AV = TRAIN_AV * (SP != 0)"
   ]
  },
  {
   "cell_type": "code",
   "execution_count": 83,
   "metadata": {},
   "outputs": [],
   "source": [
    "## Definition of the utility functions\n",
    "V1 = ASC_TRAIN + B_TIME_TRAIN * TRAIN_TT + B_HEADWAY_TRAIN * TRAIN_HE + B_COST_TRAIN * TRAIN_CO\n",
    "V2 = ASC_SM + B_TIME_SM * SM_TT + B_HEADWAY_SM * SM_HE + B_COST_SM * SM_CO\n",
    "V3 = ASC_CAR + B_TIME_CAR * CAR_TT + B_COST_CAR * CAR_CO "
   ]
  },
  {
   "cell_type": "code",
   "execution_count": 84,
   "metadata": {},
   "outputs": [],
   "source": [
    "# Associate utility functions with the numbering of alternatives\n",
    "V = {1: V1,\n",
    "     2: V2,\n",
    "     3: V3}\n",
    "\n",
    "# Associate the availability conditions with the alternatives\n",
    "av = {1: TRAIN_AV,\n",
    "      2: SM_AV,\n",
    "      3: CAR_AV}"
   ]
  },
  {
   "cell_type": "code",
   "execution_count": 85,
   "metadata": {},
   "outputs": [],
   "source": [
    "# Definition of the model. This is the contribution of each\n",
    "# observation to the log likelihood function.\n",
    "logprob = models.loglogit(V, av, CHOICE)\n",
    "\n",
    "# Create the Biogeme object\n",
    "biogeme = bio.BIOGEME(database, logprob)\n",
    "# biogeme.modelName = '01logit'\n",
    "biogeme.modelName = 'MNL_A'"
   ]
  },
  {
   "cell_type": "code",
   "execution_count": 86,
   "metadata": {},
   "outputs": [
    {
     "name": "stdout",
     "output_type": "stream",
     "text": [
      "                    Value   Std err     t-test       p-value  Rob. Std err  \\\n",
      "ASC_SM           0.729244  0.098901   7.373464  1.663114e-13      0.109824   \n",
      "ASC_TRAIN        0.956208  0.129172   7.402585  1.334488e-13      0.135637   \n",
      "B_COST_CAR      -0.006672  0.000943  -7.071452  1.533218e-12      0.001259   \n",
      "B_COST_SM       -0.007911  0.000446 -17.734670  0.000000e+00      0.000627   \n",
      "B_COST_TRAIN    -0.018745  0.000951 -19.703251  0.000000e+00      0.001515   \n",
      "B_HEADWAY_SM    -0.007075  0.003051  -2.319051  2.039228e-02      0.003102   \n",
      "B_HEADWAY_TRAIN -0.006277  0.001002  -6.265781  3.709619e-10      0.000994   \n",
      "B_TIME_CAR      -0.009673  0.000690 -14.020815  0.000000e+00      0.001241   \n",
      "B_TIME_SM       -0.013123  0.000730 -17.978813  0.000000e+00      0.001307   \n",
      "B_TIME_TRAIN    -0.012936  0.000768 -16.836669  0.000000e+00      0.001071   \n",
      "\n",
      "                 Rob. t-test  Rob. p-value  \n",
      "ASC_SM              6.640130  3.134049e-11  \n",
      "ASC_TRAIN           7.049757  1.792344e-12  \n",
      "B_COST_CAR         -5.299768  1.159498e-07  \n",
      "B_COST_SM         -12.621475  0.000000e+00  \n",
      "B_COST_TRAIN      -12.370855  0.000000e+00  \n",
      "B_HEADWAY_SM       -2.281099  2.254256e-02  \n",
      "B_HEADWAY_TRAIN    -6.312293  2.749310e-10  \n",
      "B_TIME_CAR         -7.792234  6.661338e-15  \n",
      "B_TIME_SM         -10.038817  0.000000e+00  \n",
      "B_TIME_TRAIN      -12.083294  0.000000e+00  \n"
     ]
    }
   ],
   "source": [
    "# Estimate the parameters\n",
    "results = biogeme.estimate()\n",
    "# Get the results in a pandas table\n",
    "pandasResults = results.getEstimatedParameters()\n",
    "print(pandasResults)"
   ]
  },
  {
   "cell_type": "code",
   "execution_count": 87,
   "metadata": {},
   "outputs": [
    {
     "data": {
      "text/plain": [
       "ASC_SM             0.729244\n",
       "ASC_TRAIN          0.956208\n",
       "B_COST_CAR        -0.006672\n",
       "B_COST_SM         -0.007911\n",
       "B_COST_TRAIN      -0.018745\n",
       "B_HEADWAY_SM      -0.007075\n",
       "B_HEADWAY_TRAIN   -0.006277\n",
       "B_TIME_CAR        -0.009673\n",
       "B_TIME_SM         -0.013123\n",
       "B_TIME_TRAIN      -0.012936\n",
       "Name: Value, dtype: float64"
      ]
     },
     "execution_count": 87,
     "metadata": {},
     "output_type": "execute_result"
    }
   ],
   "source": [
    "pandasResults['Value']"
   ]
  },
  {
   "cell_type": "code",
   "execution_count": 30,
   "metadata": {},
   "outputs": [
    {
     "name": "stdout",
     "output_type": "stream",
     "text": [
      "Log likelihood for 1497 validation data: -22072.582684325316\n",
      "Log likelihood for 1497 validation data: -19786.512933319646\n",
      "Log likelihood for 1497 validation data: -22761.069770956114\n",
      "Log likelihood for 1497 validation data: -22437.29734738394\n",
      "Log likelihood for 1496 validation data: -18503.098702511194\n"
     ]
    }
   ],
   "source": [
    "# The validation consists in organizing the data into several slices\n",
    "# of about the same size, randomly defined. Each slice is considered\n",
    "# as a validation dataset. The model is then re-estimated using all\n",
    "# the data except the slice, and the estimated model is applied on the\n",
    "# validation set (i.e. the slice). The value of the log likelihood for\n",
    "# each observation in the validation set is reported in a\n",
    "# dataframe. As this is done for each slice, the output is a list of\n",
    "# dataframes, each corresponding to one of these exercises.\n",
    "\n",
    "validation_results = biogeme.validate(results,5)\n",
    "\n",
    "for slide in validation_results:\n",
    "    print(f'Log likelihood for {slide.shape[0]} validation data: {slide[\"Loglikelihood\"].sum()}')\n",
    "    "
   ]
  },
  {
   "cell_type": "code",
   "execution_count": 31,
   "metadata": {},
   "outputs": [],
   "source": [
    "slices = 5"
   ]
  },
  {
   "cell_type": "code",
   "execution_count": 32,
   "metadata": {},
   "outputs": [],
   "source": [
    "validationData = database.split(slices)"
   ]
  },
  {
   "cell_type": "code",
   "execution_count": 27,
   "metadata": {},
   "outputs": [
    {
     "data": {
      "text/plain": [
       "zip"
      ]
     },
     "execution_count": 27,
     "metadata": {},
     "output_type": "execute_result"
    }
   ],
   "source": [
    "type(validationData)"
   ]
  },
  {
   "cell_type": "code",
   "execution_count": 28,
   "metadata": {},
   "outputs": [
    {
     "name": "stdout",
     "output_type": "stream",
     "text": [
      "<class 'tuple'>\n",
      "<class 'tuple'>\n",
      "<class 'tuple'>\n",
      "<class 'tuple'>\n",
      "<class 'tuple'>\n"
     ]
    }
   ],
   "source": [
    "for v in validationData:\n",
    "    print(type(v))"
   ]
  },
  {
   "cell_type": "code",
   "execution_count": 29,
   "metadata": {},
   "outputs": [
    {
     "data": {
      "text/plain": [
       "(tuple, 2)"
      ]
     },
     "execution_count": 29,
     "metadata": {},
     "output_type": "execute_result"
    }
   ],
   "source": [
    "type(v), len(v)"
   ]
  },
  {
   "cell_type": "code",
   "execution_count": 30,
   "metadata": {},
   "outputs": [
    {
     "data": {
      "text/plain": [
       "(pandas.core.frame.DataFrame,\n",
       " pandas.core.frame.DataFrame,\n",
       " (8554, 28),\n",
       " (2138, 28))"
      ]
     },
     "execution_count": 30,
     "metadata": {},
     "output_type": "execute_result"
    }
   ],
   "source": [
    "type(v[0]), type(v[1]), v[0].shape, v[1].shape"
   ]
  },
  {
   "cell_type": "code",
   "execution_count": 31,
   "metadata": {},
   "outputs": [
    {
     "data": {
      "text/plain": [
       "biogeme.database.Database"
      ]
     },
     "execution_count": 31,
     "metadata": {},
     "output_type": "execute_result"
    }
   ],
   "source": [
    "keepDatabase = database\n",
    "type(keepDatabase)"
   ]
  },
  {
   "cell_type": "code",
   "execution_count": 32,
   "metadata": {},
   "outputs": [],
   "source": [
    "estimationResults = results"
   ]
  },
  {
   "cell_type": "code",
   "execution_count": 33,
   "metadata": {},
   "outputs": [],
   "source": [
    "allSimulationResults = []\n",
    "for v in validationData:\n",
    "    # v[0] is the estimation data set\n",
    "    database = db.Database('Estimation data', v[0])\n",
    "    biogeme.loglike.changeInitValues(estimationResults.getBetaValues())\n",
    "    results = biogeme.estimate()\n",
    "    simulate = {'Loglikelihood': biogeme.loglike}\n",
    "#     simBiogeme = BIOGEME(db.Database('Validation data', v[1]),\n",
    "#                          simulate)\n",
    "#     simResult = simBiogeme.simulate(results.getBetaValues())\n",
    "    simResult = biogeme.simulate(results.getBetaValues())\n",
    "    allSimulationResults.append(simResult)\n",
    "biogeme.database = keepDatabase"
   ]
  },
  {
   "cell_type": "code",
   "execution_count": 34,
   "metadata": {},
   "outputs": [
    {
     "data": {
      "text/plain": [
       "[]"
      ]
     },
     "execution_count": 34,
     "metadata": {},
     "output_type": "execute_result"
    }
   ],
   "source": [
    "allSimulationResults"
   ]
  },
  {
   "cell_type": "code",
   "execution_count": 35,
   "metadata": {},
   "outputs": [
    {
     "data": {
      "text/plain": [
       "(pandas.core.frame.DataFrame, (2138, 1))"
      ]
     },
     "execution_count": 35,
     "metadata": {},
     "output_type": "execute_result"
    }
   ],
   "source": [
    "# Get accuracy\n",
    "type(slide), slide.shape"
   ]
  },
  {
   "cell_type": "code",
   "execution_count": 36,
   "metadata": {},
   "outputs": [
    {
     "data": {
      "text/plain": [
       "<biogeme.results.bioResults at 0x7f612150fc10>"
      ]
     },
     "execution_count": 36,
     "metadata": {},
     "output_type": "execute_result"
    }
   ],
   "source": [
    "results"
   ]
  },
  {
   "cell_type": "markdown",
   "metadata": {},
   "source": [
    "### PyLogit"
   ]
  },
  {
   "cell_type": "code",
   "execution_count": 95,
   "metadata": {},
   "outputs": [],
   "source": [
    "#export\n",
    "from collections import OrderedDict\n",
    "import pandas as pd\n",
    "import numpy as np\n",
    "import pylogit as pl"
   ]
  },
  {
   "cell_type": "code",
   "execution_count": 96,
   "metadata": {},
   "outputs": [],
   "source": [
    "# wide_sm = pd.read_csv('./data/swissmetro_train.csv')\n",
    "\n",
    "# Load the raw swiss metro data\n",
    "# Note the .dat files are tab delimited text files\n",
    "swissmetro_wide = pd.read_csv(\"./data/swissmetro.dat\", sep='\\t')"
   ]
  },
  {
   "cell_type": "code",
   "execution_count": 97,
   "metadata": {},
   "outputs": [
    {
     "name": "stdout",
     "output_type": "stream",
     "text": [
      "The cleaned number of observations is 6,768.\n"
     ]
    }
   ],
   "source": [
    "# Select obervations whose choice is known (i.e. CHOICE != 0)\n",
    "# **AND** whose PURPOSE is either 1 or 3\n",
    "include_criteria = (swissmetro_wide.PURPOSE.isin([1, 3]) &\n",
    "                    (swissmetro_wide.CHOICE != 0))\n",
    "\n",
    "# Use \".copy()\" so that later on, we avoid performing operations \n",
    "# on a view of a dataframe as opposed to on an actual dataframe\n",
    "clean_sm_wide = swissmetro_wide.loc[include_criteria].copy()\n",
    "\n",
    "# Look at how many observations we have after removing unwanted\n",
    "# observations\n",
    "final_num_obs = clean_sm_wide.shape[0]\n",
    "num_obs_statement = \"The cleaned number of observations is {:,.0f}.\"\n",
    "print (num_obs_statement.format(final_num_obs))"
   ]
  },
  {
   "cell_type": "code",
   "execution_count": 98,
   "metadata": {},
   "outputs": [],
   "source": [
    "# Create a custom id column that ignores the fact that this is a \n",
    "# panel/repeated-observations dataset, and start the \"custom_id\" from 1\n",
    "clean_sm_wide[\"custom_id\"] = np.arange(clean_sm_wide.shape[0], dtype=int) + 1\n",
    "\n",
    "# Create the list of individual specific variables\n",
    "ind_variables = clean_sm_wide.columns.tolist()[:15]\n",
    "\n",
    "# Specify the variables that vary across individuals **AND** \n",
    "# across some or all alternatives\n",
    "alt_varying_variables = {u'travel_time': dict([(1, 'TRAIN_TT'),\n",
    "                                               (2, 'SM_TT'),\n",
    "                                               (3, 'CAR_TT')]),\n",
    "                          u'travel_cost': dict([(1, 'TRAIN_CO'),\n",
    "                                                (2, 'SM_CO'),\n",
    "                                                (3, 'CAR_CO')]),\n",
    "                          u'headway': dict([(1, 'TRAIN_HE'),\n",
    "                                            (2, 'SM_HE')]),\n",
    "                          u'seat_configuration': dict([(2, \"SM_SEATS\")])}\n",
    "\n",
    "# Specify the availability variables\n",
    "availability_variables = dict(zip(range(1, 4), ['TRAIN_AV', 'SM_AV', 'CAR_AV']))\n",
    "\n",
    "# Determine the columns that will denote the\n",
    "# new column of alternative ids, and the columns\n",
    "# that denote the custom observation ids and the \n",
    "# choice column\n",
    "new_alt_id = \"mode_id\"\n",
    "obs_id_column = \"custom_id\"\n",
    "choice_column = \"CHOICE\""
   ]
  },
  {
   "cell_type": "code",
   "execution_count": 99,
   "metadata": {},
   "outputs": [],
   "source": [
    "# Perform the desired conversion\n",
    "long_swiss_metro = pl.convert_wide_to_long(clean_sm_wide, \n",
    "                                           ind_variables, \n",
    "                                           alt_varying_variables, \n",
    "                                           availability_variables, \n",
    "                                           obs_id_column, \n",
    "                                           choice_column,\n",
    "                                           new_alt_id_name=new_alt_id)\n"
   ]
  },
  {
   "cell_type": "code",
   "execution_count": 100,
   "metadata": {},
   "outputs": [
    {
     "name": "stderr",
     "output_type": "stream",
     "text": [
      "/home/danph/anaconda3/envs/ml-dchoice/lib/python3.7/site-packages/pandas/core/computation/expressions.py:204: UserWarning: evaluating in Python space because the '*' operator is not supported by numexpr for the bool dtype, use '&' instead\n",
      "  f\"evaluating in Python space because the {repr(op_str)} \"\n"
     ]
    }
   ],
   "source": [
    "# Scale both the travel time and travel cost by 100\n",
    "long_swiss_metro[\"travel_time_hundredth\"] = (long_swiss_metro[\"travel_time\"] /\n",
    "                                             100.0)\n",
    "\n",
    "# Figure out which rows correspond to train or swiss metro \n",
    "# alternatives for individuals with GA passes. These individuals face no \n",
    "# marginal costs for a trip\n",
    "train_pass_train_alt = ((long_swiss_metro[\"GA\"] == 1) *\n",
    "                        (long_swiss_metro[\"mode_id\"].isin([1, 2]))).astype(int)\n",
    "# Note that the (train_pass_train_alt == 0) term accounts for the\n",
    "# fact that those with a GA pass have no marginal cost for the trip\n",
    "long_swiss_metro[\"travel_cost_hundredth\"] = (long_swiss_metro[\"travel_cost\"] *\n",
    "                                             (train_pass_train_alt == 0) /\n",
    "                                             100.0)"
   ]
  },
  {
   "cell_type": "code",
   "execution_count": 104,
   "metadata": {},
   "outputs": [],
   "source": []
  },
  {
   "cell_type": "code",
   "execution_count": 105,
   "metadata": {},
   "outputs": [
    {
     "name": "stdout",
     "output_type": "stream",
     "text": [
      "Log-likelihood at zero: -6,964.6630\n",
      "Initial Log-likelihood: -6,964.6630\n",
      "Estimation Time for Point Estimation: 0.03 seconds.\n",
      "Final log-likelihood: -5,331.2520\n"
     ]
    },
    {
     "name": "stderr",
     "output_type": "stream",
     "text": [
      "/home/danph/anaconda3/envs/ml-dchoice/lib/python3.7/site-packages/scipy/optimize/_minimize.py:523: RuntimeWarning: Method BFGS does not use Hessian information (hess).\n",
      "  RuntimeWarning)\n"
     ]
    }
   ],
   "source": [
    "# Provide the module with the needed input arguments to create\n",
    "# an instance of the MNL model class\n",
    "example_mnl = pl.create_choice_model(data=long_swiss_metro,\n",
    "                                     alt_id_col=new_alt_id,\n",
    "                                     obs_id_col=obs_id_column,\n",
    "                                     choice_col=choice_column,\n",
    "                                     specification=example_specification,\n",
    "                                     model_type=\"MNL\",\n",
    "                                     names=example_names)\n",
    "\n",
    "# Start the model estimation from initial values of all zeros\n",
    "# i.e. 4 zeros for the 4 coefficients being estimated\n",
    "example_mnl.fit_mle(np.zeros(4))"
   ]
  },
  {
   "cell_type": "code",
   "execution_count": 106,
   "metadata": {},
   "outputs": [
    {
     "data": {
      "text/html": [
       "<table class=\"simpletable\">\n",
       "<caption>Multinomial Logit Model Regression Results</caption>\n",
       "<tr>\n",
       "  <th>Dep. Variable:</th>         <td>CHOICE</td>          <th>  No. Observations:  </th>    <td>6,768</td>  \n",
       "</tr>\n",
       "<tr>\n",
       "  <th>Model:</th>         <td>Multinomial Logit Model</td> <th>  Df Residuals:      </th>    <td>6,764</td>  \n",
       "</tr>\n",
       "<tr>\n",
       "  <th>Method:</th>                  <td>MLE</td>           <th>  Df Model:          </th>      <td>4</td>    \n",
       "</tr>\n",
       "<tr>\n",
       "  <th>Date:</th>             <td>Wed, 10 Mar 2021</td>     <th>  Pseudo R-squ.:     </th>    <td>0.235</td>  \n",
       "</tr>\n",
       "<tr>\n",
       "  <th>Time:</th>                 <td>19:34:53</td>         <th>  Pseudo R-bar-squ.: </th>    <td>0.234</td>  \n",
       "</tr>\n",
       "<tr>\n",
       "  <th>AIC:</th>                 <td>10,670.504</td>        <th>  Log-Likelihood:    </th> <td>-5,331.252</td>\n",
       "</tr>\n",
       "<tr>\n",
       "  <th>BIC:</th>                 <td>10,697.784</td>        <th>  LL-Null:           </th> <td>-6,964.663</td>\n",
       "</tr>\n",
       "</table>\n",
       "<table class=\"simpletable\">\n",
       "<tr>\n",
       "      <td></td>         <th>coef</th>     <th>std err</th>      <th>z</th>      <th>P>|z|</th>  <th>[0.025</th>    <th>0.975]</th>  \n",
       "</tr>\n",
       "<tr>\n",
       "  <th>ASC Car</th>   <td>   -0.1546</td> <td>    0.043</td> <td>   -3.577</td> <td> 0.000</td> <td>   -0.239</td> <td>   -0.070</td>\n",
       "</tr>\n",
       "<tr>\n",
       "  <th>ASC Train</th> <td>   -0.7012</td> <td>    0.055</td> <td>  -12.778</td> <td> 0.000</td> <td>   -0.809</td> <td>   -0.594</td>\n",
       "</tr>\n",
       "<tr>\n",
       "  <th>B_COST</th>    <td>   -1.0838</td> <td>    0.052</td> <td>  -20.910</td> <td> 0.000</td> <td>   -1.185</td> <td>   -0.982</td>\n",
       "</tr>\n",
       "<tr>\n",
       "  <th>B_TIME</th>    <td>   -1.2779</td> <td>    0.057</td> <td>  -22.465</td> <td> 0.000</td> <td>   -1.389</td> <td>   -1.166</td>\n",
       "</tr>\n",
       "</table>"
      ],
      "text/plain": [
       "<class 'statsmodels.iolib.summary.Summary'>\n",
       "\"\"\"\n",
       "                     Multinomial Logit Model Regression Results                    \n",
       "===================================================================================\n",
       "Dep. Variable:                      CHOICE   No. Observations:                6,768\n",
       "Model:             Multinomial Logit Model   Df Residuals:                    6,764\n",
       "Method:                                MLE   Df Model:                            4\n",
       "Date:                     Wed, 10 Mar 2021   Pseudo R-squ.:                   0.235\n",
       "Time:                             19:34:53   Pseudo R-bar-squ.:               0.234\n",
       "AIC:                            10,670.504   Log-Likelihood:             -5,331.252\n",
       "BIC:                            10,697.784   LL-Null:                    -6,964.663\n",
       "==============================================================================\n",
       "                 coef    std err          z      P>|z|      [0.025      0.975]\n",
       "------------------------------------------------------------------------------\n",
       "ASC Car       -0.1546      0.043     -3.577      0.000      -0.239      -0.070\n",
       "ASC Train     -0.7012      0.055    -12.778      0.000      -0.809      -0.594\n",
       "B_COST        -1.0838      0.052    -20.910      0.000      -1.185      -0.982\n",
       "B_TIME        -1.2779      0.057    -22.465      0.000      -1.389      -1.166\n",
       "==============================================================================\n",
       "\"\"\""
      ]
     },
     "execution_count": 106,
     "metadata": {},
     "output_type": "execute_result"
    }
   ],
   "source": [
    "# Look at the estimated coefficients and goodness-of-fit statistics\n",
    "example_mnl.get_statsmodels_summary()"
   ]
  },
  {
   "cell_type": "code",
   "execution_count": null,
   "metadata": {},
   "outputs": [],
   "source": []
  },
  {
   "cell_type": "code",
   "execution_count": null,
   "metadata": {},
   "outputs": [],
   "source": []
  }
 ],
 "metadata": {
  "kernelspec": {
   "display_name": "Python 3",
   "language": "python",
   "name": "python3"
  },
  "language_info": {
   "codemirror_mode": {
    "name": "ipython",
    "version": 3
   },
   "file_extension": ".py",
   "mimetype": "text/x-python",
   "name": "python",
   "nbconvert_exporter": "python",
   "pygments_lexer": "ipython3",
   "version": "3.7.10"
  }
 },
 "nbformat": 4,
 "nbformat_minor": 2
}
