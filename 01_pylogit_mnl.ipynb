{
 "cells": [
  {
   "cell_type": "code",
   "execution_count": 1,
   "id": "deadly-winning",
   "metadata": {},
   "outputs": [],
   "source": [
    "# Source code from: https://github.com/timothyb0912/pylogit"
   ]
  },
  {
   "cell_type": "code",
   "execution_count": 4,
   "id": "british-employment",
   "metadata": {},
   "outputs": [],
   "source": [
    "from collections import OrderedDict\n",
    "import numpy as np\n",
    "import pandas as pd\n",
    "import pylogit as pl"
   ]
  },
  {
   "cell_type": "markdown",
   "id": "alert-inflation",
   "metadata": {},
   "source": [
    "### Load Swiss metro data"
   ]
  },
  {
   "cell_type": "code",
   "execution_count": 5,
   "id": "textile-weekly",
   "metadata": {},
   "outputs": [
    {
     "data": {
      "text/plain": [
       "(19143, 22)"
      ]
     },
     "execution_count": 5,
     "metadata": {},
     "output_type": "execute_result"
    }
   ],
   "source": [
    "sm_long = pd.read_csv(\"./data/swissmetro_long.csv\")\n",
    "sm_long.shape"
   ]
  },
  {
   "cell_type": "markdown",
   "id": "lovely-physics",
   "metadata": {},
   "source": [
    "### Create the model specification\n",
    "The model specification being used in this example is the following:\n",
    "$$\n",
    "\\begin{aligned}\n",
    "V_{i, \\textrm{Train}} &= \\textrm{ASC Train} + \\\\\n",
    "&\\quad \\beta _{ \\textrm{tt_train} } \\textrm{Travel Time} _{ \\textrm{Train}} + \\\\\n",
    "&\\quad \\beta _{ \\textrm{tc_train} } \\textrm{Travel Cost}_{\\textrm{Train}} * \\left( GA == 0 \\right) + \\\\\n",
    "&\\quad \\beta _{ \\textrm{headway_train} } \\textrm{Headway} _{\\textrm{Train}} \\\\\n",
    "\\\\\n",
    "V_{i, \\textrm{Swissmetro}} &= \\textrm{ASC Swissmetro} + \\\\\n",
    "&\\quad \\beta _{ \\textrm{tt_sm} } \\textrm{Travel Time} _{ \\textrm{Swissmetro}} + \\\\\n",
    "&\\quad \\beta _{ \\textrm{tc_sm} } \\textrm{Travel Cost}_{\\textrm{Swissmetro}} * \\left( GA == 0 \\right) + \\\\\n",
    "&\\quad \\beta _{ \\textrm{headway_sm} } \\textrm{Heaway} _{\\textrm{Swissmetro}} \\\\\n",
    "% &\\quad \\beta _{ \\textrm{seat} } \\left( \\textrm{Seat Configuration} == 1 \\right) \\\\\n",
    "% &\\quad \\beta _{ \\textrm{survey} } \\left( \\textrm{Train Survey} == 1 \\right) \\\\\n",
    "% &\\quad \\beta _{ \\textrm{first_class} } \\left( \\textrm{First Class} == 0 \\right) \\\\\n",
    "\\\\\n",
    "V_{i, \\textrm{Car}} &= \\beta _{ \\textrm{tt_car} } \\textrm{Travel Time} _{ \\textrm{Car}} + \\\\\n",
    "&\\quad \\beta _{ \\textrm{tc_car}} \\textrm{Travel Cost}_{\\textrm{Car}} \\\\\n",
    "% &\\quad \\beta _{\\textrm{luggage}=1} \\left( \\textrm{Luggage} == 1 \\right) + \\\\\n",
    "% &\\quad \\beta _{\\textrm{luggage}>1} \\left( \\textrm{Luggage} > 1 \\right)\n",
    "\\end{aligned}\n",
    "$$"
   ]
  },
  {
   "cell_type": "code",
   "execution_count": 6,
   "id": "closed-veteran",
   "metadata": {},
   "outputs": [],
   "source": [
    "# Get free_ticket\n",
    "sm_long[\"free_ticket\"] = (((sm_long[\"GA\"] == 1) | (sm_long[\"WHO\"] == 2)) &\n",
    "                            sm_long[\"mode_id\"].isin([1,2])).astype(int)\n",
    "# Update travel cost\n",
    "sm_long[\"travel_cost\"] = sm_long[\"travel_cost\"] * (sm_long[\"free_ticket\"] == 0)"
   ]
  },
  {
   "cell_type": "code",
   "execution_count": 7,
   "id": "demographic-responsibility",
   "metadata": {},
   "outputs": [],
   "source": [
    "spec = OrderedDict()\n",
    "spec[\"intercept\"] = [1, 2]\n",
    "spec[\"travel_time\"] = [1, 2, 3]\n",
    "spec[\"travel_cost\"] = [1, 2, 3]\n",
    "spec[\"headway\"] = [1, 2]"
   ]
  },
  {
   "cell_type": "code",
   "execution_count": 8,
   "id": "alien-evolution",
   "metadata": {},
   "outputs": [
    {
     "name": "stdout",
     "output_type": "stream",
     "text": [
      "Log-likelihood at zero: -6,964.6630\n",
      "Initial Log-likelihood: -6,964.6630\n",
      "Estimation Time for Point Estimation: 0.11 seconds.\n",
      "Final log-likelihood: -5,533.4622\n"
     ]
    },
    {
     "name": "stderr",
     "output_type": "stream",
     "text": [
      "/home/danph/anaconda3/envs/ml-dchoice/lib/python3.7/site-packages/scipy/optimize/_minimize.py:523: RuntimeWarning: Method BFGS does not use Hessian information (hess).\n",
      "  RuntimeWarning)\n"
     ]
    },
    {
     "data": {
      "text/html": [
       "<table class=\"simpletable\">\n",
       "<caption>Multinomial Logit Model Regression Results</caption>\n",
       "<tr>\n",
       "  <th>Dep. Variable:</th>         <td>CHOICE</td>          <th>  No. Observations:  </th>    <td>6,768</td>  \n",
       "</tr>\n",
       "<tr>\n",
       "  <th>Model:</th>         <td>Multinomial Logit Model</td> <th>  Df Residuals:      </th>    <td>6,758</td>  \n",
       "</tr>\n",
       "<tr>\n",
       "  <th>Method:</th>                  <td>MLE</td>           <th>  Df Model:          </th>     <td>10</td>    \n",
       "</tr>\n",
       "<tr>\n",
       "  <th>Date:</th>             <td>Thu, 11 Mar 2021</td>     <th>  Pseudo R-squ.:     </th>    <td>0.205</td>  \n",
       "</tr>\n",
       "<tr>\n",
       "  <th>Time:</th>                 <td>14:59:10</td>         <th>  Pseudo R-bar-squ.: </th>    <td>0.204</td>  \n",
       "</tr>\n",
       "<tr>\n",
       "  <th>AIC:</th>                 <td>11,086.924</td>        <th>  Log-Likelihood:    </th> <td>-5,533.462</td>\n",
       "</tr>\n",
       "<tr>\n",
       "  <th>BIC:</th>                 <td>11,155.124</td>        <th>  LL-Null:           </th> <td>-6,964.663</td>\n",
       "</tr>\n",
       "</table>\n",
       "<table class=\"simpletable\">\n",
       "<tr>\n",
       "        <td></td>           <th>coef</th>     <th>std err</th>      <th>z</th>      <th>P>|z|</th>  <th>[0.025</th>    <th>0.975]</th>  \n",
       "</tr>\n",
       "<tr>\n",
       "  <th>intercept_1</th>   <td>    0.3955</td> <td>    0.137</td> <td>    2.896</td> <td> 0.004</td> <td>    0.128</td> <td>    0.663</td>\n",
       "</tr>\n",
       "<tr>\n",
       "  <th>intercept_2</th>   <td>    0.2729</td> <td>    0.105</td> <td>    2.599</td> <td> 0.009</td> <td>    0.067</td> <td>    0.479</td>\n",
       "</tr>\n",
       "<tr>\n",
       "  <th>travel_time_1</th> <td>   -0.0147</td> <td>    0.001</td> <td>  -19.071</td> <td> 0.000</td> <td>   -0.016</td> <td>   -0.013</td>\n",
       "</tr>\n",
       "<tr>\n",
       "  <th>travel_time_2</th> <td>   -0.0115</td> <td>    0.001</td> <td>  -13.766</td> <td> 0.000</td> <td>   -0.013</td> <td>   -0.010</td>\n",
       "</tr>\n",
       "<tr>\n",
       "  <th>travel_time_3</th> <td>   -0.0088</td> <td>    0.001</td> <td>  -12.543</td> <td> 0.000</td> <td>   -0.010</td> <td>   -0.007</td>\n",
       "</tr>\n",
       "<tr>\n",
       "  <th>travel_cost_1</th> <td>   -0.0049</td> <td>    0.001</td> <td>   -5.466</td> <td> 0.000</td> <td>   -0.007</td> <td>   -0.003</td>\n",
       "</tr>\n",
       "<tr>\n",
       "  <th>travel_cost_2</th> <td>   -0.0021</td> <td>    0.000</td> <td>   -4.890</td> <td> 0.000</td> <td>   -0.003</td> <td>   -0.001</td>\n",
       "</tr>\n",
       "<tr>\n",
       "  <th>travel_cost_3</th> <td>   -0.0030</td> <td>    0.001</td> <td>   -3.365</td> <td> 0.001</td> <td>   -0.005</td> <td>   -0.001</td>\n",
       "</tr>\n",
       "<tr>\n",
       "  <th>headway_1</th>     <td>   -0.0052</td> <td>    0.001</td> <td>   -5.085</td> <td> 0.000</td> <td>   -0.007</td> <td>   -0.003</td>\n",
       "</tr>\n",
       "<tr>\n",
       "  <th>headway_2</th>     <td>   -0.0065</td> <td>    0.003</td> <td>   -2.039</td> <td> 0.041</td> <td>   -0.013</td> <td>   -0.000</td>\n",
       "</tr>\n",
       "</table>"
      ],
      "text/plain": [
       "<class 'statsmodels.iolib.summary.Summary'>\n",
       "\"\"\"\n",
       "                     Multinomial Logit Model Regression Results                    \n",
       "===================================================================================\n",
       "Dep. Variable:                      CHOICE   No. Observations:                6,768\n",
       "Model:             Multinomial Logit Model   Df Residuals:                    6,758\n",
       "Method:                                MLE   Df Model:                           10\n",
       "Date:                     Thu, 11 Mar 2021   Pseudo R-squ.:                   0.205\n",
       "Time:                             14:59:10   Pseudo R-bar-squ.:               0.204\n",
       "AIC:                            11,086.924   Log-Likelihood:             -5,533.462\n",
       "BIC:                            11,155.124   LL-Null:                    -6,964.663\n",
       "=================================================================================\n",
       "                    coef    std err          z      P>|z|      [0.025      0.975]\n",
       "---------------------------------------------------------------------------------\n",
       "intercept_1       0.3955      0.137      2.896      0.004       0.128       0.663\n",
       "intercept_2       0.2729      0.105      2.599      0.009       0.067       0.479\n",
       "travel_time_1    -0.0147      0.001    -19.071      0.000      -0.016      -0.013\n",
       "travel_time_2    -0.0115      0.001    -13.766      0.000      -0.013      -0.010\n",
       "travel_time_3    -0.0088      0.001    -12.543      0.000      -0.010      -0.007\n",
       "travel_cost_1    -0.0049      0.001     -5.466      0.000      -0.007      -0.003\n",
       "travel_cost_2    -0.0021      0.000     -4.890      0.000      -0.003      -0.001\n",
       "travel_cost_3    -0.0030      0.001     -3.365      0.001      -0.005      -0.001\n",
       "headway_1        -0.0052      0.001     -5.085      0.000      -0.007      -0.003\n",
       "headway_2        -0.0065      0.003     -2.039      0.041      -0.013      -0.000\n",
       "=================================================================================\n",
       "\"\"\""
      ]
     },
     "execution_count": 8,
     "metadata": {},
     "output_type": "execute_result"
    }
   ],
   "source": [
    "# Estimate the multinomial logit model (MNL)\n",
    "sm_mnl = pl.create_choice_model(data=sm_long,\n",
    "                                alt_id_col=\"mode_id\",\n",
    "                                obs_id_col=\"custom_id\",\n",
    "                                choice_col=\"CHOICE\",\n",
    "                                specification=spec,\n",
    "                                model_type=\"MNL\")\n",
    "\n",
    "# Specify the initial values and method for the optimization.\n",
    "sm_mnl.fit_mle(np.zeros(10))\n",
    "\n",
    "# Look at the estimation results\n",
    "sm_mnl.get_statsmodels_summary()"
   ]
  },
  {
   "cell_type": "markdown",
   "id": "executed-journey",
   "metadata": {},
   "source": [
    "### Evaluation metrics"
   ]
  },
  {
   "cell_type": "code",
   "execution_count": 9,
   "id": "alternative-butterfly",
   "metadata": {},
   "outputs": [],
   "source": [
    "from sklearn.metrics import accuracy_score, f1_score, classification_report"
   ]
  },
  {
   "cell_type": "code",
   "execution_count": 10,
   "id": "liquid-brake",
   "metadata": {},
   "outputs": [],
   "source": [
    "def model_pred(data, model, alt_id_col, obs_id_col, choice_col):\n",
    "    data['predicted'] = model.predict(data)  \n",
    "    is_chosen = data.groupby([obs_id_col])['predicted'].idxmax()\n",
    "    data['predicted_choice'] = 0\n",
    "    data.loc[is_chosen.values,'predicted_choice'] = 1\n",
    "    \n",
    "    actual = data.loc[data[choice_column] ==1,alt_id_column]\n",
    "    pred = data.loc[data['predicted_choice'] ==1,alt_id_column]\n",
    "    return actual, pred   \n",
    "\n",
    "def nll():\n",
    "    pass\n",
    "\n",
    "alt_id_column = \"mode_id\"\n",
    "obs_id_column = \"custom_id\"\n",
    "choice_column = \"CHOICE\""
   ]
  },
  {
   "cell_type": "markdown",
   "id": "guided-sculpture",
   "metadata": {},
   "source": [
    "##### MNL model results"
   ]
  },
  {
   "cell_type": "code",
   "execution_count": 12,
   "id": "coordinated-albania",
   "metadata": {},
   "outputs": [
    {
     "name": "stdout",
     "output_type": "stream",
     "text": [
      "              precision    recall  f1-score   support\n",
      "\n",
      "           1       0.00      0.00      0.00       908\n",
      "           2       0.63      0.95      0.76      4090\n",
      "           3       0.62      0.22      0.33      1770\n",
      "\n",
      "    accuracy                           0.63      6768\n",
      "   macro avg       0.42      0.39      0.36      6768\n",
      "weighted avg       0.55      0.63      0.55      6768\n",
      "\n"
     ]
    },
    {
     "name": "stderr",
     "output_type": "stream",
     "text": [
      "/home/danph/anaconda3/envs/ml-dchoice/lib/python3.7/site-packages/sklearn/metrics/_classification.py:1221: UndefinedMetricWarning: Precision and F-score are ill-defined and being set to 0.0 in labels with no predicted samples. Use `zero_division` parameter to control this behavior.\n",
      "  _warn_prf(average, modifier, msg_start, len(result))\n"
     ]
    }
   ],
   "source": [
    "actual, predict = model_pred(sm_long, sm_mnl, alt_id_column, obs_id_column, choice_column)\n",
    "print(classification_report(actual, predict))"
   ]
  },
  {
   "cell_type": "code",
   "execution_count": 13,
   "id": "flexible-defense",
   "metadata": {},
   "outputs": [
    {
     "data": {
      "text/plain": [
       "(0.6334219858156028, 0.5457266773507111)"
      ]
     },
     "execution_count": 13,
     "metadata": {},
     "output_type": "execute_result"
    }
   ],
   "source": [
    "accuracy_score(actual, predict), f1_score(actual, predict, average=\"weighted\")"
   ]
  },
  {
   "cell_type": "code",
   "execution_count": null,
   "id": "maritime-genome",
   "metadata": {},
   "outputs": [],
   "source": []
  }
 ],
 "metadata": {
  "kernelspec": {
   "display_name": "Python 3",
   "language": "python",
   "name": "python3"
  },
  "language_info": {
   "codemirror_mode": {
    "name": "ipython",
    "version": 3
   },
   "file_extension": ".py",
   "mimetype": "text/x-python",
   "name": "python",
   "nbconvert_exporter": "python",
   "pygments_lexer": "ipython3",
   "version": "3.7.10"
  }
 },
 "nbformat": 4,
 "nbformat_minor": 5
}
