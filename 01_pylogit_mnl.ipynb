{
 "cells": [
  {
   "cell_type": "code",
   "execution_count": 1,
   "id": "deadly-winning",
   "metadata": {},
   "outputs": [],
   "source": [
    "# Source code from: https://github.com/timothyb0912/pylogit"
   ]
  },
  {
   "cell_type": "code",
   "execution_count": 10,
   "id": "british-employment",
   "metadata": {},
   "outputs": [],
   "source": [
    "from collections import OrderedDict\n",
    "import numpy as np\n",
    "import pandas as pd\n",
    "import pylogit as pl"
   ]
  },
  {
   "cell_type": "markdown",
   "id": "alert-inflation",
   "metadata": {},
   "source": [
    "### Load Swiss metro data"
   ]
  },
  {
   "cell_type": "code",
   "execution_count": 11,
   "id": "textile-weekly",
   "metadata": {},
   "outputs": [
    {
     "data": {
      "text/plain": [
       "(19143, 22)"
      ]
     },
     "execution_count": 11,
     "metadata": {},
     "output_type": "execute_result"
    }
   ],
   "source": [
    "sm_long = pd.read_csv(\"./data/swissmetro_long.csv\")\n",
    "sm_long.shape"
   ]
  },
  {
   "cell_type": "markdown",
   "id": "lovely-physics",
   "metadata": {},
   "source": [
    "### Create the model specification\n",
    "The model specification being used in this example is the following:\n",
    "$$\n",
    "\\begin{aligned}\n",
    "V_{i, \\textrm{Train}} &= \\textrm{ASC Train} + \\\\\n",
    "&\\quad \\beta _{ \\textrm{tt_train} } \\textrm{Travel Time} _{ \\textrm{Train}} + \\\\\n",
    "&\\quad \\beta _{ \\textrm{tc_train} } \\textrm{Travel Cost}_{\\textrm{Train}} * \\left( GA == 0 \\right) + \\\\\n",
    "&\\quad \\beta _{ \\textrm{headway_train} } \\textrm{Headway} _{\\textrm{Train}} \\\\\n",
    "\\\\\n",
    "V_{i, \\textrm{Swissmetro}} &= \\textrm{ASC Swissmetro} + \\\\\n",
    "&\\quad \\beta _{ \\textrm{tt_sm} } \\textrm{Travel Time} _{ \\textrm{Swissmetro}} + \\\\\n",
    "&\\quad \\beta _{ \\textrm{tc_sm} } \\textrm{Travel Cost}_{\\textrm{Swissmetro}} * \\left( GA == 0 \\right) + \\\\\n",
    "&\\quad \\beta _{ \\textrm{headway_sm} } \\textrm{Heaway} _{\\textrm{Swissmetro}} \\\\\n",
    "% &\\quad \\beta _{ \\textrm{seat} } \\left( \\textrm{Seat Configuration} == 1 \\right) \\\\\n",
    "% &\\quad \\beta _{ \\textrm{survey} } \\left( \\textrm{Train Survey} == 1 \\right) \\\\\n",
    "% &\\quad \\beta _{ \\textrm{first_class} } \\left( \\textrm{First Class} == 0 \\right) \\\\\n",
    "\\\\\n",
    "V_{i, \\textrm{Car}} &= \\beta _{ \\textrm{tt_car} } \\textrm{Travel Time} _{ \\textrm{Car}} + \\\\\n",
    "&\\quad \\beta _{ \\textrm{tc_car}} \\textrm{Travel Cost}_{\\textrm{Car}} \\\\\n",
    "% &\\quad \\beta _{\\textrm{luggage}=1} \\left( \\textrm{Luggage} == 1 \\right) + \\\\\n",
    "% &\\quad \\beta _{\\textrm{luggage}>1} \\left( \\textrm{Luggage} > 1 \\right)\n",
    "\\end{aligned}\n",
    "$$"
   ]
  },
  {
   "cell_type": "code",
   "execution_count": 12,
   "id": "closed-veteran",
   "metadata": {},
   "outputs": [],
   "source": [
    "# Update travel time (minutes => hours)\n",
    "# sm_long[\"travel_time\"] = sm_long[\"travel_time\"] \n",
    "# Get free_ticket\n",
    "sm_long[\"free_ticket\"] = (((sm_long[\"GA\"] == 1) | (sm_long[\"WHO\"]/ 100.0 == 2)) &\n",
    "                            sm_long[\"mode_id\"].isin([1,2])).astype(int)\n",
    "# Update travel cost\n",
    "sm_long[\"travel_cost\"] = (sm_long[\"travel_cost\"] * (sm_long[\"free_ticket\"] == 0)) "
   ]
  },
  {
   "cell_type": "code",
   "execution_count": null,
   "id": "stunning-hearts",
   "metadata": {},
   "outputs": [],
   "source": []
  },
  {
   "cell_type": "code",
   "execution_count": 13,
   "id": "demographic-responsibility",
   "metadata": {},
   "outputs": [],
   "source": [
    "spec = OrderedDict()\n",
    "spec[\"intercept\"] = [1, 2]\n",
    "spec[\"travel_time\"] = [1, 2, 3]\n",
    "spec[\"travel_cost\"] = [1, 2, 3]\n",
    "spec[\"headway\"] = [1, 2]"
   ]
  },
  {
   "cell_type": "code",
   "execution_count": 14,
   "id": "greenhouse-consumer",
   "metadata": {},
   "outputs": [
    {
     "name": "stdout",
     "output_type": "stream",
     "text": [
      "Log-likelihood at zero: -6,964.6630\n",
      "Initial Log-likelihood: -6,964.6630\n",
      "Estimation Time for Point Estimation: 0.07 seconds.\n",
      "Final log-likelihood: -5,060.4258\n"
     ]
    },
    {
     "name": "stderr",
     "output_type": "stream",
     "text": [
      "/home/danph/anaconda3/envs/ml-dchoice/lib/python3.7/site-packages/scipy/optimize/_minimize.py:523: RuntimeWarning: Method BFGS does not use Hessian information (hess).\n",
      "  RuntimeWarning)\n"
     ]
    },
    {
     "data": {
      "text/html": [
       "<table class=\"simpletable\">\n",
       "<caption>Multinomial Logit Model Regression Results</caption>\n",
       "<tr>\n",
       "  <th>Dep. Variable:</th>         <td>CHOICE</td>          <th>  No. Observations:  </th>    <td>6,768</td>  \n",
       "</tr>\n",
       "<tr>\n",
       "  <th>Model:</th>         <td>Multinomial Logit Model</td> <th>  Df Residuals:      </th>    <td>6,758</td>  \n",
       "</tr>\n",
       "<tr>\n",
       "  <th>Method:</th>                  <td>MLE</td>           <th>  Df Model:          </th>     <td>10</td>    \n",
       "</tr>\n",
       "<tr>\n",
       "  <th>Date:</th>             <td>Thu, 11 Mar 2021</td>     <th>  Pseudo R-squ.:     </th>    <td>0.273</td>  \n",
       "</tr>\n",
       "<tr>\n",
       "  <th>Time:</th>                 <td>18:12:33</td>         <th>  Pseudo R-bar-squ.: </th>    <td>0.272</td>  \n",
       "</tr>\n",
       "<tr>\n",
       "  <th>AIC:</th>                 <td>10,140.852</td>        <th>  Log-Likelihood:    </th> <td>-5,060.426</td>\n",
       "</tr>\n",
       "<tr>\n",
       "  <th>BIC:</th>                 <td>10,209.051</td>        <th>  LL-Null:           </th> <td>-6,964.663</td>\n",
       "</tr>\n",
       "</table>\n",
       "<table class=\"simpletable\">\n",
       "<tr>\n",
       "        <td></td>           <th>coef</th>     <th>std err</th>      <th>z</th>      <th>P>|z|</th>  <th>[0.025</th>    <th>0.975]</th>  \n",
       "</tr>\n",
       "<tr>\n",
       "  <th>intercept_1</th>   <td>    0.6291</td> <td>    0.143</td> <td>    4.408</td> <td> 0.000</td> <td>    0.349</td> <td>    0.909</td>\n",
       "</tr>\n",
       "<tr>\n",
       "  <th>intercept_2</th>   <td>    0.5003</td> <td>    0.110</td> <td>    4.567</td> <td> 0.000</td> <td>    0.286</td> <td>    0.715</td>\n",
       "</tr>\n",
       "<tr>\n",
       "  <th>travel_time_1</th> <td>   -0.0088</td> <td>    0.001</td> <td>  -10.608</td> <td> 0.000</td> <td>   -0.010</td> <td>   -0.007</td>\n",
       "</tr>\n",
       "<tr>\n",
       "  <th>travel_time_2</th> <td>   -0.0111</td> <td>    0.001</td> <td>  -12.739</td> <td> 0.000</td> <td>   -0.013</td> <td>   -0.009</td>\n",
       "</tr>\n",
       "<tr>\n",
       "  <th>travel_time_3</th> <td>   -0.0129</td> <td>    0.001</td> <td>  -15.943</td> <td> 0.000</td> <td>   -0.014</td> <td>   -0.011</td>\n",
       "</tr>\n",
       "<tr>\n",
       "  <th>travel_cost_1</th> <td>   -0.0309</td> <td>    0.001</td> <td>  -25.817</td> <td> 0.000</td> <td>   -0.033</td> <td>   -0.029</td>\n",
       "</tr>\n",
       "<tr>\n",
       "  <th>travel_cost_2</th> <td>   -0.0112</td> <td>    0.001</td> <td>  -20.613</td> <td> 0.000</td> <td>   -0.012</td> <td>   -0.010</td>\n",
       "</tr>\n",
       "<tr>\n",
       "  <th>travel_cost_3</th> <td>   -0.0080</td> <td>    0.001</td> <td>   -7.499</td> <td> 0.000</td> <td>   -0.010</td> <td>   -0.006</td>\n",
       "</tr>\n",
       "<tr>\n",
       "  <th>headway_1</th>     <td>   -0.0052</td> <td>    0.001</td> <td>   -4.958</td> <td> 0.000</td> <td>   -0.007</td> <td>   -0.003</td>\n",
       "</tr>\n",
       "<tr>\n",
       "  <th>headway_2</th>     <td>   -0.0072</td> <td>    0.003</td> <td>   -2.209</td> <td> 0.027</td> <td>   -0.014</td> <td>   -0.001</td>\n",
       "</tr>\n",
       "</table>"
      ],
      "text/plain": [
       "<class 'statsmodels.iolib.summary.Summary'>\n",
       "\"\"\"\n",
       "                     Multinomial Logit Model Regression Results                    \n",
       "===================================================================================\n",
       "Dep. Variable:                      CHOICE   No. Observations:                6,768\n",
       "Model:             Multinomial Logit Model   Df Residuals:                    6,758\n",
       "Method:                                MLE   Df Model:                           10\n",
       "Date:                     Thu, 11 Mar 2021   Pseudo R-squ.:                   0.273\n",
       "Time:                             18:12:33   Pseudo R-bar-squ.:               0.272\n",
       "AIC:                            10,140.852   Log-Likelihood:             -5,060.426\n",
       "BIC:                            10,209.051   LL-Null:                    -6,964.663\n",
       "=================================================================================\n",
       "                    coef    std err          z      P>|z|      [0.025      0.975]\n",
       "---------------------------------------------------------------------------------\n",
       "intercept_1       0.6291      0.143      4.408      0.000       0.349       0.909\n",
       "intercept_2       0.5003      0.110      4.567      0.000       0.286       0.715\n",
       "travel_time_1    -0.0088      0.001    -10.608      0.000      -0.010      -0.007\n",
       "travel_time_2    -0.0111      0.001    -12.739      0.000      -0.013      -0.009\n",
       "travel_time_3    -0.0129      0.001    -15.943      0.000      -0.014      -0.011\n",
       "travel_cost_1    -0.0309      0.001    -25.817      0.000      -0.033      -0.029\n",
       "travel_cost_2    -0.0112      0.001    -20.613      0.000      -0.012      -0.010\n",
       "travel_cost_3    -0.0080      0.001     -7.499      0.000      -0.010      -0.006\n",
       "headway_1        -0.0052      0.001     -4.958      0.000      -0.007      -0.003\n",
       "headway_2        -0.0072      0.003     -2.209      0.027      -0.014      -0.001\n",
       "=================================================================================\n",
       "\"\"\""
      ]
     },
     "execution_count": 14,
     "metadata": {},
     "output_type": "execute_result"
    }
   ],
   "source": [
    "# Estimate the multinomial logit model (MNL)\n",
    "sm_mnl = pl.create_choice_model(data=sm_long,\n",
    "                                alt_id_col=\"mode_id\",\n",
    "                                obs_id_col=\"custom_id\",\n",
    "                                choice_col=\"CHOICE\",\n",
    "                                specification=spec,\n",
    "                                model_type=\"MNL\")\n",
    "\n",
    "# Specify the initial values and method for the optimization.\n",
    "sm_mnl.fit_mle(np.zeros(10))\n",
    "\n",
    "# Look at the estimation results\n",
    "sm_mnl.get_statsmodels_summary()"
   ]
  },
  {
   "cell_type": "markdown",
   "id": "executed-journey",
   "metadata": {},
   "source": [
    "### Evaluation metrics"
   ]
  },
  {
   "cell_type": "code",
   "execution_count": 15,
   "id": "alternative-butterfly",
   "metadata": {},
   "outputs": [],
   "source": [
    "from sklearn.metrics import accuracy_score, f1_score, classification_report"
   ]
  },
  {
   "cell_type": "code",
   "execution_count": 16,
   "id": "liquid-brake",
   "metadata": {},
   "outputs": [],
   "source": [
    "def model_pred(data, model, alt_id_col, obs_id_col, choice_col):\n",
    "    data['predicted'] = model.predict(data)\n",
    "    is_chosen = data.groupby([obs_id_col])['predicted'].idxmax()\n",
    "    data['predicted_choice'] = 0\n",
    "    data.loc[is_chosen.values,'predicted_choice'] = 1\n",
    "    \n",
    "    actual = data.loc[data[choice_column] == 1, alt_id_column]\n",
    "    pred = data.loc[data['predicted_choice'] == 1, alt_id_column]\n",
    "    return actual, pred   \n",
    "\n",
    "def nll():\n",
    "    pass\n",
    "\n",
    "alt_id_column = \"mode_id\"\n",
    "obs_id_column = \"custom_id\"\n",
    "choice_column = \"CHOICE\""
   ]
  },
  {
   "cell_type": "markdown",
   "id": "guided-sculpture",
   "metadata": {},
   "source": [
    "##### MNL model results"
   ]
  },
  {
   "cell_type": "code",
   "execution_count": 17,
   "id": "coordinated-albania",
   "metadata": {},
   "outputs": [
    {
     "name": "stdout",
     "output_type": "stream",
     "text": [
      "              precision    recall  f1-score   support\n",
      "\n",
      "           1       0.60      0.04      0.08       908\n",
      "           2       0.67      0.92      0.78      4090\n",
      "           3       0.69      0.42      0.52      1770\n",
      "\n",
      "    accuracy                           0.67      6768\n",
      "   macro avg       0.65      0.46      0.46      6768\n",
      "weighted avg       0.67      0.67      0.62      6768\n",
      "\n"
     ]
    }
   ],
   "source": [
    "actual, predict = model_pred(sm_long, sm_mnl, alt_id_column, obs_id_column, choice_column)\n",
    "print(classification_report(actual, predict))"
   ]
  },
  {
   "cell_type": "code",
   "execution_count": 18,
   "id": "maritime-genome",
   "metadata": {},
   "outputs": [
    {
     "name": "stdout",
     "output_type": "stream",
     "text": [
      "Accuracy = [0.67317], F1_score = 0.61607\n"
     ]
    }
   ],
   "source": [
    "acc = accuracy_score(actual, predict), \n",
    "f1 = f1_score(actual, predict, average=\"weighted\")\n",
    "print(f\"Accuracy = {np.round(acc,5)}, F1_score = {np.round(f1,5)}\")"
   ]
  },
  {
   "cell_type": "markdown",
   "id": "widespread-cabinet",
   "metadata": {},
   "source": [
    "########################################################################################"
   ]
  },
  {
   "cell_type": "markdown",
   "id": "fiscal-ancient",
   "metadata": {},
   "source": [
    "## Simple MNL as in 1.logit Biogeme"
   ]
  },
  {
   "cell_type": "markdown",
   "id": "virtual-archive",
   "metadata": {},
   "source": [
    "The model specification being used in this example is the following:\n",
    "$$\n",
    "\\begin{aligned}\n",
    "V_{i, \\textrm{Train}} &= \\textrm{ASC Train}  + \\\\\n",
    "&\\quad \\beta _{ \\textrm{tt} } \\textrm{Travel Time} _{ \\textrm{Train}} + \\\\\n",
    "&\\quad \\beta _{ \\textrm{tc} } \\textrm{Travel Cost}_{\\textrm{Train}} * \\left( GA == 0 \\right) + \\\\\n",
    "\\\\\n",
    "V_{i, \\textrm{Swissmetro}} &= \\quad \\beta _{ \\textrm{tt} } \\textrm{Travel Time} _{ \\textrm{Swissmetro}} + \\\\\n",
    "&\\quad \\beta _{ \\textrm{tc} } \\textrm{Travel Cost}_{\\textrm{Swissmetro}} * \\left( GA == 0 \\right) + \\\\\n",
    "\\\\\n",
    "V_{i, \\textrm{Car}} &= \\textrm{ASC Car} + \\\\\n",
    "&\\beta _{ \\textrm{tt} } \\textrm{Travel Time} _{ \\textrm{Car}} + \\\\\n",
    "&\\quad \\beta _{ \\textrm{tc}} \\textrm{Travel Cost}_{\\textrm{Car}} \\\\\n",
    "\\end{aligned}\n",
    "$$"
   ]
  },
  {
   "cell_type": "code",
   "execution_count": 26,
   "id": "fixed-potato",
   "metadata": {},
   "outputs": [],
   "source": [
    "# Read data\n",
    "sm_long = pd.read_csv(\"./data/swissmetro_long.csv\")\n",
    "\n",
    "# Update travel time (minutes => hours)\n",
    "sm_long[\"travel_time\"] = sm_long[\"travel_time\"] / 100\n",
    "# Get free_ticket\n",
    "sm_long[\"free_ticket\"] = (((sm_long[\"GA\"] == 1) | (sm_long[\"WHO\"]/ 100.0 == 2)) &\n",
    "                            sm_long[\"mode_id\"].isin([1,2])).astype(int)\n",
    "# Update travel cost\n",
    "sm_long[\"travel_cost\"] = (sm_long[\"travel_cost\"] * (sm_long[\"free_ticket\"] == 0)) / 100"
   ]
  },
  {
   "cell_type": "code",
   "execution_count": 27,
   "id": "sweet-primary",
   "metadata": {},
   "outputs": [],
   "source": [
    "spec = OrderedDict()\n",
    "spec[\"intercept\"] = [3, 1]\n",
    "spec[\"travel_cost\"] = [[1, 2, 3]]\n",
    "spec[\"travel_time\"] = [[1, 2, 3]]"
   ]
  },
  {
   "cell_type": "code",
   "execution_count": 28,
   "id": "independent-center",
   "metadata": {},
   "outputs": [
    {
     "name": "stdout",
     "output_type": "stream",
     "text": [
      "Log-likelihood at zero: -6,964.6630\n",
      "Initial Log-likelihood: -6,964.6630\n",
      "Estimation Time for Point Estimation: 0.03 seconds.\n",
      "Final log-likelihood: -5,331.2520\n"
     ]
    },
    {
     "name": "stderr",
     "output_type": "stream",
     "text": [
      "/home/danph/anaconda3/envs/ml-dchoice/lib/python3.7/site-packages/scipy/optimize/_minimize.py:523: RuntimeWarning: Method BFGS does not use Hessian information (hess).\n",
      "  RuntimeWarning)\n"
     ]
    },
    {
     "data": {
      "text/html": [
       "<table class=\"simpletable\">\n",
       "<caption>Multinomial Logit Model Regression Results</caption>\n",
       "<tr>\n",
       "  <th>Dep. Variable:</th>         <td>CHOICE</td>          <th>  No. Observations:  </th>    <td>6,768</td>  \n",
       "</tr>\n",
       "<tr>\n",
       "  <th>Model:</th>         <td>Multinomial Logit Model</td> <th>  Df Residuals:      </th>    <td>6,764</td>  \n",
       "</tr>\n",
       "<tr>\n",
       "  <th>Method:</th>                  <td>MLE</td>           <th>  Df Model:          </th>      <td>4</td>    \n",
       "</tr>\n",
       "<tr>\n",
       "  <th>Date:</th>             <td>Thu, 11 Mar 2021</td>     <th>  Pseudo R-squ.:     </th>    <td>0.235</td>  \n",
       "</tr>\n",
       "<tr>\n",
       "  <th>Time:</th>                 <td>18:37:20</td>         <th>  Pseudo R-bar-squ.: </th>    <td>0.234</td>  \n",
       "</tr>\n",
       "<tr>\n",
       "  <th>AIC:</th>                 <td>10,670.504</td>        <th>  Log-Likelihood:    </th> <td>-5,331.252</td>\n",
       "</tr>\n",
       "<tr>\n",
       "  <th>BIC:</th>                 <td>10,697.784</td>        <th>  LL-Null:           </th> <td>-6,964.663</td>\n",
       "</tr>\n",
       "</table>\n",
       "<table class=\"simpletable\">\n",
       "<tr>\n",
       "            <td></td>               <th>coef</th>     <th>std err</th>      <th>z</th>      <th>P>|z|</th>  <th>[0.025</th>    <th>0.975]</th>  \n",
       "</tr>\n",
       "<tr>\n",
       "  <th>intercept_3</th>           <td>   -0.1546</td> <td>    0.043</td> <td>   -3.577</td> <td> 0.000</td> <td>   -0.239</td> <td>   -0.070</td>\n",
       "</tr>\n",
       "<tr>\n",
       "  <th>intercept_1</th>           <td>   -0.7012</td> <td>    0.055</td> <td>  -12.778</td> <td> 0.000</td> <td>   -0.809</td> <td>   -0.594</td>\n",
       "</tr>\n",
       "<tr>\n",
       "  <th>travel_cost_[1, 2, 3]</th> <td>   -1.0838</td> <td>    0.052</td> <td>  -20.910</td> <td> 0.000</td> <td>   -1.185</td> <td>   -0.982</td>\n",
       "</tr>\n",
       "<tr>\n",
       "  <th>travel_time_[1, 2, 3]</th> <td>   -1.2779</td> <td>    0.057</td> <td>  -22.465</td> <td> 0.000</td> <td>   -1.389</td> <td>   -1.166</td>\n",
       "</tr>\n",
       "</table>"
      ],
      "text/plain": [
       "<class 'statsmodels.iolib.summary.Summary'>\n",
       "\"\"\"\n",
       "                     Multinomial Logit Model Regression Results                    \n",
       "===================================================================================\n",
       "Dep. Variable:                      CHOICE   No. Observations:                6,768\n",
       "Model:             Multinomial Logit Model   Df Residuals:                    6,764\n",
       "Method:                                MLE   Df Model:                            4\n",
       "Date:                     Thu, 11 Mar 2021   Pseudo R-squ.:                   0.235\n",
       "Time:                             18:37:20   Pseudo R-bar-squ.:               0.234\n",
       "AIC:                            10,670.504   Log-Likelihood:             -5,331.252\n",
       "BIC:                            10,697.784   LL-Null:                    -6,964.663\n",
       "=========================================================================================\n",
       "                            coef    std err          z      P>|z|      [0.025      0.975]\n",
       "-----------------------------------------------------------------------------------------\n",
       "intercept_3              -0.1546      0.043     -3.577      0.000      -0.239      -0.070\n",
       "intercept_1              -0.7012      0.055    -12.778      0.000      -0.809      -0.594\n",
       "travel_cost_[1, 2, 3]    -1.0838      0.052    -20.910      0.000      -1.185      -0.982\n",
       "travel_time_[1, 2, 3]    -1.2779      0.057    -22.465      0.000      -1.389      -1.166\n",
       "=========================================================================================\n",
       "\"\"\""
      ]
     },
     "execution_count": 28,
     "metadata": {},
     "output_type": "execute_result"
    }
   ],
   "source": [
    "# Estimate the multinomial logit model (MNL)\n",
    "sm_mnl = pl.create_choice_model(data=sm_long,\n",
    "                                alt_id_col=\"mode_id\",\n",
    "                                obs_id_col=\"custom_id\",\n",
    "                                choice_col=\"CHOICE\",\n",
    "                                specification=spec,\n",
    "                                model_type=\"MNL\")\n",
    "\n",
    "# Specify the initial values and method for the optimization.\n",
    "sm_mnl.fit_mle(np.zeros(4))\n",
    "\n",
    "# Look at the estimation results\n",
    "sm_mnl.get_statsmodels_summary()"
   ]
  },
  {
   "cell_type": "code",
   "execution_count": 29,
   "id": "spare-ending",
   "metadata": {},
   "outputs": [
    {
     "name": "stdout",
     "output_type": "stream",
     "text": [
      "              precision    recall  f1-score   support\n",
      "\n",
      "           1       0.83      0.01      0.01       908\n",
      "           2       0.68      0.92      0.78      4090\n",
      "           3       0.68      0.46      0.55      1770\n",
      "\n",
      "    accuracy                           0.68      6768\n",
      "   macro avg       0.73      0.46      0.45      6768\n",
      "weighted avg       0.70      0.68      0.62      6768\n",
      "\n"
     ]
    }
   ],
   "source": [
    "actual, predict = model_pred(sm_long, sm_mnl, alt_id_column, obs_id_column, choice_column)\n",
    "print(classification_report(actual, predict))"
   ]
  },
  {
   "cell_type": "code",
   "execution_count": 30,
   "id": "dressed-egypt",
   "metadata": {},
   "outputs": [
    {
     "name": "stdout",
     "output_type": "stream",
     "text": [
      "Accuracy = [0.67642], F1_score = 0.61537\n"
     ]
    }
   ],
   "source": [
    "acc = accuracy_score(actual, predict), \n",
    "f1 = f1_score(actual, predict, average=\"weighted\")\n",
    "print(f\"Accuracy = {np.round(acc,5)}, F1_score = {np.round(f1,5)}\")"
   ]
  },
  {
   "cell_type": "code",
   "execution_count": null,
   "id": "sitting-episode",
   "metadata": {},
   "outputs": [],
   "source": []
  }
 ],
 "metadata": {
  "kernelspec": {
   "display_name": "Python 3",
   "language": "python",
   "name": "python3"
  },
  "language_info": {
   "codemirror_mode": {
    "name": "ipython",
    "version": 3
   },
   "file_extension": ".py",
   "mimetype": "text/x-python",
   "name": "python",
   "nbconvert_exporter": "python",
   "pygments_lexer": "ipython3",
   "version": "3.7.10"
  }
 },
 "nbformat": 4,
 "nbformat_minor": 5
}
