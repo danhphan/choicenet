{
 "cells": [
  {
   "cell_type": "code",
   "execution_count": null,
   "id": "going-regular",
   "metadata": {},
   "outputs": [],
   "source": [
    "import torch\n",
    "import numpy as np\n",
    "import pandas as pd\n",
    "import torch.nn as nn\n",
    "import torch.optim as optim\n",
    "from torch.utils.data import DataLoader"
   ]
  },
  {
   "cell_type": "code",
   "execution_count": null,
   "id": "bridal-irrigation",
   "metadata": {},
   "outputs": [
    {
     "data": {
      "text/plain": [
       "((7484, 28), (1604, 28))"
      ]
     },
     "execution_count": null,
     "metadata": {},
     "output_type": "execute_result"
    }
   ],
   "source": [
    "# Read data\n",
    "df_train = pd.read_csv(\"./data/swissmetro_train.csv\")\n",
    "df_valid = pd.read_csv(\"./data/swissmetro_valid.csv\")\n",
    "df_train.shape, df_valid.shape"
   ]
  },
  {
   "cell_type": "code",
   "execution_count": null,
   "id": "backed-pound",
   "metadata": {},
   "outputs": [],
   "source": [
    "class ChoiceDataset:\n",
    "    def __init__(self, df, atts_cols, avai_cols):\n",
    "        \"\"\"\n",
    "        :param data: the choice data frame\n",
    "        :param atts_cols: attribute columns of alternatives (like travel time, cost)\n",
    "        :param avail_cols: availability columns of alternatives\n",
    "        \"\"\"\n",
    "        self.df = df\n",
    "        self.atts_cols = atts_cols\n",
    "        self.avai_cols = avai_cols\n",
    "        # Store numpy array of alternative attributes and availability\n",
    "        self.atts = self.df[atts_cols].values\n",
    "        self.avai = self.df[avai_cols].values \n",
    "        # Store column name and its corresponding column index of attribute variables and availability\n",
    "        self.atts_idxs = {att:idx for att, idx in zip(atts_cols, np.arange(len(atts_cols)))}\n",
    "        self.avai_idxs = {av:idx  for av, idx  in zip(avai_cols, np.arange(len(avai_cols)))}\n",
    "    \n",
    "    def __len__(self):\n",
    "        return df.shape[0]\n",
    "    \n",
    "    def __getitem__(self, index):\n",
    "        x = self.atts[index]\n",
    "        av = self.avai[index]\n",
    "        return {\"x\" : torch.tensor(x, dtype=torch.float32),\n",
    "                \"av\" : torch.tensor(av, dtype=torch.float32)}\n",
    "\n",
    "class MNL(nn.Module):\n",
    "    def __init__(self, atts_idxs, avai_idxs):\n",
    "        super(MNL, self).__init__()\n",
    "        self.atts_idxs = atts_idxs\n",
    "        self.avai_idxs = avai_idxs\n",
    "        # Initiate parameters\n",
    "        self.ASC_TRAIN = nn.Parameter(torch.full((), 0.1))\n",
    "        self.ASC_CAR = nn.Parameter(torch.full((), 0.1))\n",
    "        self.B_TIME = nn.Parameter(torch.full((), 0.1))\n",
    "        self.B_COST = nn.Parameter(torch.full((), 0.1))\n",
    "        \n",
    "    def forward(self, x, av):\n",
    "        # Calculate V\n",
    "        V1 = (self.ASC_TRAIN + \n",
    "              self.B_TIME * x[:, self.atts_idxs[\"TRAIN_TT\"]] + \n",
    "              self.B_COST * x[:, self.atts_idxs[\"TRAIN_CO\"]])\n",
    "        V2 = (self.B_TIME * x[:, self.atts_idxs[\"SM_TT\"]] +\n",
    "              self.B_COST * x[:, self.atts_idxs[\"SM_CO\"]])\n",
    "        V3 = (self.ASC_CAR + \n",
    "              self.B_TIME * x[:, self.atts_idxs[\"CAR_TT\"]] +\n",
    "              self.B_COST * x[:, self.atts_idxs[\"CAR_CO\"]])\n",
    "        # Join with availability\n",
    "        V1 = V1 * av[:, avai_idxs[\"TRAIN_AV\"]]\n",
    "        V2 = V2 * av[:, avai_idxs[\"SM_AV\"]]\n",
    "        V3 = V3 * av[:, avai_idxs[\"CAR_AV\"]]\n",
    "        # Concat into one matrix\n",
    "        V = torch.cat((V1.unsqueeze(-1), V2.unsqueeze(-1), V3.unsqueeze(-1)),1)\n",
    "        # Get probality and loglikelihood\n",
    "        probs = V.exp() / (V.exp().sum(-1, keepdim=True))\n",
    "        return probs\n",
    "    \n",
    "    def string(self):\n",
    "        return f'ASC_TRAIN={self.ASC_TRAIN}, ASC_CAR={self.ASC_CAR}, B_TIME={self.B_TIME}, B_COST={self.B_COST}'"
   ]
  },
  {
   "cell_type": "code",
   "execution_count": null,
   "id": "critical-negotiation",
   "metadata": {},
   "outputs": [],
   "source": [
    "atts_cols = ['TRAIN_TT', 'TRAIN_CO','SM_TT', 'SM_CO', 'CAR_TT', 'CAR_CO']\n",
    "avai_cols = ['TRAIN_AV', 'CAR_AV', 'SM_AV']\n",
    "\n",
    "ds_train = ChoiceDataset(df_train, atts_cols, avai_cols)\n",
    "ds_valid = ChoiceDataset(df_valid, atts_cols, avai_cols)\n",
    "\n",
    "atts_idxs = {att:idx for att, idx in zip(atts_cols, np.arange(len(atts_cols)))}\n",
    "avai_idxs = {av:idx  for av, idx  in zip(avai_cols, np.arange(len(avai_cols)))}"
   ]
  },
  {
   "cell_type": "code",
   "execution_count": null,
   "id": "amateur-specific",
   "metadata": {},
   "outputs": [],
   "source": [
    "batch = 16"
   ]
  },
  {
   "cell_type": "code",
   "execution_count": null,
   "id": "exterior-reception",
   "metadata": {},
   "outputs": [
    {
     "data": {
      "text/plain": [
       "tensor([[7.4603e-04, 2.2645e-07, 9.9925e-01],\n",
       "        [7.4984e-01, 5.5982e-04, 2.4960e-01],\n",
       "        [9.9593e-01, 4.0701e-03, 5.5944e-10],\n",
       "        [3.9737e-01, 9.8244e-03, 5.9281e-01],\n",
       "        [2.5306e-11, 5.1756e-17, 1.0000e+00],\n",
       "        [9.9997e-01, 4.5516e-06, 2.2544e-05],\n",
       "        [5.9152e-01, 1.1973e-02, 3.9651e-01],\n",
       "        [9.9424e-01, 5.4848e-03, 2.7307e-04],\n",
       "        [9.9044e-01, 5.4780e-04, 9.0084e-03],\n",
       "        [7.3033e-01, 2.6867e-01, 9.9352e-04],\n",
       "        [9.8523e-01, 1.4774e-02, 6.7074e-07],\n",
       "        [6.6922e-03, 9.0804e-05, 9.9322e-01],\n",
       "        [9.8560e-01, 5.4371e-03, 8.9643e-03],\n",
       "        [       nan,        nan, 0.0000e+00],\n",
       "        [       nan,        nan, 0.0000e+00],\n",
       "        [4.2539e-01, 3.8791e-04, 5.7422e-01]], grad_fn=<DivBackward0>)"
      ]
     },
     "execution_count": null,
     "metadata": {},
     "output_type": "execute_result"
    }
   ],
   "source": [
    "model = MNL(atts_idxs, avai_idxs)\n",
    "model.forward(ds_train[0:batch][\"x\"], ds_train[0:batch][\"av\"])"
   ]
  },
  {
   "cell_type": "code",
   "execution_count": null,
   "id": "italian-liabilities",
   "metadata": {},
   "outputs": [],
   "source": [
    "dl_train = DataLoader(ds_train, batch_size=16, shuffle=True, num_workers=4)\n",
    "dl_valid = DataLoader(ds_valid, batch_size=16, shuffle=True, num_workers=4)"
   ]
  },
  {
   "cell_type": "code",
   "execution_count": null,
   "id": "conceptual-cholesterol",
   "metadata": {},
   "outputs": [
    {
     "data": {
      "text/plain": [
       "{'TRAIN_TT': 0,\n",
       " 'TRAIN_CO': 1,\n",
       " 'SM_TT': 2,\n",
       " 'SM_CO': 3,\n",
       " 'CAR_TT': 4,\n",
       " 'CAR_CO': 5}"
      ]
     },
     "execution_count": null,
     "metadata": {},
     "output_type": "execute_result"
    }
   ],
   "source": [
    "ds_train.atts_idxs"
   ]
  },
  {
   "cell_type": "code",
   "execution_count": null,
   "id": "noble-machine",
   "metadata": {},
   "outputs": [
    {
     "data": {
      "text/plain": [
       "{'TRAIN_TT': 0,\n",
       " 'TRAIN_CO': 1,\n",
       " 'SM_TT': 2,\n",
       " 'SM_CO': 3,\n",
       " 'CAR_TT': 4,\n",
       " 'CAR_CO': 5}"
      ]
     },
     "execution_count": null,
     "metadata": {},
     "output_type": "execute_result"
    }
   ],
   "source": [
    "{att:idx for att, idx in zip(atts_cols, np.arange(len(atts_cols)))}"
   ]
  },
  {
   "cell_type": "code",
   "execution_count": null,
   "id": "muslim-conjunction",
   "metadata": {},
   "outputs": [
    {
     "data": {
      "text/plain": [
       "Index(['TRAIN_TT', 'TRAIN_CO', 'SM_TT', 'SM_CO', 'CAR_TT', 'CAR_CO'], dtype='object')"
      ]
     },
     "execution_count": null,
     "metadata": {},
     "output_type": "execute_result"
    }
   ],
   "source": [
    "df_train[atts_cols].columns"
   ]
  },
  {
   "cell_type": "code",
   "execution_count": null,
   "id": "wireless-violation",
   "metadata": {},
   "outputs": [
    {
     "data": {
      "text/plain": [
       "(7484, 6)"
      ]
     },
     "execution_count": null,
     "metadata": {},
     "output_type": "execute_result"
    }
   ],
   "source": [
    "train_arr = df_train[atts_cols].values\n",
    "train_arr.shape"
   ]
  },
  {
   "cell_type": "code",
   "execution_count": null,
   "id": "german-vegetation",
   "metadata": {},
   "outputs": [
    {
     "data": {
      "text/plain": [
       "array([182, 111,  81, 132, 210, 155])"
      ]
     },
     "execution_count": null,
     "metadata": {},
     "output_type": "execute_result"
    }
   ],
   "source": [
    "train_arr[0]"
   ]
  },
  {
   "cell_type": "code",
   "execution_count": null,
   "id": "academic-looking",
   "metadata": {},
   "outputs": [],
   "source": [
    "train_ts = torch.tensor(train_arr, dtype=torch.float32)"
   ]
  },
  {
   "cell_type": "code",
   "execution_count": null,
   "id": "absent-double",
   "metadata": {},
   "outputs": [
    {
     "data": {
      "text/plain": [
       "array([ True,  True,  True, ...,  True,  True,  True])"
      ]
     },
     "execution_count": null,
     "metadata": {},
     "output_type": "execute_result"
    }
   ],
   "source": [
    "train_arr[:, atts_idxs[\"TRAIN_TT\"]] == df_train[\"TRAIN_TT\"].values"
   ]
  },
  {
   "cell_type": "code",
   "execution_count": null,
   "id": "remarkable-tourism",
   "metadata": {},
   "outputs": [
    {
     "data": {
      "text/plain": [
       "array([182, 132, 220, ..., 283, 148, 170])"
      ]
     },
     "execution_count": null,
     "metadata": {},
     "output_type": "execute_result"
    }
   ],
   "source": [
    "train_arr[:, atts_idxs[\"TRAIN_TT\"]]"
   ]
  },
  {
   "cell_type": "code",
   "execution_count": null,
   "id": "spiritual-blink",
   "metadata": {},
   "outputs": [
    {
     "data": {
      "text/plain": [
       "tensor([182., 132., 220.,  ..., 283., 148., 170.])"
      ]
     },
     "execution_count": null,
     "metadata": {},
     "output_type": "execute_result"
    }
   ],
   "source": [
    "train_ts[:, atts_idxs[\"TRAIN_TT\"]]"
   ]
  },
  {
   "cell_type": "code",
   "execution_count": null,
   "id": "muslim-working",
   "metadata": {},
   "outputs": [
    {
     "name": "stdout",
     "output_type": "stream",
     "text": [
      "TRAIN_TT True\n",
      "TRAIN_CO True\n",
      "SM_TT True\n",
      "SM_CO True\n",
      "CAR_TT True\n",
      "CAR_CO True\n"
     ]
    }
   ],
   "source": [
    "for col in atts_cols:\n",
    "    print(col, np.array_equal(train_arr[:, atts_idxs[col]],df_train[col].values))"
   ]
  },
  {
   "cell_type": "code",
   "execution_count": null,
   "id": "resident-charlotte",
   "metadata": {},
   "outputs": [],
   "source": [
    "def nll(probs, target): return -probs[range(target.shape[0]), target].log().sum()       \n",
    "\n",
    "def train(data_loader, model, optimizer, device):\n",
    "    model.train()_10_tastenet_mnl.ipynb\n",
    "    for data in data_loader:\n",
    "        x = data['x']\n",
    "        av = data['av']\n",
    "#         x = x.to(device, dtype=torch.float32)\n",
    "#         av = av.to(device, dtype=torch.float32)\n",
    "        targets = data['y']\n",
    "        \n",
    "        optimizer.zero_grad()\n",
    "        outputs = model(x, av)        \n",
    "        loss = nll(outputs, targets)\n",
    "        loss.backward()\n",
    "        optimizer.step()\n",
    "        \n",
    "        \n",
    "def evaluate(data_loader, model, device):\n",
    "    model.eval()\n",
    "    final_targets = []\n",
    "    final_outputs = []\n",
    "    with torch.no_grad():        \n",
    "        for data in data_loader:\n",
    "            x = data['x']\n",
    "            av = data['av']\n",
    "#             x = x.to(device, dtype=torch.float32)\n",
    "#             av = av.to(device, dtype=torch.float32)\n",
    "            targets = data['y'].detach().cpu().numpy().tolist()\n",
    "            outputs = model(x, av)        \n",
    "            final_targets.extend(targets)\n",
    "            final_outputs.extend(outputs)"
   ]
  },
  {
   "cell_type": "code",
   "execution_count": null,
   "id": "burning-ecuador",
   "metadata": {},
   "outputs": [],
   "source": []
  }
 ],
 "metadata": {
  "kernelspec": {
   "display_name": "Python 3",
   "language": "python",
   "name": "python3"
  }
 },
 "nbformat": 4,
 "nbformat_minor": 5
}
