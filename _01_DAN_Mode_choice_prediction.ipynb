{
 "cells": [
  {
   "cell_type": "markdown",
   "metadata": {},
   "source": [
    "## Mode choice prediction\n",
    "The purpose of this notebook is to demonstrate the conversion of long-format data into wide-format. Long-format data contains one row per available alternative per choice situation. In contrast, wide-format data contains one row per choice situation. PyLogit and other software packages (e.g. mlogit in R) use data that is in long-format. However, other software packages, such as Statsmodels in Python or Python BIOGEME, use data that is in wide-format.\n",
    "\n",
    "Because different software packages have different data format requirements, it is useful to be able to convert one's data from one format to another. Other PyLogit example notebooks (such as the \"Main PyLogit Example\") demonstrate how to take data from wide-format and convert it into long-format. This notebook will demonstrate the reverse process: taking data from long-format and converting it into wide-format.\n",
    "\n",
    "The dataset being used in this example is the \"Travel Mode Choice\" dataset from Greene and Hensher. It is described on the statsmodels <a href=\"http://statsmodels.sourceforge.net/0.6.0/datasets/generated/modechoice.html\">website</a>, and their description is reproduced below in full.\n",
    "\n",
    "<pre>\n",
    "    The data, collected as part of a 1987 intercity mode choice study, are a sub-sample of 210 non-business\n",
    "    trips between Sydney, Canberra and Melbourne in which the traveler chooses a mode from four alternatives\n",
    "    (plane, car, bus and train). The sample, 840 observations, is choice based with over-sampling of the\n",
    "    less popular modes (plane, train and bus) and under-sampling of the more popular mode, car. The level of\n",
    "    service data was derived from highway and transport networks in Sydney, Melbourne, non-metropolitan N.S.W.\n",
    "    and Victoria, including the Australian Capital Territory.\n",
    "    \n",
    "    Number of observations: 840 Observations On 4 Modes for 210 Individuals.\n",
    "    Number of variables: 8\n",
    "    Variable name definitions::\n",
    "\n",
    "        individual = 1 to 210\n",
    "        mode =\n",
    "            1 - air\n",
    "            2 - train\n",
    "            3 - bus\n",
    "            4 - car\n",
    "        choice =\n",
    "            0 - no\n",
    "            1 - yes\n",
    "        ttme = terminal waiting time for plane, train and bus (minutes); 0\n",
    "               for car.\n",
    "        invc = in vehicle cost for all stages (dollars).\n",
    "        invt = travel time (in-vehicle time) for all stages (minutes).\n",
    "        gc = generalized cost measure:invc+(invt*value of travel time savings)\n",
    "            (dollars).\n",
    "        hinc = household income ($1000s).\n",
    "        psize = traveling group size in mode chosen (number).\n",
    "        \n",
    "    \n",
    "    Source\n",
    "\n",
    "    Greene, W.H. and D. Hensher (1997) Multinomial logit and discrete choice models in Greene, W. H. (1997)\n",
    "    LIMDEP version 7.0 user’s manual revised, Plainview, New York econometric software, Inc. Download from\n",
    "    on-line complements to Greene, W.H. (2011) Econometric Analysis, Prentice Hall, 7th Edition (data table\n",
    "    F18-2) http://people.stern.nyu.edu/wgreene/Text/Edition7/TableF18-2.csv\n",
    "\n",
    "</pre>"
   ]
  },
  {
   "cell_type": "code",
   "execution_count": null,
   "metadata": {},
   "outputs": [],
   "source": [
    "# To access the Travel Mode Choice data\n",
    "import statsmodels.datasets\n",
    "\n",
    "# To perform the dataset conversion\n",
    "import pylogit as pl"
   ]
  },
  {
   "cell_type": "markdown",
   "metadata": {},
   "source": [
    "### Load the needed dataset"
   ]
  },
  {
   "cell_type": "code",
   "execution_count": null,
   "metadata": {},
   "outputs": [
    {
     "data": {
      "text/html": [
       "<div>\n",
       "<style scoped>\n",
       "    .dataframe tbody tr th:only-of-type {\n",
       "        vertical-align: middle;\n",
       "    }\n",
       "\n",
       "    .dataframe tbody tr th {\n",
       "        vertical-align: top;\n",
       "    }\n",
       "\n",
       "    .dataframe thead th {\n",
       "        text-align: right;\n",
       "    }\n",
       "</style>\n",
       "<table border=\"1\" class=\"dataframe\">\n",
       "  <thead>\n",
       "    <tr style=\"text-align: right;\">\n",
       "      <th></th>\n",
       "      <th>individual</th>\n",
       "      <th>mode</th>\n",
       "      <th>choice</th>\n",
       "      <th>ttme</th>\n",
       "      <th>invc</th>\n",
       "      <th>invt</th>\n",
       "      <th>gc</th>\n",
       "      <th>hinc</th>\n",
       "      <th>psize</th>\n",
       "    </tr>\n",
       "  </thead>\n",
       "  <tbody>\n",
       "    <tr>\n",
       "      <th>0</th>\n",
       "      <td>1.0</td>\n",
       "      <td>1.0</td>\n",
       "      <td>0.0</td>\n",
       "      <td>69.0</td>\n",
       "      <td>59.0</td>\n",
       "      <td>100.0</td>\n",
       "      <td>70.0</td>\n",
       "      <td>35.0</td>\n",
       "      <td>1.0</td>\n",
       "    </tr>\n",
       "    <tr>\n",
       "      <th>1</th>\n",
       "      <td>1.0</td>\n",
       "      <td>2.0</td>\n",
       "      <td>0.0</td>\n",
       "      <td>34.0</td>\n",
       "      <td>31.0</td>\n",
       "      <td>372.0</td>\n",
       "      <td>71.0</td>\n",
       "      <td>35.0</td>\n",
       "      <td>1.0</td>\n",
       "    </tr>\n",
       "    <tr>\n",
       "      <th>2</th>\n",
       "      <td>1.0</td>\n",
       "      <td>3.0</td>\n",
       "      <td>0.0</td>\n",
       "      <td>35.0</td>\n",
       "      <td>25.0</td>\n",
       "      <td>417.0</td>\n",
       "      <td>70.0</td>\n",
       "      <td>35.0</td>\n",
       "      <td>1.0</td>\n",
       "    </tr>\n",
       "    <tr>\n",
       "      <th>3</th>\n",
       "      <td>1.0</td>\n",
       "      <td>4.0</td>\n",
       "      <td>1.0</td>\n",
       "      <td>0.0</td>\n",
       "      <td>10.0</td>\n",
       "      <td>180.0</td>\n",
       "      <td>30.0</td>\n",
       "      <td>35.0</td>\n",
       "      <td>1.0</td>\n",
       "    </tr>\n",
       "    <tr>\n",
       "      <th>4</th>\n",
       "      <td>2.0</td>\n",
       "      <td>1.0</td>\n",
       "      <td>0.0</td>\n",
       "      <td>64.0</td>\n",
       "      <td>58.0</td>\n",
       "      <td>68.0</td>\n",
       "      <td>68.0</td>\n",
       "      <td>30.0</td>\n",
       "      <td>2.0</td>\n",
       "    </tr>\n",
       "  </tbody>\n",
       "</table>\n",
       "</div>"
      ],
      "text/plain": [
       "   individual  mode  choice  ttme  invc   invt    gc  hinc  psize\n",
       "0         1.0   1.0     0.0  69.0  59.0  100.0  70.0  35.0    1.0\n",
       "1         1.0   2.0     0.0  34.0  31.0  372.0  71.0  35.0    1.0\n",
       "2         1.0   3.0     0.0  35.0  25.0  417.0  70.0  35.0    1.0\n",
       "3         1.0   4.0     1.0   0.0  10.0  180.0  30.0  35.0    1.0\n",
       "4         2.0   1.0     0.0  64.0  58.0   68.0  68.0  30.0    2.0"
      ]
     },
     "execution_count": null,
     "metadata": {},
     "output_type": "execute_result"
    }
   ],
   "source": [
    "# Access the dataset\n",
    "mode_data = statsmodels.datasets.modechoice.load_pandas()\n",
    "# Get a pandas dataframe of the mode choice data\n",
    "long_df = mode_data[\"data\"]\n",
    "# Look at the dataframe to ensure that it loaded correctly\n",
    "long_df.head()"
   ]
  },
  {
   "cell_type": "code",
   "execution_count": null,
   "metadata": {},
   "outputs": [
    {
     "data": {
      "text/plain": [
       "((840, 9), 210, 4, 2)"
      ]
     },
     "execution_count": null,
     "metadata": {},
     "output_type": "execute_result"
    }
   ],
   "source": [
    "long_df.shape, long_df.individual.nunique(), long_df['mode'].nunique(), long_df['choice'].nunique()"
   ]
  },
  {
   "cell_type": "code",
   "execution_count": null,
   "metadata": {},
   "outputs": [
    {
     "data": {
      "text/plain": [
       "4.0    210\n",
       "3.0    210\n",
       "2.0    210\n",
       "1.0    210\n",
       "Name: mode, dtype: int64"
      ]
     },
     "execution_count": null,
     "metadata": {},
     "output_type": "execute_result"
    }
   ],
   "source": [
    "long_df['mode'].value_counts()"
   ]
  },
  {
   "cell_type": "code",
   "execution_count": null,
   "metadata": {},
   "outputs": [],
   "source": [
    "mode_id=(1,2,3,4)\n",
    "repeat = len(long_df['mode'])/4\n",
    "mode_id = ((mode_id)*int(repeat))"
   ]
  },
  {
   "cell_type": "code",
   "execution_count": null,
   "metadata": {},
   "outputs": [],
   "source": [
    "long_df['mode_id'] = mode_id"
   ]
  },
  {
   "cell_type": "code",
   "execution_count": null,
   "metadata": {},
   "outputs": [
    {
     "data": {
      "text/html": [
       "<div>\n",
       "<style scoped>\n",
       "    .dataframe tbody tr th:only-of-type {\n",
       "        vertical-align: middle;\n",
       "    }\n",
       "\n",
       "    .dataframe tbody tr th {\n",
       "        vertical-align: top;\n",
       "    }\n",
       "\n",
       "    .dataframe thead th {\n",
       "        text-align: right;\n",
       "    }\n",
       "</style>\n",
       "<table border=\"1\" class=\"dataframe\">\n",
       "  <thead>\n",
       "    <tr style=\"text-align: right;\">\n",
       "      <th></th>\n",
       "      <th>individual</th>\n",
       "      <th>mode</th>\n",
       "      <th>choice</th>\n",
       "      <th>ttme</th>\n",
       "      <th>invc</th>\n",
       "      <th>invt</th>\n",
       "      <th>gc</th>\n",
       "      <th>hinc</th>\n",
       "      <th>psize</th>\n",
       "      <th>mode_id</th>\n",
       "    </tr>\n",
       "  </thead>\n",
       "  <tbody>\n",
       "    <tr>\n",
       "      <th>0</th>\n",
       "      <td>1.0</td>\n",
       "      <td>1.0</td>\n",
       "      <td>0.0</td>\n",
       "      <td>69.0</td>\n",
       "      <td>59.0</td>\n",
       "      <td>100.0</td>\n",
       "      <td>70.0</td>\n",
       "      <td>35.0</td>\n",
       "      <td>1.0</td>\n",
       "      <td>1</td>\n",
       "    </tr>\n",
       "    <tr>\n",
       "      <th>1</th>\n",
       "      <td>1.0</td>\n",
       "      <td>2.0</td>\n",
       "      <td>0.0</td>\n",
       "      <td>34.0</td>\n",
       "      <td>31.0</td>\n",
       "      <td>372.0</td>\n",
       "      <td>71.0</td>\n",
       "      <td>35.0</td>\n",
       "      <td>1.0</td>\n",
       "      <td>2</td>\n",
       "    </tr>\n",
       "    <tr>\n",
       "      <th>2</th>\n",
       "      <td>1.0</td>\n",
       "      <td>3.0</td>\n",
       "      <td>0.0</td>\n",
       "      <td>35.0</td>\n",
       "      <td>25.0</td>\n",
       "      <td>417.0</td>\n",
       "      <td>70.0</td>\n",
       "      <td>35.0</td>\n",
       "      <td>1.0</td>\n",
       "      <td>3</td>\n",
       "    </tr>\n",
       "    <tr>\n",
       "      <th>3</th>\n",
       "      <td>1.0</td>\n",
       "      <td>4.0</td>\n",
       "      <td>1.0</td>\n",
       "      <td>0.0</td>\n",
       "      <td>10.0</td>\n",
       "      <td>180.0</td>\n",
       "      <td>30.0</td>\n",
       "      <td>35.0</td>\n",
       "      <td>1.0</td>\n",
       "      <td>4</td>\n",
       "    </tr>\n",
       "    <tr>\n",
       "      <th>4</th>\n",
       "      <td>2.0</td>\n",
       "      <td>1.0</td>\n",
       "      <td>0.0</td>\n",
       "      <td>64.0</td>\n",
       "      <td>58.0</td>\n",
       "      <td>68.0</td>\n",
       "      <td>68.0</td>\n",
       "      <td>30.0</td>\n",
       "      <td>2.0</td>\n",
       "      <td>1</td>\n",
       "    </tr>\n",
       "  </tbody>\n",
       "</table>\n",
       "</div>"
      ],
      "text/plain": [
       "   individual  mode  choice  ttme  invc   invt    gc  hinc  psize  mode_id\n",
       "0         1.0   1.0     0.0  69.0  59.0  100.0  70.0  35.0    1.0        1\n",
       "1         1.0   2.0     0.0  34.0  31.0  372.0  71.0  35.0    1.0        2\n",
       "2         1.0   3.0     0.0  35.0  25.0  417.0  70.0  35.0    1.0        3\n",
       "3         1.0   4.0     1.0   0.0  10.0  180.0  30.0  35.0    1.0        4\n",
       "4         2.0   1.0     0.0  64.0  58.0   68.0  68.0  30.0    2.0        1"
      ]
     },
     "execution_count": null,
     "metadata": {},
     "output_type": "execute_result"
    }
   ],
   "source": [
    "long_df.head()"
   ]
  },
  {
   "cell_type": "code",
   "execution_count": null,
   "metadata": {},
   "outputs": [],
   "source": [
    "data1 = long_df.copy()"
   ]
  },
  {
   "cell_type": "markdown",
   "metadata": {},
   "source": [
    "### Setup a MNL model"
   ]
  },
  {
   "cell_type": "code",
   "execution_count": null,
   "metadata": {},
   "outputs": [],
   "source": [
    "variable=['ttme','invc','invt']"
   ]
  },
  {
   "cell_type": "code",
   "execution_count": null,
   "metadata": {},
   "outputs": [],
   "source": [
    "from collections import OrderedDict\n",
    "bs_spec = OrderedDict()\n",
    "bs_name = OrderedDict()"
   ]
  },
  {
   "cell_type": "code",
   "execution_count": null,
   "metadata": {},
   "outputs": [],
   "source": [
    "bs_spec['intercept'] = [2,3,4]\n",
    "bs_name['intercept'] = ['intercept:train',\n",
    "                        'intercept:bus',\n",
    "                        'intercept:car']\n",
    "\n",
    "for col in variable:\n",
    "    bs_spec[col] = [[1,2,3,4]]\n",
    "    bs_name[col] = [col]\n",
    "    "
   ]
  },
  {
   "cell_type": "code",
   "execution_count": null,
   "metadata": {},
   "outputs": [
    {
     "data": {
      "text/plain": [
       "OrderedDict([('intercept',\n",
       "              ['intercept:train', 'intercept:bus', 'intercept:car']),\n",
       "             ('ttme', ['ttme']),\n",
       "             ('invc', ['invc']),\n",
       "             ('invt', ['invt'])])"
      ]
     },
     "execution_count": null,
     "metadata": {},
     "output_type": "execute_result"
    }
   ],
   "source": [
    "bs_name"
   ]
  },
  {
   "cell_type": "code",
   "execution_count": null,
   "metadata": {},
   "outputs": [],
   "source": [
    "model1 = pl.create_choice_model(data=data1,\n",
    "                                alt_id_col='mode_id',\n",
    "                                obs_id_col='individual',\n",
    "                                choice_col='choice',\n",
    "                                specification=bs_spec,\n",
    "                                model_type='MNL',\n",
    "                                names=bs_name)"
   ]
  },
  {
   "cell_type": "markdown",
   "metadata": {},
   "source": [
    "### Fit model and show results"
   ]
  },
  {
   "cell_type": "code",
   "execution_count": null,
   "metadata": {},
   "outputs": [
    {
     "name": "stdout",
     "output_type": "stream",
     "text": [
      "Log-likelihood at zero: -291.1218\n",
      "Initial Log-likelihood: -291.1218\n",
      "Estimation Time for Point Estimation: 0.09 seconds.\n",
      "Final log-likelihood: -192.8885\n"
     ]
    },
    {
     "name": "stderr",
     "output_type": "stream",
     "text": [
      "/home/danph/anaconda3/envs/dev/lib/python3.8/site-packages/scipy/optimize/_minimize.py:522: RuntimeWarning: Method BFGS does not use Hessian information (hess).\n",
      "  warn('Method %s does not use Hessian information (hess).' % method,\n"
     ]
    },
    {
     "data": {
      "text/html": [
       "<table class=\"simpletable\">\n",
       "<caption>Multinomial Logit Model Regression Results</caption>\n",
       "<tr>\n",
       "  <th>Dep. Variable:</th>         <td>choice</td>          <th>  No. Observations:  </th>    <td>210</td>  \n",
       "</tr>\n",
       "<tr>\n",
       "  <th>Model:</th>         <td>Multinomial Logit Model</td> <th>  Df Residuals:      </th>    <td>204</td>  \n",
       "</tr>\n",
       "<tr>\n",
       "  <th>Method:</th>                  <td>MLE</td>           <th>  Df Model:          </th>     <td>6</td>   \n",
       "</tr>\n",
       "<tr>\n",
       "  <th>Date:</th>             <td>Fri, 15 Jan 2021</td>     <th>  Pseudo R-squ.:     </th>   <td>0.337</td> \n",
       "</tr>\n",
       "<tr>\n",
       "  <th>Time:</th>                 <td>19:39:41</td>         <th>  Pseudo R-bar-squ.: </th>   <td>0.317</td> \n",
       "</tr>\n",
       "<tr>\n",
       "  <th>AIC:</th>                   <td>397.777</td>         <th>  Log-Likelihood:    </th> <td>-192.889</td>\n",
       "</tr>\n",
       "<tr>\n",
       "  <th>BIC:</th>                   <td>417.860</td>         <th>  LL-Null:           </th> <td>-291.122</td>\n",
       "</tr>\n",
       "</table>\n",
       "<table class=\"simpletable\">\n",
       "<tr>\n",
       "         <td></td>            <th>coef</th>     <th>std err</th>      <th>z</th>      <th>P>|z|</th>  <th>[0.025</th>    <th>0.975]</th>  \n",
       "</tr>\n",
       "<tr>\n",
       "  <th>intercept:train</th> <td>   -0.7867</td> <td>    0.603</td> <td>   -1.305</td> <td> 0.192</td> <td>   -1.968</td> <td>    0.394</td>\n",
       "</tr>\n",
       "<tr>\n",
       "  <th>intercept:bus</th>   <td>   -1.4336</td> <td>    0.681</td> <td>   -2.106</td> <td> 0.035</td> <td>   -2.768</td> <td>   -0.099</td>\n",
       "</tr>\n",
       "<tr>\n",
       "  <th>intercept:car</th>   <td>   -4.7399</td> <td>    0.868</td> <td>   -5.464</td> <td> 0.000</td> <td>   -6.440</td> <td>   -3.040</td>\n",
       "</tr>\n",
       "<tr>\n",
       "  <th>ttme</th>            <td>   -0.0969</td> <td>    0.010</td> <td>   -9.368</td> <td> 0.000</td> <td>   -0.117</td> <td>   -0.077</td>\n",
       "</tr>\n",
       "<tr>\n",
       "  <th>invc</th>            <td>   -0.0139</td> <td>    0.007</td> <td>   -2.092</td> <td> 0.036</td> <td>   -0.027</td> <td>   -0.001</td>\n",
       "</tr>\n",
       "<tr>\n",
       "  <th>invt</th>            <td>   -0.0040</td> <td>    0.001</td> <td>   -4.704</td> <td> 0.000</td> <td>   -0.006</td> <td>   -0.002</td>\n",
       "</tr>\n",
       "</table>"
      ],
      "text/plain": [
       "<class 'statsmodels.iolib.summary.Summary'>\n",
       "\"\"\"\n",
       "                     Multinomial Logit Model Regression Results                    \n",
       "===================================================================================\n",
       "Dep. Variable:                      choice   No. Observations:                  210\n",
       "Model:             Multinomial Logit Model   Df Residuals:                      204\n",
       "Method:                                MLE   Df Model:                            6\n",
       "Date:                     Fri, 15 Jan 2021   Pseudo R-squ.:                   0.337\n",
       "Time:                             19:39:41   Pseudo R-bar-squ.:               0.317\n",
       "AIC:                               397.777   Log-Likelihood:               -192.889\n",
       "BIC:                               417.860   LL-Null:                      -291.122\n",
       "===================================================================================\n",
       "                      coef    std err          z      P>|z|      [0.025      0.975]\n",
       "-----------------------------------------------------------------------------------\n",
       "intercept:train    -0.7867      0.603     -1.305      0.192      -1.968       0.394\n",
       "intercept:bus      -1.4336      0.681     -2.106      0.035      -2.768      -0.099\n",
       "intercept:car      -4.7399      0.868     -5.464      0.000      -6.440      -3.040\n",
       "ttme               -0.0969      0.010     -9.368      0.000      -0.117      -0.077\n",
       "invc               -0.0139      0.007     -2.092      0.036      -0.027      -0.001\n",
       "invt               -0.0040      0.001     -4.704      0.000      -0.006      -0.002\n",
       "===================================================================================\n",
       "\"\"\""
      ]
     },
     "execution_count": null,
     "metadata": {},
     "output_type": "execute_result"
    }
   ],
   "source": [
    "import numpy as np\n",
    "model1.fit_mle(np.zeros(6))\n",
    "model1.get_statsmodels_summary()"
   ]
  },
  {
   "cell_type": "code",
   "execution_count": null,
   "metadata": {},
   "outputs": [],
   "source": [
    "from sklearn.metrics import classification_report\n",
    "\n",
    "def model_pred(data, model):\n",
    "    data['predicted'] = model.predict(data)  \n",
    "    is_chosen = data.groupby(['individual'])['predicted'].idxmax()\n",
    "    data['predicted_choice'] = 0\n",
    "    data.loc[is_chosen.values,'predicted_choice'] = 1\n",
    "    \n",
    "    actual = data.loc[data['choice'] ==1,'mode_id']\n",
    "    pred = data.loc[data['predicted_choice'] ==1,'mode_id']\n",
    "    return data, actual, pred     \n",
    "\n",
    "res, actual, pred = model_pred(data1,model1)\n",
    "\n",
    "\n",
    "actual = data1.loc[data1['choice'] ==1,'mode_id']\n",
    "pred = data1.loc[data1['predicted_choice'] ==1,'mode_id']\n",
    "print(classification_report(actual, pred))"
   ]
  },
  {
   "cell_type": "code",
   "execution_count": null,
   "metadata": {},
   "outputs": [
    {
     "data": {
      "text/plain": [
       "0.7380952380952381"
      ]
     },
     "execution_count": null,
     "metadata": {},
     "output_type": "execute_result"
    }
   ],
   "source": [
    "(actual.values == pred.values).sum()/len(actual.values)"
   ]
  },
  {
   "cell_type": "code",
   "execution_count": null,
   "metadata": {},
   "outputs": [
    {
     "name": "stdout",
     "output_type": "stream",
     "text": [
      "              precision    recall  f1-score   support\n",
      "\n",
      "           1       0.71      0.67      0.69        58\n",
      "           2       0.77      0.78      0.77        63\n",
      "           3       0.96      0.77      0.85        30\n",
      "           4       0.66      0.75      0.70        59\n",
      "\n",
      "    accuracy                           0.74       210\n",
      "   macro avg       0.77      0.74      0.75       210\n",
      "weighted avg       0.75      0.74      0.74       210\n",
      "\n"
     ]
    }
   ],
   "source": [
    "print(classification_report(actual, pred))"
   ]
  },
  {
   "cell_type": "code",
   "execution_count": null,
   "metadata": {},
   "outputs": [],
   "source": []
  }
 ],
 "metadata": {
  "kernelspec": {
   "display_name": "Python 3",
   "language": "python",
   "name": "python3"
  }
 },
 "nbformat": 4,
 "nbformat_minor": 1
}
