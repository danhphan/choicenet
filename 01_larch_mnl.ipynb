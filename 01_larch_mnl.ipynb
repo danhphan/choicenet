{
 "cells": [
  {
   "cell_type": "code",
   "execution_count": 73,
   "id": "catholic-institute",
   "metadata": {},
   "outputs": [],
   "source": [
    "import larch, numpy, pandas, os\n",
    "from larch import P, X"
   ]
  },
  {
   "cell_type": "code",
   "execution_count": 74,
   "id": "developing-script",
   "metadata": {},
   "outputs": [
    {
     "data": {
      "text/plain": [
       "(6768, 28)"
      ]
     },
     "execution_count": 74,
     "metadata": {},
     "output_type": "execute_result"
    }
   ],
   "source": [
    "data = pandas.read_csv(\"./data/swissmetro.dat\", sep=\"\\t\")\n",
    "condition = (data.PURPOSE.isin([1,3]) & (data.CHOICE != 0))\n",
    "df = data.loc[condition].copy()\n",
    "df.shape"
   ]
  },
  {
   "cell_type": "code",
   "execution_count": 75,
   "id": "grave-polyester",
   "metadata": {},
   "outputs": [
    {
     "data": {
      "text/plain": [
       "Index(['GROUP', 'SURVEY', 'SP', 'ID', 'PURPOSE', 'FIRST', 'TICKET', 'WHO',\n",
       "       'LUGGAGE', 'AGE', 'MALE', 'INCOME', 'GA', 'ORIGIN', 'DEST', 'TRAIN_AV',\n",
       "       'CAR_AV', 'SM_AV', 'TRAIN_TT', 'TRAIN_CO', 'TRAIN_HE', 'SM_TT', 'SM_CO',\n",
       "       'SM_HE', 'SM_SEATS', 'CAR_TT', 'CAR_CO', 'CHOICE'],\n",
       "      dtype='object')"
      ]
     },
     "execution_count": 75,
     "metadata": {},
     "output_type": "execute_result"
    }
   ],
   "source": [
    "df.columns"
   ]
  },
  {
   "cell_type": "code",
   "execution_count": 76,
   "id": "guilty-barbados",
   "metadata": {},
   "outputs": [],
   "source": [
    "# Scale travel time and travel cost\n",
    "df[['TRAIN_TT', 'SM_TT', 'CAR_TT']] = df[['TRAIN_TT', 'SM_TT', 'CAR_TT']] / 100\n",
    "df[\"Free_ticket\"] = 1 - df.GA\n",
    "df['TRAIN_CO'] = df['TRAIN_CO'] * df[\"Free_ticket\"] / 100\n",
    "df['SM_CO'] = df['SM_CO'] * df[\"Free_ticket\"] / 100\n",
    "df['CAR_CO'] = df['CAR_CO'] * df[\"Free_ticket\"] / 100"
   ]
  },
  {
   "cell_type": "code",
   "execution_count": 77,
   "id": "executed-mediterranean",
   "metadata": {},
   "outputs": [],
   "source": [
    "# For clarity, define these mode\n",
    "TRAIN = 1\n",
    "SM = 2\n",
    "CAR = 3"
   ]
  },
  {
   "cell_type": "code",
   "execution_count": 78,
   "id": "median-cinema",
   "metadata": {},
   "outputs": [],
   "source": [
    "alt_codes = [TRAIN, SM, CAR]\n",
    "alt_names = [\"Train\", \"SwissMetro\", \"Car\"]\n",
    "\n",
    "dfs = larch.DataFrames(co=df, alt_codes=alt_codes, \n",
    "                       alt_names=alt_names, ch_name=\"CHOICE\")"
   ]
  },
  {
   "cell_type": "code",
   "execution_count": 79,
   "id": "willing-documentary",
   "metadata": {},
   "outputs": [],
   "source": [
    "m = larch.Model(dataservice=dfs)\n",
    "m.title = \"Travel mode choice\""
   ]
  },
  {
   "cell_type": "code",
   "execution_count": 80,
   "id": "adapted-divide",
   "metadata": {},
   "outputs": [
    {
     "data": {
      "text/html": [
       "<div>\n",
       "<style scoped>\n",
       "    .dataframe tbody tr th:only-of-type {\n",
       "        vertical-align: middle;\n",
       "    }\n",
       "\n",
       "    .dataframe tbody tr th {\n",
       "        vertical-align: top;\n",
       "    }\n",
       "\n",
       "    .dataframe thead th {\n",
       "        text-align: right;\n",
       "    }\n",
       "</style>\n",
       "<table border=\"1\" class=\"dataframe\">\n",
       "  <thead>\n",
       "    <tr style=\"text-align: right;\">\n",
       "      <th></th>\n",
       "      <th>0</th>\n",
       "      <th>1</th>\n",
       "      <th>2</th>\n",
       "      <th>3</th>\n",
       "      <th>4</th>\n",
       "    </tr>\n",
       "  </thead>\n",
       "  <tbody>\n",
       "    <tr>\n",
       "      <th>GROUP</th>\n",
       "      <td>2.00</td>\n",
       "      <td>2.00</td>\n",
       "      <td>2.00</td>\n",
       "      <td>2.00</td>\n",
       "      <td>2.00</td>\n",
       "    </tr>\n",
       "    <tr>\n",
       "      <th>SURVEY</th>\n",
       "      <td>0.00</td>\n",
       "      <td>0.00</td>\n",
       "      <td>0.00</td>\n",
       "      <td>0.00</td>\n",
       "      <td>0.00</td>\n",
       "    </tr>\n",
       "    <tr>\n",
       "      <th>SP</th>\n",
       "      <td>1.00</td>\n",
       "      <td>1.00</td>\n",
       "      <td>1.00</td>\n",
       "      <td>1.00</td>\n",
       "      <td>1.00</td>\n",
       "    </tr>\n",
       "    <tr>\n",
       "      <th>ID</th>\n",
       "      <td>1.00</td>\n",
       "      <td>1.00</td>\n",
       "      <td>1.00</td>\n",
       "      <td>1.00</td>\n",
       "      <td>1.00</td>\n",
       "    </tr>\n",
       "    <tr>\n",
       "      <th>PURPOSE</th>\n",
       "      <td>1.00</td>\n",
       "      <td>1.00</td>\n",
       "      <td>1.00</td>\n",
       "      <td>1.00</td>\n",
       "      <td>1.00</td>\n",
       "    </tr>\n",
       "    <tr>\n",
       "      <th>FIRST</th>\n",
       "      <td>0.00</td>\n",
       "      <td>0.00</td>\n",
       "      <td>0.00</td>\n",
       "      <td>0.00</td>\n",
       "      <td>0.00</td>\n",
       "    </tr>\n",
       "    <tr>\n",
       "      <th>TICKET</th>\n",
       "      <td>1.00</td>\n",
       "      <td>1.00</td>\n",
       "      <td>1.00</td>\n",
       "      <td>1.00</td>\n",
       "      <td>1.00</td>\n",
       "    </tr>\n",
       "    <tr>\n",
       "      <th>WHO</th>\n",
       "      <td>1.00</td>\n",
       "      <td>1.00</td>\n",
       "      <td>1.00</td>\n",
       "      <td>1.00</td>\n",
       "      <td>1.00</td>\n",
       "    </tr>\n",
       "    <tr>\n",
       "      <th>LUGGAGE</th>\n",
       "      <td>0.00</td>\n",
       "      <td>0.00</td>\n",
       "      <td>0.00</td>\n",
       "      <td>0.00</td>\n",
       "      <td>0.00</td>\n",
       "    </tr>\n",
       "    <tr>\n",
       "      <th>AGE</th>\n",
       "      <td>3.00</td>\n",
       "      <td>3.00</td>\n",
       "      <td>3.00</td>\n",
       "      <td>3.00</td>\n",
       "      <td>3.00</td>\n",
       "    </tr>\n",
       "    <tr>\n",
       "      <th>MALE</th>\n",
       "      <td>0.00</td>\n",
       "      <td>0.00</td>\n",
       "      <td>0.00</td>\n",
       "      <td>0.00</td>\n",
       "      <td>0.00</td>\n",
       "    </tr>\n",
       "    <tr>\n",
       "      <th>INCOME</th>\n",
       "      <td>2.00</td>\n",
       "      <td>2.00</td>\n",
       "      <td>2.00</td>\n",
       "      <td>2.00</td>\n",
       "      <td>2.00</td>\n",
       "    </tr>\n",
       "    <tr>\n",
       "      <th>GA</th>\n",
       "      <td>0.00</td>\n",
       "      <td>0.00</td>\n",
       "      <td>0.00</td>\n",
       "      <td>0.00</td>\n",
       "      <td>0.00</td>\n",
       "    </tr>\n",
       "    <tr>\n",
       "      <th>ORIGIN</th>\n",
       "      <td>2.00</td>\n",
       "      <td>2.00</td>\n",
       "      <td>2.00</td>\n",
       "      <td>2.00</td>\n",
       "      <td>2.00</td>\n",
       "    </tr>\n",
       "    <tr>\n",
       "      <th>DEST</th>\n",
       "      <td>1.00</td>\n",
       "      <td>1.00</td>\n",
       "      <td>1.00</td>\n",
       "      <td>1.00</td>\n",
       "      <td>1.00</td>\n",
       "    </tr>\n",
       "    <tr>\n",
       "      <th>TRAIN_AV</th>\n",
       "      <td>1.00</td>\n",
       "      <td>1.00</td>\n",
       "      <td>1.00</td>\n",
       "      <td>1.00</td>\n",
       "      <td>1.00</td>\n",
       "    </tr>\n",
       "    <tr>\n",
       "      <th>CAR_AV</th>\n",
       "      <td>1.00</td>\n",
       "      <td>1.00</td>\n",
       "      <td>1.00</td>\n",
       "      <td>1.00</td>\n",
       "      <td>1.00</td>\n",
       "    </tr>\n",
       "    <tr>\n",
       "      <th>SM_AV</th>\n",
       "      <td>1.00</td>\n",
       "      <td>1.00</td>\n",
       "      <td>1.00</td>\n",
       "      <td>1.00</td>\n",
       "      <td>1.00</td>\n",
       "    </tr>\n",
       "    <tr>\n",
       "      <th>TRAIN_TT</th>\n",
       "      <td>1.12</td>\n",
       "      <td>1.03</td>\n",
       "      <td>1.30</td>\n",
       "      <td>1.03</td>\n",
       "      <td>1.30</td>\n",
       "    </tr>\n",
       "    <tr>\n",
       "      <th>TRAIN_CO</th>\n",
       "      <td>0.48</td>\n",
       "      <td>0.48</td>\n",
       "      <td>0.48</td>\n",
       "      <td>0.40</td>\n",
       "      <td>0.36</td>\n",
       "    </tr>\n",
       "    <tr>\n",
       "      <th>TRAIN_HE</th>\n",
       "      <td>120.00</td>\n",
       "      <td>30.00</td>\n",
       "      <td>60.00</td>\n",
       "      <td>30.00</td>\n",
       "      <td>60.00</td>\n",
       "    </tr>\n",
       "    <tr>\n",
       "      <th>SM_TT</th>\n",
       "      <td>0.63</td>\n",
       "      <td>0.60</td>\n",
       "      <td>0.67</td>\n",
       "      <td>0.63</td>\n",
       "      <td>0.63</td>\n",
       "    </tr>\n",
       "    <tr>\n",
       "      <th>SM_CO</th>\n",
       "      <td>0.52</td>\n",
       "      <td>0.49</td>\n",
       "      <td>0.58</td>\n",
       "      <td>0.52</td>\n",
       "      <td>0.42</td>\n",
       "    </tr>\n",
       "    <tr>\n",
       "      <th>SM_HE</th>\n",
       "      <td>20.00</td>\n",
       "      <td>10.00</td>\n",
       "      <td>30.00</td>\n",
       "      <td>20.00</td>\n",
       "      <td>20.00</td>\n",
       "    </tr>\n",
       "    <tr>\n",
       "      <th>SM_SEATS</th>\n",
       "      <td>0.00</td>\n",
       "      <td>0.00</td>\n",
       "      <td>0.00</td>\n",
       "      <td>0.00</td>\n",
       "      <td>0.00</td>\n",
       "    </tr>\n",
       "    <tr>\n",
       "      <th>CAR_TT</th>\n",
       "      <td>1.17</td>\n",
       "      <td>1.17</td>\n",
       "      <td>1.17</td>\n",
       "      <td>0.72</td>\n",
       "      <td>0.90</td>\n",
       "    </tr>\n",
       "    <tr>\n",
       "      <th>CAR_CO</th>\n",
       "      <td>0.65</td>\n",
       "      <td>0.84</td>\n",
       "      <td>0.52</td>\n",
       "      <td>0.52</td>\n",
       "      <td>0.84</td>\n",
       "    </tr>\n",
       "    <tr>\n",
       "      <th>CHOICE</th>\n",
       "      <td>2.00</td>\n",
       "      <td>2.00</td>\n",
       "      <td>2.00</td>\n",
       "      <td>2.00</td>\n",
       "      <td>2.00</td>\n",
       "    </tr>\n",
       "    <tr>\n",
       "      <th>Free_ticket</th>\n",
       "      <td>1.00</td>\n",
       "      <td>1.00</td>\n",
       "      <td>1.00</td>\n",
       "      <td>1.00</td>\n",
       "      <td>1.00</td>\n",
       "    </tr>\n",
       "  </tbody>\n",
       "</table>\n",
       "</div>"
      ],
      "text/plain": [
       "                  0      1      2      3      4\n",
       "GROUP          2.00   2.00   2.00   2.00   2.00\n",
       "SURVEY         0.00   0.00   0.00   0.00   0.00\n",
       "SP             1.00   1.00   1.00   1.00   1.00\n",
       "ID             1.00   1.00   1.00   1.00   1.00\n",
       "PURPOSE        1.00   1.00   1.00   1.00   1.00\n",
       "FIRST          0.00   0.00   0.00   0.00   0.00\n",
       "TICKET         1.00   1.00   1.00   1.00   1.00\n",
       "WHO            1.00   1.00   1.00   1.00   1.00\n",
       "LUGGAGE        0.00   0.00   0.00   0.00   0.00\n",
       "AGE            3.00   3.00   3.00   3.00   3.00\n",
       "MALE           0.00   0.00   0.00   0.00   0.00\n",
       "INCOME         2.00   2.00   2.00   2.00   2.00\n",
       "GA             0.00   0.00   0.00   0.00   0.00\n",
       "ORIGIN         2.00   2.00   2.00   2.00   2.00\n",
       "DEST           1.00   1.00   1.00   1.00   1.00\n",
       "TRAIN_AV       1.00   1.00   1.00   1.00   1.00\n",
       "CAR_AV         1.00   1.00   1.00   1.00   1.00\n",
       "SM_AV          1.00   1.00   1.00   1.00   1.00\n",
       "TRAIN_TT       1.12   1.03   1.30   1.03   1.30\n",
       "TRAIN_CO       0.48   0.48   0.48   0.40   0.36\n",
       "TRAIN_HE     120.00  30.00  60.00  30.00  60.00\n",
       "SM_TT          0.63   0.60   0.67   0.63   0.63\n",
       "SM_CO          0.52   0.49   0.58   0.52   0.42\n",
       "SM_HE         20.00  10.00  30.00  20.00  20.00\n",
       "SM_SEATS       0.00   0.00   0.00   0.00   0.00\n",
       "CAR_TT         1.17   1.17   1.17   0.72   0.90\n",
       "CAR_CO         0.65   0.84   0.52   0.52   0.84\n",
       "CHOICE         2.00   2.00   2.00   2.00   2.00\n",
       "Free_ticket    1.00   1.00   1.00   1.00   1.00"
      ]
     },
     "execution_count": 80,
     "metadata": {},
     "output_type": "execute_result"
    }
   ],
   "source": [
    "df.head().T"
   ]
  },
  {
   "cell_type": "code",
   "execution_count": 81,
   "id": "minus-benefit",
   "metadata": {},
   "outputs": [],
   "source": [
    "m.utility_co[TRAIN] = (\n",
    "    + P.ASC_TRAIN\n",
    "    + P.TT * X.TRAIN_TT\n",
    "    + P.CO * X.TRAIN_CO\n",
    ")\n",
    "m.utility_co[SM] = (\n",
    "    + P.TT * X.SM_TT\n",
    "    + P.CO * X.SM_CO\n",
    ")\n",
    "m.utility_co[CAR] = (\n",
    "    + P.ASC_CAR\n",
    "    + P.TT * X.CAR_TT\n",
    "    + P.CO * X.CAR_CO\n",
    ")\n",
    "\n",
    "m.choice_co_code = \"CHOICE\"\n",
    "\n",
    "m.availability_co_vars = {\n",
    "    TRAIN: 'TRAIN_AV',\n",
    "    SM: 'SM_AV',\n",
    "    CAR: 'CAR_AV',\n",
    "}"
   ]
  },
  {
   "cell_type": "markdown",
   "id": "opened-deployment",
   "metadata": {},
   "source": [
    "### Model Estimation"
   ]
  },
  {
   "cell_type": "code",
   "execution_count": 82,
   "id": "helpful-poetry",
   "metadata": {},
   "outputs": [],
   "source": [
    "m.load_data()"
   ]
  },
  {
   "cell_type": "code",
   "execution_count": 83,
   "id": "allied-plumbing",
   "metadata": {},
   "outputs": [
    {
     "data": {
      "text/html": [
       "<div>\n",
       "<style scoped>\n",
       "    .dataframe tbody tr th:only-of-type {\n",
       "        vertical-align: middle;\n",
       "    }\n",
       "\n",
       "    .dataframe tbody tr th {\n",
       "        vertical-align: top;\n",
       "    }\n",
       "\n",
       "    .dataframe thead th {\n",
       "        text-align: right;\n",
       "    }\n",
       "</style>\n",
       "<table border=\"1\" class=\"dataframe\">\n",
       "  <thead>\n",
       "    <tr style=\"text-align: right;\">\n",
       "      <th></th>\n",
       "      <th>name</th>\n",
       "      <th>chosen</th>\n",
       "      <th>available</th>\n",
       "    </tr>\n",
       "  </thead>\n",
       "  <tbody>\n",
       "    <tr>\n",
       "      <th>1</th>\n",
       "      <td>Train</td>\n",
       "      <td>908.0</td>\n",
       "      <td>6768</td>\n",
       "    </tr>\n",
       "    <tr>\n",
       "      <th>2</th>\n",
       "      <td>SwissMetro</td>\n",
       "      <td>4090.0</td>\n",
       "      <td>6768</td>\n",
       "    </tr>\n",
       "    <tr>\n",
       "      <th>3</th>\n",
       "      <td>Car</td>\n",
       "      <td>1770.0</td>\n",
       "      <td>5607</td>\n",
       "    </tr>\n",
       "    <tr>\n",
       "      <th>&lt; Total All Alternatives &gt;</th>\n",
       "      <td></td>\n",
       "      <td>6768.0</td>\n",
       "      <td></td>\n",
       "    </tr>\n",
       "  </tbody>\n",
       "</table>\n",
       "</div>"
      ],
      "text/plain": [
       "                                  name  chosen available\n",
       "1                                Train   908.0      6768\n",
       "2                           SwissMetro  4090.0      6768\n",
       "3                                  Car  1770.0      5607\n",
       "< Total All Alternatives >              6768.0          "
      ]
     },
     "execution_count": 83,
     "metadata": {},
     "output_type": "execute_result"
    }
   ],
   "source": [
    "m.dataframes.choice_avail_summary()"
   ]
  },
  {
   "cell_type": "code",
   "execution_count": 84,
   "id": "declared-principle",
   "metadata": {},
   "outputs": [
    {
     "data": {
      "text/html": [
       "<h3>Iteration 010 [Converged] </h3>"
      ],
      "text/plain": [
       "<IPython.core.display.HTML object>"
      ]
     },
     "metadata": {},
     "output_type": "display_data"
    },
    {
     "data": {
      "text/html": [
       "<p>LL = -5374.057363640353</p>"
      ],
      "text/plain": [
       "<IPython.core.display.HTML object>"
      ]
     },
     "metadata": {},
     "output_type": "display_data"
    },
    {
     "data": {
      "text/html": [
       "<div>\n",
       "<style scoped>\n",
       "    .dataframe tbody tr th:only-of-type {\n",
       "        vertical-align: middle;\n",
       "    }\n",
       "\n",
       "    .dataframe tbody tr th {\n",
       "        vertical-align: top;\n",
       "    }\n",
       "\n",
       "    .dataframe thead th {\n",
       "        text-align: right;\n",
       "    }\n",
       "</style>\n",
       "<table border=\"1\" class=\"dataframe\">\n",
       "  <thead>\n",
       "    <tr style=\"text-align: right;\">\n",
       "      <th></th>\n",
       "      <th>value</th>\n",
       "      <th>initvalue</th>\n",
       "      <th>nullvalue</th>\n",
       "      <th>minimum</th>\n",
       "      <th>maximum</th>\n",
       "      <th>holdfast</th>\n",
       "      <th>note</th>\n",
       "      <th>best</th>\n",
       "    </tr>\n",
       "  </thead>\n",
       "  <tbody>\n",
       "    <tr>\n",
       "      <th>ASC_CAR</th>\n",
       "      <td>-0.217924</td>\n",
       "      <td>0.0</td>\n",
       "      <td>0.0</td>\n",
       "      <td>-inf</td>\n",
       "      <td>inf</td>\n",
       "      <td>0</td>\n",
       "      <td></td>\n",
       "      <td>-0.217924</td>\n",
       "    </tr>\n",
       "    <tr>\n",
       "      <th>ASC_TRAIN</th>\n",
       "      <td>-0.727504</td>\n",
       "      <td>0.0</td>\n",
       "      <td>0.0</td>\n",
       "      <td>-inf</td>\n",
       "      <td>inf</td>\n",
       "      <td>0</td>\n",
       "      <td></td>\n",
       "      <td>-0.727504</td>\n",
       "    </tr>\n",
       "    <tr>\n",
       "      <th>CO</th>\n",
       "      <td>-1.063457</td>\n",
       "      <td>0.0</td>\n",
       "      <td>0.0</td>\n",
       "      <td>-inf</td>\n",
       "      <td>inf</td>\n",
       "      <td>0</td>\n",
       "      <td></td>\n",
       "      <td>-1.063457</td>\n",
       "    </tr>\n",
       "    <tr>\n",
       "      <th>TT</th>\n",
       "      <td>-1.237383</td>\n",
       "      <td>0.0</td>\n",
       "      <td>0.0</td>\n",
       "      <td>-inf</td>\n",
       "      <td>inf</td>\n",
       "      <td>0</td>\n",
       "      <td></td>\n",
       "      <td>-1.237383</td>\n",
       "    </tr>\n",
       "  </tbody>\n",
       "</table>\n",
       "</div>"
      ],
      "text/plain": [
       "              value  initvalue  nullvalue  minimum  maximum  holdfast note  \\\n",
       "ASC_CAR   -0.217924        0.0        0.0     -inf      inf         0        \n",
       "ASC_TRAIN -0.727504        0.0        0.0     -inf      inf         0        \n",
       "CO        -1.063457        0.0        0.0     -inf      inf         0        \n",
       "TT        -1.237383        0.0        0.0     -inf      inf         0        \n",
       "\n",
       "               best  \n",
       "ASC_CAR   -0.217924  \n",
       "ASC_TRAIN -0.727504  \n",
       "CO        -1.063457  \n",
       "TT        -1.237383  "
      ]
     },
     "metadata": {},
     "output_type": "display_data"
    }
   ],
   "source": [
    "result = m.maximize_loglike(method='slsqp')"
   ]
  },
  {
   "cell_type": "code",
   "execution_count": 85,
   "id": "healthy-teens",
   "metadata": {},
   "outputs": [
    {
     "data": {
      "text/html": [
       "<div><table><thead><tr><th style=\"text-align: left;\">Parameter</th><th>Value</th><th>Null Value</th></tr></thead><tbody><tr><th style=\"vertical-align: top; text-align: left;\">ASC_CAR</th><td>-0.2179</td><td>0.0</td></tr><tr><th style=\"vertical-align: top; text-align: left;\">ASC_TRAIN</th><td>-0.7275</td><td>0.0</td></tr><tr><th style=\"vertical-align: top; text-align: left;\">CO</th><td>-1.063</td><td>0.0</td></tr><tr><th style=\"vertical-align: top; text-align: left;\">TT</th><td>-1.237</td><td>0.0</td></tr></tbody></table></div>"
      ],
      "text/plain": [
       " Parameter    Value  Null Value\n",
       "   ASC_CAR  -0.2179         0.0\n",
       " ASC_TRAIN  -0.7275         0.0\n",
       "        CO   -1.063         0.0\n",
       "        TT   -1.237         0.0"
      ]
     },
     "execution_count": 85,
     "metadata": {},
     "output_type": "execute_result"
    }
   ],
   "source": [
    "m.parameter_summary()"
   ]
  },
  {
   "cell_type": "code",
   "execution_count": 72,
   "id": "neither-spectrum",
   "metadata": {},
   "outputs": [],
   "source": [
    "#### NOTE:\n",
    "# The results seem different from Biogeme and Pylogit.\n",
    "# This may need to be reinvestigated again !!!"
   ]
  },
  {
   "cell_type": "code",
   "execution_count": 86,
   "id": "aware-payment",
   "metadata": {},
   "outputs": [
    {
     "data": {
      "text/plain": [
       "['__call__',\n",
       " '__class__',\n",
       " '__delattr__',\n",
       " '__dir__',\n",
       " '__doc__',\n",
       " '__eq__',\n",
       " '__format__',\n",
       " '__ge__',\n",
       " '__getattr__',\n",
       " '__getattribute__',\n",
       " '__getitem__',\n",
       " '__gt__',\n",
       " '__hash__',\n",
       " '__init__',\n",
       " '__init_subclass__',\n",
       " '__le__',\n",
       " '__lt__',\n",
       " '__ne__',\n",
       " '__new__',\n",
       " '__reduce__',\n",
       " '__reduce_ex__',\n",
       " '__repr__',\n",
       " '__setattr__',\n",
       " '__setstate__',\n",
       " '__sizeof__',\n",
       " '__str__',\n",
       " '__subclasshook__']"
      ]
     },
     "execution_count": 86,
     "metadata": {},
     "output_type": "execute_result"
    }
   ],
   "source": [
    " dir(P)"
   ]
  },
  {
   "cell_type": "code",
   "execution_count": 87,
   "id": "hungarian-generator",
   "metadata": {},
   "outputs": [],
   "source": [
    "P??"
   ]
  }
 ],
 "metadata": {
  "kernelspec": {
   "display_name": "Python 3",
   "language": "python",
   "name": "python3"
  },
  "language_info": {
   "codemirror_mode": {
    "name": "ipython",
    "version": 3
   },
   "file_extension": ".py",
   "mimetype": "text/x-python",
   "name": "python",
   "nbconvert_exporter": "python",
   "pygments_lexer": "ipython3",
   "version": "3.7.10"
  }
 },
 "nbformat": 4,
 "nbformat_minor": 5
}
