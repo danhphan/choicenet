{
 "cells": [
  {
   "cell_type": "code",
   "execution_count": null,
   "metadata": {},
   "outputs": [],
   "source": [
    "# default_exp MNL"
   ]
  },
  {
   "cell_type": "markdown",
   "metadata": {},
   "source": [
    "# MNL\n",
    "\n",
    "> API details."
   ]
  },
  {
   "cell_type": "code",
   "execution_count": 8,
   "metadata": {},
   "outputs": [],
   "source": [
    "#hide\n",
    "from nbdev.showdoc import *"
   ]
  },
  {
   "cell_type": "code",
   "execution_count": 9,
   "metadata": {},
   "outputs": [],
   "source": [
    "import math\n",
    "import pickle\n",
    "import numpy as np\n",
    "import pandas as pd\n",
    "import torch"
   ]
  },
  {
   "cell_type": "markdown",
   "metadata": {},
   "source": [
    "### Load data set"
   ]
  },
  {
   "cell_type": "code",
   "execution_count": 19,
   "metadata": {
    "scrolled": true
   },
   "outputs": [
    {
     "data": {
      "text/plain": [
       "((10692, 28), pandas.core.frame.DataFrame)"
      ]
     },
     "execution_count": 19,
     "metadata": {},
     "output_type": "execute_result"
    }
   ],
   "source": [
    "data = pd.read_csv('./data/swissmetro_clean.csv')\n",
    "data.shape, type(data)"
   ]
  },
  {
   "cell_type": "code",
   "execution_count": 20,
   "metadata": {},
   "outputs": [
    {
     "data": {
      "text/plain": [
       "2    6199\n",
       "3    3080\n",
       "1    1413\n",
       "Name: CHOICE, dtype: int64"
      ]
     },
     "execution_count": 20,
     "metadata": {},
     "output_type": "execute_result"
    }
   ],
   "source": [
    "data['CHOICE'].value_counts()"
   ]
  },
  {
   "cell_type": "code",
   "execution_count": 21,
   "metadata": {},
   "outputs": [],
   "source": [
    "# Preprocessing\n",
    "data['TRAIN_AV'] = data['TRAIN_AV'] * (data['SP'] != 0)\n",
    "data['CAR_AV'] = data['CAR_AV'] * (data['SP'] != 0)\n",
    "\n",
    "data['SM_CO'] = data['SM_CO'] * (data['GA'] == 0)\n",
    "data['TRAIN_CO'] = data['TRAIN_CO'] * (data['GA'] == 0)\n",
    "\n",
    "cols = ['TRAIN_TT','TRAIN_CO', 'SM_TT', 'SM_CO', 'CAR_TT', 'CAR_CO']\n",
    "data[cols] = data[cols]/100.0"
   ]
  },
  {
   "cell_type": "code",
   "execution_count": 22,
   "metadata": {},
   "outputs": [
    {
     "data": {
      "text/html": [
       "<div>\n",
       "<style scoped>\n",
       "    .dataframe tbody tr th:only-of-type {\n",
       "        vertical-align: middle;\n",
       "    }\n",
       "\n",
       "    .dataframe tbody tr th {\n",
       "        vertical-align: top;\n",
       "    }\n",
       "\n",
       "    .dataframe thead th {\n",
       "        text-align: right;\n",
       "    }\n",
       "</style>\n",
       "<table border=\"1\" class=\"dataframe\">\n",
       "  <thead>\n",
       "    <tr style=\"text-align: right;\">\n",
       "      <th></th>\n",
       "      <th>GROUP</th>\n",
       "      <th>SURVEY</th>\n",
       "      <th>SP</th>\n",
       "      <th>ID</th>\n",
       "      <th>PURPOSE</th>\n",
       "      <th>FIRST</th>\n",
       "      <th>TICKET</th>\n",
       "      <th>WHO</th>\n",
       "      <th>LUGGAGE</th>\n",
       "      <th>AGE</th>\n",
       "      <th>...</th>\n",
       "      <th>TRAIN_TT</th>\n",
       "      <th>TRAIN_CO</th>\n",
       "      <th>TRAIN_HE</th>\n",
       "      <th>SM_TT</th>\n",
       "      <th>SM_CO</th>\n",
       "      <th>SM_HE</th>\n",
       "      <th>SM_SEATS</th>\n",
       "      <th>CAR_TT</th>\n",
       "      <th>CAR_CO</th>\n",
       "      <th>CHOICE</th>\n",
       "    </tr>\n",
       "  </thead>\n",
       "  <tbody>\n",
       "    <tr>\n",
       "      <th>0</th>\n",
       "      <td>2</td>\n",
       "      <td>0</td>\n",
       "      <td>1</td>\n",
       "      <td>1</td>\n",
       "      <td>1</td>\n",
       "      <td>0</td>\n",
       "      <td>1</td>\n",
       "      <td>1</td>\n",
       "      <td>0</td>\n",
       "      <td>3</td>\n",
       "      <td>...</td>\n",
       "      <td>1.12</td>\n",
       "      <td>0.48</td>\n",
       "      <td>120</td>\n",
       "      <td>0.63</td>\n",
       "      <td>0.52</td>\n",
       "      <td>20</td>\n",
       "      <td>0</td>\n",
       "      <td>1.17</td>\n",
       "      <td>0.65</td>\n",
       "      <td>2</td>\n",
       "    </tr>\n",
       "    <tr>\n",
       "      <th>1</th>\n",
       "      <td>2</td>\n",
       "      <td>0</td>\n",
       "      <td>1</td>\n",
       "      <td>1</td>\n",
       "      <td>1</td>\n",
       "      <td>0</td>\n",
       "      <td>1</td>\n",
       "      <td>1</td>\n",
       "      <td>0</td>\n",
       "      <td>3</td>\n",
       "      <td>...</td>\n",
       "      <td>1.03</td>\n",
       "      <td>0.48</td>\n",
       "      <td>30</td>\n",
       "      <td>0.60</td>\n",
       "      <td>0.49</td>\n",
       "      <td>10</td>\n",
       "      <td>0</td>\n",
       "      <td>1.17</td>\n",
       "      <td>0.84</td>\n",
       "      <td>2</td>\n",
       "    </tr>\n",
       "    <tr>\n",
       "      <th>2</th>\n",
       "      <td>2</td>\n",
       "      <td>0</td>\n",
       "      <td>1</td>\n",
       "      <td>1</td>\n",
       "      <td>1</td>\n",
       "      <td>0</td>\n",
       "      <td>1</td>\n",
       "      <td>1</td>\n",
       "      <td>0</td>\n",
       "      <td>3</td>\n",
       "      <td>...</td>\n",
       "      <td>1.30</td>\n",
       "      <td>0.48</td>\n",
       "      <td>60</td>\n",
       "      <td>0.67</td>\n",
       "      <td>0.58</td>\n",
       "      <td>30</td>\n",
       "      <td>0</td>\n",
       "      <td>1.17</td>\n",
       "      <td>0.52</td>\n",
       "      <td>2</td>\n",
       "    </tr>\n",
       "    <tr>\n",
       "      <th>3</th>\n",
       "      <td>2</td>\n",
       "      <td>0</td>\n",
       "      <td>1</td>\n",
       "      <td>1</td>\n",
       "      <td>1</td>\n",
       "      <td>0</td>\n",
       "      <td>1</td>\n",
       "      <td>1</td>\n",
       "      <td>0</td>\n",
       "      <td>3</td>\n",
       "      <td>...</td>\n",
       "      <td>1.03</td>\n",
       "      <td>0.40</td>\n",
       "      <td>30</td>\n",
       "      <td>0.63</td>\n",
       "      <td>0.52</td>\n",
       "      <td>20</td>\n",
       "      <td>0</td>\n",
       "      <td>0.72</td>\n",
       "      <td>0.52</td>\n",
       "      <td>2</td>\n",
       "    </tr>\n",
       "    <tr>\n",
       "      <th>4</th>\n",
       "      <td>2</td>\n",
       "      <td>0</td>\n",
       "      <td>1</td>\n",
       "      <td>1</td>\n",
       "      <td>1</td>\n",
       "      <td>0</td>\n",
       "      <td>1</td>\n",
       "      <td>1</td>\n",
       "      <td>0</td>\n",
       "      <td>3</td>\n",
       "      <td>...</td>\n",
       "      <td>1.30</td>\n",
       "      <td>0.36</td>\n",
       "      <td>60</td>\n",
       "      <td>0.63</td>\n",
       "      <td>0.42</td>\n",
       "      <td>20</td>\n",
       "      <td>0</td>\n",
       "      <td>0.90</td>\n",
       "      <td>0.84</td>\n",
       "      <td>2</td>\n",
       "    </tr>\n",
       "  </tbody>\n",
       "</table>\n",
       "<p>5 rows × 28 columns</p>\n",
       "</div>"
      ],
      "text/plain": [
       "   GROUP  SURVEY  SP  ID  PURPOSE  FIRST  TICKET  WHO  LUGGAGE  AGE  ...  \\\n",
       "0      2       0   1   1        1      0       1    1        0    3  ...   \n",
       "1      2       0   1   1        1      0       1    1        0    3  ...   \n",
       "2      2       0   1   1        1      0       1    1        0    3  ...   \n",
       "3      2       0   1   1        1      0       1    1        0    3  ...   \n",
       "4      2       0   1   1        1      0       1    1        0    3  ...   \n",
       "\n",
       "   TRAIN_TT  TRAIN_CO  TRAIN_HE  SM_TT  SM_CO  SM_HE  SM_SEATS  CAR_TT  \\\n",
       "0      1.12      0.48       120   0.63   0.52     20         0    1.17   \n",
       "1      1.03      0.48        30   0.60   0.49     10         0    1.17   \n",
       "2      1.30      0.48        60   0.67   0.58     30         0    1.17   \n",
       "3      1.03      0.40        30   0.63   0.52     20         0    0.72   \n",
       "4      1.30      0.36        60   0.63   0.42     20         0    0.90   \n",
       "\n",
       "   CAR_CO  CHOICE  \n",
       "0    0.65       2  \n",
       "1    0.84       2  \n",
       "2    0.52       2  \n",
       "3    0.52       2  \n",
       "4    0.84       2  \n",
       "\n",
       "[5 rows x 28 columns]"
      ]
     },
     "execution_count": 22,
     "metadata": {},
     "output_type": "execute_result"
    }
   ],
   "source": [
    "data.head()"
   ]
  },
  {
   "cell_type": "markdown",
   "metadata": {},
   "source": [
    "#### Utility function:\n",
    "\n",
    "* V1 = ASC_TRAIN + B_TIME * TRAIN_TT_SCALED + B_COST * TRAIN_COST_SCALED\n",
    "* V2 = ASC_SM    + B_TIME * SM_TT_SCALED    + B_COST * SM_COST_SCALED\n",
    "* V3 = ASC_CAR   + B_TIME * CAR_TT_SCALED   + B_COST * CAR_CO_SCALED\n",
    "\n",
    "av = {1: TRAIN_AV_SP, 2: SM_AV, 3: CAR_AV_SP}\n",
    "\n",
    "CHOICE: 1: Train, 2: SM, 3: Car\n"
   ]
  },
  {
   "cell_type": "markdown",
   "metadata": {},
   "source": [
    "### MNL test with MSELoss"
   ]
  },
  {
   "cell_type": "code",
   "execution_count": 23,
   "metadata": {},
   "outputs": [],
   "source": [
    "class MNL(torch.nn.Module):\n",
    "    \n",
    "    def __init__(self):\n",
    "        super().__init__()\n",
    "        self.ASC_TRAIN = torch.nn.Parameter(torch.full((),2.0))\n",
    "        self.ASC_SM    = torch.nn.Parameter(torch.full((),1.0))\n",
    "        self.ASC_CAR   = torch.nn.Parameter(torch.full((),1.0))\n",
    "        self.B_TIME    = torch.nn.Parameter(torch.full((),-1.0))\n",
    "        self.B_COST    = torch.nn.Parameter(torch.full((),-0.5))        \n",
    "        \n",
    "    def forward(self, x):\n",
    "        # Calculate V\n",
    "        V1 = self.ASC_TRAIN + self.B_TIME * torch.tensor(x['TRAIN_TT'].values, dtype=torch.float) + self.B_COST * torch.tensor(x['TRAIN_CO'].values, dtype=torch.float)\n",
    "        V2 = self.ASC_SM    + self.B_TIME * torch.tensor(x['SM_TT'].values, dtype=torch.float)    + self.B_COST * torch.tensor(x['SM_CO'].values, dtype=torch.float)\n",
    "        V3 = self.ASC_CAR   + self.B_TIME * torch.tensor(x['CAR_TT'].values, dtype=torch.float)   + self.B_COST * torch.tensor(x['CAR_CO'].values, dtype=torch.float)\n",
    "        \n",
    "        SUM = torch.exp(V1) + torch.exp(V2) + torch.exp(V3)\n",
    "        P1 = torch.exp(V1)/SUM\n",
    "        P2 = torch.exp(V2)/SUM\n",
    "        P3 = torch.exp(V3)/SUM\n",
    "        \n",
    "        ALTS = {'TRAIN': 1, 'SM': 2, 'CAR':3}\n",
    "        output = P1 * ALTS['TRAIN'] + P2 * ALTS['SM'] + P3 * ALTS['CAR']\n",
    "        return output\n",
    "    \n",
    "    def string(self):\n",
    "        return f'ASC_TRAIN={self.ASC_TRAIN}, ASC_SM={self.ASC_SM}, ASC_CAR={self.ASC_CAR}, B_TIME={self.B_TIME}, B_COST={self.B_COST}'"
   ]
  },
  {
   "cell_type": "code",
   "execution_count": 24,
   "metadata": {},
   "outputs": [
    {
     "data": {
      "text/plain": [
       "((10692, 6), torch.Size([10692]))"
      ]
     },
     "execution_count": 24,
     "metadata": {},
     "output_type": "execute_result"
    }
   ],
   "source": [
    "# Data prepraration\n",
    "x = data[cols]\n",
    "y = data['CHOICE']\n",
    "y = torch.tensor(y.values,dtype=torch.float)\n",
    "x.shape, y.shape"
   ]
  },
  {
   "cell_type": "code",
   "execution_count": 25,
   "metadata": {},
   "outputs": [
    {
     "name": "stdout",
     "output_type": "stream",
     "text": [
      "99 tensor(5836.6802, grad_fn=<MseLossBackward>)\n",
      "199 tensor(5835.8643, grad_fn=<MseLossBackward>)\n",
      "299 tensor(5835.0493, grad_fn=<MseLossBackward>)\n",
      "399 tensor(5834.2344, grad_fn=<MseLossBackward>)\n",
      "499 tensor(5833.4204, grad_fn=<MseLossBackward>)\n",
      "599 tensor(5832.6055, grad_fn=<MseLossBackward>)\n",
      "699 tensor(5831.7910, grad_fn=<MseLossBackward>)\n",
      "799 tensor(5830.9780, grad_fn=<MseLossBackward>)\n",
      "899 tensor(5830.1646, grad_fn=<MseLossBackward>)\n",
      "999 tensor(5829.3516, grad_fn=<MseLossBackward>)\n",
      "1099 tensor(5828.5391, grad_fn=<MseLossBackward>)\n",
      "1199 tensor(5827.7271, grad_fn=<MseLossBackward>)\n",
      "1299 tensor(5826.9141, grad_fn=<MseLossBackward>)\n",
      "1399 tensor(5826.1035, grad_fn=<MseLossBackward>)\n",
      "1499 tensor(5825.2920, grad_fn=<MseLossBackward>)\n",
      "1599 tensor(5824.4819, grad_fn=<MseLossBackward>)\n",
      "1699 tensor(5823.6714, grad_fn=<MseLossBackward>)\n",
      "1799 tensor(5822.8613, grad_fn=<MseLossBackward>)\n",
      "1899 tensor(5822.0518, grad_fn=<MseLossBackward>)\n",
      "1999 tensor(5821.2427, grad_fn=<MseLossBackward>)\n"
     ]
    }
   ],
   "source": [
    "model = MNL()\n",
    "lr = 1e-9\n",
    "criterion = torch.nn.MSELoss(reduction='sum')\n",
    "optimizer = torch.optim.SGD(model.parameters(),lr=lr)\n",
    "\n",
    "for t in range(2000):\n",
    "    # Forward\n",
    "    y_pred = model(x)\n",
    "    # Compute loss\n",
    "    loss = criterion(y_pred, y)\n",
    "    if t % 100 == 99:\n",
    "        print(t, loss)\n",
    "    # Backward\n",
    "    model.zero_grad()\n",
    "    loss.backward()\n",
    "    optimizer.step()    "
   ]
  },
  {
   "cell_type": "code",
   "execution_count": 26,
   "metadata": {},
   "outputs": [
    {
     "data": {
      "text/plain": [
       "'ASC_TRAIN=1.9954700469970703, ASC_SM=1.0011920928955078, ASC_CAR=1.0030994415283203, B_TIME=-1.0009536743164062, B_COST=-0.49970197677612305'"
      ]
     },
     "execution_count": 26,
     "metadata": {},
     "output_type": "execute_result"
    }
   ],
   "source": [
    "model.string()"
   ]
  },
  {
   "cell_type": "markdown",
   "metadata": {},
   "source": [
    "### MNL test with Negative Loglikelihood"
   ]
  },
  {
   "cell_type": "code",
   "execution_count": 27,
   "metadata": {},
   "outputs": [],
   "source": [
    "class MNL(torch.nn.Module):\n",
    "    \n",
    "    def __init__(self):\n",
    "        super().__init__()\n",
    "        self.ASC_TRAIN = torch.nn.Parameter(torch.full((),0.1))\n",
    "        self.ASC_SM    = torch.tensor([0]) # Fixed ASC_SM = 1 like in biogeme\n",
    "        self.ASC_CAR   = torch.nn.Parameter(torch.full((),0.1))\n",
    "        self.B_TIME    = torch.nn.Parameter(torch.full((),0.1))\n",
    "        self.B_COST    = torch.nn.Parameter(torch.full((),0.1))        \n",
    "        \n",
    "    def forward(self, x, av=None):\n",
    "        # Calculate V\n",
    "        V1 = self.ASC_TRAIN + self.B_TIME * torch.tensor(x['TRAIN_TT'].values, dtype=torch.float) + self.B_COST * torch.tensor(x['TRAIN_CO'].values, dtype=torch.float)\n",
    "        V2 = self.ASC_SM    + self.B_TIME * torch.tensor(x['SM_TT'].values, dtype=torch.float)    + self.B_COST * torch.tensor(x['SM_CO'].values, dtype=torch.float)\n",
    "        V3 = self.ASC_CAR   + self.B_TIME * torch.tensor(x['CAR_TT'].values, dtype=torch.float)   + self.B_COST * torch.tensor(x['CAR_CO'].values, dtype=torch.float)\n",
    "        # Join with availability\n",
    "        V1 = V1 * torch.tensor(av['TRAIN_AV'].values, dtype=torch.float)\n",
    "        V2 = V2 * torch.tensor(av['SM_AV'].values, dtype=torch.float)\n",
    "        V3 = V3 * torch.tensor(av['CAR_AV'].values, dtype=torch.float)\n",
    "        # Concat into one matrix\n",
    "        V = torch.cat((V1.unsqueeze(-1),V2.unsqueeze(-1),V3.unsqueeze(-1)),1)\n",
    "        # Get probality and loglikelihood\n",
    "        probs = V.exp()/(V.exp().sum(-1,keepdim=True))\n",
    "        return probs\n",
    "    \n",
    "  \n",
    "    def string(self):\n",
    "        return f'ASC_TRAIN={self.ASC_TRAIN}, ASC_SM={self.ASC_SM}, ASC_CAR={self.ASC_CAR}, B_TIME={self.B_TIME}, B_COST={self.B_COST}'"
   ]
  },
  {
   "cell_type": "code",
   "execution_count": 28,
   "metadata": {},
   "outputs": [
    {
     "data": {
      "text/plain": [
       "((10692, 6), torch.Size([10692]))"
      ]
     },
     "execution_count": 28,
     "metadata": {},
     "output_type": "execute_result"
    }
   ],
   "source": [
    "# Data prepraration\n",
    "x = data[cols]\n",
    "\n",
    "y = data['CHOICE']\n",
    "y = torch.tensor(y.values,dtype=torch.long)\n",
    "y = y - 1\n",
    "\n",
    "av = data[['TRAIN_AV','CAR_AV','SM_AV']]\n",
    "\n",
    "x.shape, y.shape"
   ]
  },
  {
   "cell_type": "code",
   "execution_count": 37,
   "metadata": {},
   "outputs": [
    {
     "name": "stdout",
     "output_type": "stream",
     "text": [
      "99 11319.28515625\n",
      "199 10877.2060546875\n",
      "299 10651.65625\n",
      "399 10529.3466796875\n",
      "499 10459.466796875\n",
      "599 10417.56640625\n",
      "699 10391.2197265625\n",
      "799 10373.8291015625\n",
      "899 10361.771484375\n",
      "999 10352.9892578125\n",
      "1099 10346.2900390625\n",
      "1199 10340.962890625\n",
      "1299 10336.5732421875\n",
      "1399 10332.8525390625\n",
      "1499 10329.625\n",
      "1599 10326.77734375\n",
      "1699 10324.2353515625\n",
      "1799 10321.943359375\n",
      "1899 10319.8603515625\n",
      "1999 10317.9619140625\n"
     ]
    }
   ],
   "source": [
    "def nll(probs, target): return -probs[range(target.shape[0]), target].log().sum()\n",
    "\n",
    "model = MNL()\n",
    "lr = 1e-6\n",
    "optimizer = torch.optim.SGD(model.parameters(),lr=lr)\n",
    "\n",
    "for t in range(2000):\n",
    "    # Forward\n",
    "    probs = model(x, av)\n",
    "    # Negative loglikelihood\n",
    "    loss = nll(probs,y)\n",
    "    if t % 100 == 99:\n",
    "        print(t, loss.item())\n",
    "    # Backward\n",
    "    model.zero_grad()\n",
    "    loss.backward()\n",
    "    optimizer.step()"
   ]
  },
  {
   "cell_type": "code",
   "execution_count": 40,
   "metadata": {},
   "outputs": [
    {
     "data": {
      "text/plain": [
       "(tensor(1.0285, grad_fn=<NllLossBackward>), tensor(0.5190))"
      ]
     },
     "execution_count": 40,
     "metadata": {},
     "output_type": "execute_result"
    }
   ],
   "source": [
    "import torch.nn.functional as F\n",
    "loss_func = F.cross_entropy\n",
    "def accuracy(out, yb): return (torch.argmax(out, dim=1)==yb).float().mean()\n",
    "\n",
    "loss_func(model(x,av), y), accuracy(model(x,av),y)"
   ]
  },
  {
   "cell_type": "code",
   "execution_count": 41,
   "metadata": {},
   "outputs": [
    {
     "data": {
      "text/plain": [
       "'ASC_TRAIN=-0.8027235269546509, ASC_SM=tensor([0]), ASC_CAR=-0.10149882733821869, B_TIME=-0.5671002268791199, B_COST=-0.1523554027080536'"
      ]
     },
     "execution_count": 41,
     "metadata": {},
     "output_type": "execute_result"
    }
   ],
   "source": [
    "model.string()"
   ]
  },
  {
   "cell_type": "markdown",
   "metadata": {},
   "source": [
    "### TasteMNL with Negative Loglikelihood"
   ]
  },
  {
   "cell_type": "code",
   "execution_count": 46,
   "metadata": {},
   "outputs": [],
   "source": [
    "class TasteMNL(torch.nn.Module):\n",
    "    \n",
    "    def __init__(self, N):\n",
    "        super().__init__()\n",
    "        self.linear = torch.nn.Linear(5,4)\n",
    "        self.ASC_SM    = torch.tensor([0])\n",
    "        self.ASC_TRAIN = torch.zeros(N)   \n",
    "        self.ASC_CAR = torch.zeros(N)   \n",
    "        self.B_TIME = torch.zeros(N)   \n",
    "        self.B_COST = torch.zeros(N)   \n",
    "        \n",
    "    def forward(self, z, x, av=None):        \n",
    "        \n",
    "        Beta = self.linear(z)\n",
    "        self.ASC_TRAIN = Beta[:,0]\n",
    "        self.ASC_CAR = Beta[:,1]\n",
    "        self.B_TIME = Beta[:,2]\n",
    "        self.B_COST = Beta[:,3]\n",
    "        \n",
    "        # Calculate V\n",
    "        V1 = self.ASC_TRAIN + self.B_TIME * torch.tensor(x['TRAIN_TT'].values, dtype=torch.float) + \\\n",
    "            self.B_COST * torch.tensor(x['TRAIN_CO'].values, dtype=torch.float)\n",
    "        V2 = self.ASC_SM    + self.B_TIME * torch.tensor(x['SM_TT'].values, dtype=torch.float)    + \\\n",
    "            self.B_COST * torch.tensor(x['SM_CO'].values, dtype=torch.float)\n",
    "        V3 = self.ASC_CAR   + self.B_TIME * torch.tensor(x['CAR_TT'].values, dtype=torch.float)   + \\\n",
    "            self.B_COST * torch.tensor(x['CAR_CO'].values, dtype=torch.float)\n",
    "        # Join with availability\n",
    "        V1 = V1 * torch.tensor(av['TRAIN_AV'].values, dtype=torch.float)\n",
    "        V2 = V2 * torch.tensor(av['SM_AV'].values, dtype=torch.float)\n",
    "        V3 = V3 * torch.tensor(av['CAR_AV'].values, dtype=torch.float)\n",
    "        # Concat into one matrix\n",
    "        V = torch.cat((V1.unsqueeze(-1),V2.unsqueeze(-1),V3.unsqueeze(-1)),1)\n",
    "        # Get probality and loglikelihood\n",
    "        probs = V.exp()/(V.exp().sum(-1,keepdim=True))\n",
    "        return probs\n",
    "    \n",
    "  \n",
    "    def string(self):\n",
    "        return f'ASC_TRAIN={self.ASC_TRAIN}, ASC_SM={self.ASC_SM}, ASC_CAR={self.ASC_CAR}, B_TIME={self.B_TIME}, B_COST={self.B_COST}'"
   ]
  },
  {
   "cell_type": "code",
   "execution_count": 47,
   "metadata": {},
   "outputs": [
    {
     "data": {
      "text/plain": [
       "(torch.Size([10692, 5]), (10692, 6), torch.Size([10692]), (10692, 3))"
      ]
     },
     "execution_count": 47,
     "metadata": {},
     "output_type": "execute_result"
    }
   ],
   "source": [
    "# Data prepraration\n",
    "# Personal attributes\n",
    "z = data[['AGE','MALE','INCOME','FIRST','PURPOSE']].copy()\n",
    "z = torch.tensor(z.values, dtype=torch.float)\n",
    "# Alternative attributes\n",
    "x = data[cols]\n",
    "# Observed choice (Train:0, SM: 1, Car: 2)\n",
    "y = data['CHOICE']\n",
    "y = torch.tensor(y.values,dtype=torch.long)\n",
    "y = y - 1\n",
    "# Availability\n",
    "av = data[['TRAIN_AV','SM_AV', 'CAR_AV']]\n",
    "\n",
    "z.shape, x.shape, y.shape, av.shape"
   ]
  },
  {
   "cell_type": "code",
   "execution_count": 48,
   "metadata": {},
   "outputs": [
    {
     "name": "stdout",
     "output_type": "stream",
     "text": [
      "99 11177.083984375\n",
      "199 10593.2978515625\n",
      "299 10391.990234375\n",
      "399 10254.3349609375\n",
      "499 10151.583984375\n",
      "599 10069.798828125\n",
      "699 10002.2939453125\n",
      "799 9945.92578125\n",
      "899 9898.90234375\n",
      "999 9859.8759765625\n",
      "1099 9827.6494140625\n",
      "1199 9801.1435546875\n",
      "1299 9779.37890625\n",
      "1399 9761.494140625\n",
      "1499 9746.7451171875\n",
      "1599 9734.505859375\n",
      "1699 9724.2587890625\n",
      "1799 9715.5859375\n",
      "1899 9708.1611328125\n",
      "1999 9701.7265625\n"
     ]
    }
   ],
   "source": [
    "N = z.shape[0]\n",
    "model = TasteMNL(N)\n",
    "lr = 1e-3\n",
    "# optimizer = torch.optim.SGD(model.parameters(),lr=lr)\n",
    "optimizer =  torch.optim.Adam(model.parameters(), lr = lr, weight_decay = 0.0)\n",
    "for t in range(2000):\n",
    "    # Forward\n",
    "    probs = model(z, x, av)\n",
    "    # Negative loglikelihood\n",
    "    loss = nll(probs,y)\n",
    "    if t % 100 == 99:\n",
    "        print(t, loss.item())\n",
    "    # Backward\n",
    "    model.zero_grad()\n",
    "    loss.backward()\n",
    "    optimizer.step()"
   ]
  },
  {
   "cell_type": "code",
   "execution_count": 49,
   "metadata": {},
   "outputs": [
    {
     "data": {
      "text/plain": [
       "(tensor(0.9994, grad_fn=<NllLossBackward>), tensor(0.5521))"
      ]
     },
     "execution_count": 49,
     "metadata": {},
     "output_type": "execute_result"
    }
   ],
   "source": [
    "import torch.nn.functional as F\n",
    "loss_func = F.cross_entropy\n",
    "def accuracy(out, yb): return (torch.argmax(out, dim=1)==yb).float().mean()\n",
    "loss_func(model(z,x,av), y), accuracy(model(z,x,av),y)"
   ]
  },
  {
   "cell_type": "code",
   "execution_count": null,
   "metadata": {},
   "outputs": [],
   "source": []
  },
  {
   "cell_type": "code",
   "execution_count": null,
   "metadata": {},
   "outputs": [],
   "source": []
  },
  {
   "cell_type": "code",
   "execution_count": null,
   "metadata": {},
   "outputs": [],
   "source": []
  }
 ],
 "metadata": {
  "kernelspec": {
   "display_name": "Python 3",
   "language": "python",
   "name": "python3"
  },
  "language_info": {
   "codemirror_mode": {
    "name": "ipython",
    "version": 3
   },
   "file_extension": ".py",
   "mimetype": "text/x-python",
   "name": "python",
   "nbconvert_exporter": "python",
   "pygments_lexer": "ipython3",
   "version": "3.7.10"
  }
 },
 "nbformat": 4,
 "nbformat_minor": 2
}
