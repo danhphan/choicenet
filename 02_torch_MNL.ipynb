{
 "cells": [
  {
   "cell_type": "code",
   "execution_count": null,
   "metadata": {},
   "outputs": [],
   "source": [
    "# default_exp MNL"
   ]
  },
  {
   "cell_type": "markdown",
   "metadata": {},
   "source": [
    "# MNL\n",
    "\n",
    "> API details."
   ]
  },
  {
   "cell_type": "code",
   "execution_count": null,
   "metadata": {},
   "outputs": [],
   "source": [
    "#hide\n",
    "from nbdev.showdoc import *"
   ]
  },
  {
   "cell_type": "code",
   "execution_count": null,
   "metadata": {},
   "outputs": [],
   "source": [
    "import math\n",
    "import pickle\n",
    "import numpy as np\n",
    "import pandas as pd\n",
    "import torch"
   ]
  },
  {
   "cell_type": "markdown",
   "metadata": {},
   "source": [
    "### Load data set"
   ]
  },
  {
   "cell_type": "code",
   "execution_count": null,
   "metadata": {},
   "outputs": [
    {
     "data": {
      "text/plain": [
       "((7484, 28), pandas.core.frame.DataFrame)"
      ]
     },
     "execution_count": null,
     "metadata": {},
     "output_type": "execute_result"
    }
   ],
   "source": [
    "# data = pd.read_csv('./data/swissmetro_clean.csv')\n",
    "data = pd.read_csv('./data/swissmetro_train.csv')\n",
    "data.shape, type(data)"
   ]
  },
  {
   "cell_type": "code",
   "execution_count": null,
   "metadata": {},
   "outputs": [
    {
     "data": {
      "text/plain": [
       "2    4339\n",
       "3    2156\n",
       "1     989\n",
       "Name: CHOICE, dtype: int64"
      ]
     },
     "execution_count": null,
     "metadata": {},
     "output_type": "execute_result"
    }
   ],
   "source": [
    "data['CHOICE'].value_counts()"
   ]
  },
  {
   "cell_type": "code",
   "execution_count": null,
   "metadata": {},
   "outputs": [],
   "source": [
    "# Preprocessing\n",
    "def cleaning(data): \n",
    "    data['TRAIN_AV'] = data['TRAIN_AV'] * (data['SP'] != 0)\n",
    "    data['CAR_AV'] = data['CAR_AV'] * (data['SP'] != 0)\n",
    "\n",
    "    data['SM_CO'] = data['SM_CO'] * (data['GA'] == 0)\n",
    "    data['TRAIN_CO'] = data['TRAIN_CO'] * (data['GA'] == 0)\n",
    "\n",
    "    cols = ['TRAIN_TT','TRAIN_CO', 'SM_TT', 'SM_CO', 'CAR_TT', 'CAR_CO']\n",
    "    data[cols] = data[cols]/100.0\n",
    "    return data"
   ]
  },
  {
   "cell_type": "code",
   "execution_count": null,
   "metadata": {},
   "outputs": [
    {
     "data": {
      "text/html": [
       "<div>\n",
       "<style scoped>\n",
       "    .dataframe tbody tr th:only-of-type {\n",
       "        vertical-align: middle;\n",
       "    }\n",
       "\n",
       "    .dataframe tbody tr th {\n",
       "        vertical-align: top;\n",
       "    }\n",
       "\n",
       "    .dataframe thead th {\n",
       "        text-align: right;\n",
       "    }\n",
       "</style>\n",
       "<table border=\"1\" class=\"dataframe\">\n",
       "  <thead>\n",
       "    <tr style=\"text-align: right;\">\n",
       "      <th></th>\n",
       "      <th>GROUP</th>\n",
       "      <th>SURVEY</th>\n",
       "      <th>SP</th>\n",
       "      <th>ID</th>\n",
       "      <th>PURPOSE</th>\n",
       "      <th>FIRST</th>\n",
       "      <th>TICKET</th>\n",
       "      <th>WHO</th>\n",
       "      <th>LUGGAGE</th>\n",
       "      <th>AGE</th>\n",
       "      <th>...</th>\n",
       "      <th>TRAIN_TT</th>\n",
       "      <th>TRAIN_CO</th>\n",
       "      <th>TRAIN_HE</th>\n",
       "      <th>SM_TT</th>\n",
       "      <th>SM_CO</th>\n",
       "      <th>SM_HE</th>\n",
       "      <th>SM_SEATS</th>\n",
       "      <th>CAR_TT</th>\n",
       "      <th>CAR_CO</th>\n",
       "      <th>CHOICE</th>\n",
       "    </tr>\n",
       "  </thead>\n",
       "  <tbody>\n",
       "    <tr>\n",
       "      <th>0</th>\n",
       "      <td>3</td>\n",
       "      <td>1</td>\n",
       "      <td>1</td>\n",
       "      <td>651</td>\n",
       "      <td>3</td>\n",
       "      <td>0</td>\n",
       "      <td>3</td>\n",
       "      <td>3</td>\n",
       "      <td>0</td>\n",
       "      <td>4</td>\n",
       "      <td>...</td>\n",
       "      <td>1.82</td>\n",
       "      <td>1.11</td>\n",
       "      <td>30</td>\n",
       "      <td>0.81</td>\n",
       "      <td>1.32</td>\n",
       "      <td>30</td>\n",
       "      <td>0</td>\n",
       "      <td>2.10</td>\n",
       "      <td>1.55</td>\n",
       "      <td>3</td>\n",
       "    </tr>\n",
       "    <tr>\n",
       "      <th>1</th>\n",
       "      <td>2</td>\n",
       "      <td>0</td>\n",
       "      <td>1</td>\n",
       "      <td>17</td>\n",
       "      <td>1</td>\n",
       "      <td>0</td>\n",
       "      <td>2</td>\n",
       "      <td>1</td>\n",
       "      <td>0</td>\n",
       "      <td>1</td>\n",
       "      <td>...</td>\n",
       "      <td>1.32</td>\n",
       "      <td>0.21</td>\n",
       "      <td>30</td>\n",
       "      <td>0.54</td>\n",
       "      <td>0.28</td>\n",
       "      <td>20</td>\n",
       "      <td>0</td>\n",
       "      <td>1.17</td>\n",
       "      <td>0.25</td>\n",
       "      <td>2</td>\n",
       "    </tr>\n",
       "    <tr>\n",
       "      <th>2</th>\n",
       "      <td>3</td>\n",
       "      <td>1</td>\n",
       "      <td>1</td>\n",
       "      <td>916</td>\n",
       "      <td>3</td>\n",
       "      <td>1</td>\n",
       "      <td>3</td>\n",
       "      <td>2</td>\n",
       "      <td>1</td>\n",
       "      <td>4</td>\n",
       "      <td>...</td>\n",
       "      <td>2.20</td>\n",
       "      <td>2.21</td>\n",
       "      <td>60</td>\n",
       "      <td>1.62</td>\n",
       "      <td>2.25</td>\n",
       "      <td>20</td>\n",
       "      <td>0</td>\n",
       "      <td>1.44</td>\n",
       "      <td>0.84</td>\n",
       "      <td>3</td>\n",
       "    </tr>\n",
       "    <tr>\n",
       "      <th>3</th>\n",
       "      <td>3</td>\n",
       "      <td>1</td>\n",
       "      <td>1</td>\n",
       "      <td>965</td>\n",
       "      <td>4</td>\n",
       "      <td>0</td>\n",
       "      <td>1</td>\n",
       "      <td>1</td>\n",
       "      <td>0</td>\n",
       "      <td>5</td>\n",
       "      <td>...</td>\n",
       "      <td>2.06</td>\n",
       "      <td>0.60</td>\n",
       "      <td>30</td>\n",
       "      <td>1.58</td>\n",
       "      <td>0.72</td>\n",
       "      <td>20</td>\n",
       "      <td>0</td>\n",
       "      <td>1.60</td>\n",
       "      <td>1.10</td>\n",
       "      <td>2</td>\n",
       "    </tr>\n",
       "    <tr>\n",
       "      <th>4</th>\n",
       "      <td>3</td>\n",
       "      <td>1</td>\n",
       "      <td>1</td>\n",
       "      <td>1127</td>\n",
       "      <td>4</td>\n",
       "      <td>1</td>\n",
       "      <td>1</td>\n",
       "      <td>1</td>\n",
       "      <td>1</td>\n",
       "      <td>4</td>\n",
       "      <td>...</td>\n",
       "      <td>2.64</td>\n",
       "      <td>1.09</td>\n",
       "      <td>120</td>\n",
       "      <td>0.93</td>\n",
       "      <td>1.50</td>\n",
       "      <td>10</td>\n",
       "      <td>0</td>\n",
       "      <td>3.38</td>\n",
       "      <td>2.79</td>\n",
       "      <td>2</td>\n",
       "    </tr>\n",
       "  </tbody>\n",
       "</table>\n",
       "<p>5 rows × 28 columns</p>\n",
       "</div>"
      ],
      "text/plain": [
       "   GROUP  SURVEY  SP    ID  PURPOSE  FIRST  TICKET  WHO  LUGGAGE  AGE  ...  \\\n",
       "0      3       1   1   651        3      0       3    3        0    4  ...   \n",
       "1      2       0   1    17        1      0       2    1        0    1  ...   \n",
       "2      3       1   1   916        3      1       3    2        1    4  ...   \n",
       "3      3       1   1   965        4      0       1    1        0    5  ...   \n",
       "4      3       1   1  1127        4      1       1    1        1    4  ...   \n",
       "\n",
       "   TRAIN_TT  TRAIN_CO  TRAIN_HE  SM_TT  SM_CO  SM_HE  SM_SEATS  CAR_TT  \\\n",
       "0      1.82      1.11        30   0.81   1.32     30         0    2.10   \n",
       "1      1.32      0.21        30   0.54   0.28     20         0    1.17   \n",
       "2      2.20      2.21        60   1.62   2.25     20         0    1.44   \n",
       "3      2.06      0.60        30   1.58   0.72     20         0    1.60   \n",
       "4      2.64      1.09       120   0.93   1.50     10         0    3.38   \n",
       "\n",
       "   CAR_CO  CHOICE  \n",
       "0    1.55       3  \n",
       "1    0.25       2  \n",
       "2    0.84       3  \n",
       "3    1.10       2  \n",
       "4    2.79       2  \n",
       "\n",
       "[5 rows x 28 columns]"
      ]
     },
     "execution_count": null,
     "metadata": {},
     "output_type": "execute_result"
    }
   ],
   "source": [
    "data = cleaning(data)\n",
    "data.head()"
   ]
  },
  {
   "cell_type": "markdown",
   "metadata": {},
   "source": [
    "#### Utility function:\n",
    "\n",
    "* V1 = ASC_TRAIN + B_TIME * TRAIN_TT_SCALED + B_COST * TRAIN_COST_SCALED\n",
    "* V2 = ASC_SM    + B_TIME * SM_TT_SCALED    + B_COST * SM_COST_SCALED\n",
    "* V3 = ASC_CAR   + B_TIME * CAR_TT_SCALED   + B_COST * CAR_CO_SCALED\n",
    "\n",
    "av = {1: TRAIN_AV_SP, 2: SM_AV, 3: CAR_AV_SP}\n",
    "\n",
    "CHOICE: 1: Train, 2: SM, 3: Car\n"
   ]
  },
  {
   "cell_type": "markdown",
   "metadata": {},
   "source": [
    "### MNL test with MSELoss"
   ]
  },
  {
   "cell_type": "code",
   "execution_count": null,
   "metadata": {},
   "outputs": [],
   "source": [
    "class MNL(torch.nn.Module):\n",
    "    \n",
    "    def __init__(self):\n",
    "        super().__init__()\n",
    "        self.ASC_TRAIN = torch.nn.Parameter(torch.full((),2.0))\n",
    "        self.ASC_SM    = torch.nn.Parameter(torch.full((),1.0))\n",
    "        self.ASC_CAR   = torch.nn.Parameter(torch.full((),1.0))\n",
    "        self.B_TIME    = torch.nn.Parameter(torch.full((),-1.0))\n",
    "        self.B_COST    = torch.nn.Parameter(torch.full((),-0.5))        \n",
    "        \n",
    "    def forward(self, x):\n",
    "        # Calculate V\n",
    "        V1 = self.ASC_TRAIN + self.B_TIME * torch.tensor(x['TRAIN_TT'].values, dtype=torch.float) + self.B_COST * torch.tensor(x['TRAIN_CO'].values, dtype=torch.float)\n",
    "        V2 = self.ASC_SM    + self.B_TIME * torch.tensor(x['SM_TT'].values, dtype=torch.float)    + self.B_COST * torch.tensor(x['SM_CO'].values, dtype=torch.float)\n",
    "        V3 = self.ASC_CAR   + self.B_TIME * torch.tensor(x['CAR_TT'].values, dtype=torch.float)   + self.B_COST * torch.tensor(x['CAR_CO'].values, dtype=torch.float)\n",
    "        \n",
    "        SUM = torch.exp(V1) + torch.exp(V2) + torch.exp(V3)\n",
    "        P1 = torch.exp(V1)/SUM\n",
    "        P2 = torch.exp(V2)/SUM\n",
    "        P3 = torch.exp(V3)/SUM\n",
    "        \n",
    "        ALTS = {'TRAIN': 1, 'SM': 2, 'CAR':3}\n",
    "        output = P1 * ALTS['TRAIN'] + P2 * ALTS['SM'] + P3 * ALTS['CAR']\n",
    "        return output\n",
    "    \n",
    "    def string(self):\n",
    "        return f'ASC_TRAIN={self.ASC_TRAIN}, ASC_SM={self.ASC_SM}, ASC_CAR={self.ASC_CAR}, B_TIME={self.B_TIME}, B_COST={self.B_COST}'"
   ]
  },
  {
   "cell_type": "code",
   "execution_count": null,
   "metadata": {},
   "outputs": [
    {
     "data": {
      "text/plain": [
       "((7484, 6), torch.Size([7484]))"
      ]
     },
     "execution_count": null,
     "metadata": {},
     "output_type": "execute_result"
    }
   ],
   "source": [
    "# Data prepraration\n",
    "x = data[cols]\n",
    "y = data['CHOICE']\n",
    "y = torch.tensor(y.values,dtype=torch.float)\n",
    "x.shape, y.shape"
   ]
  },
  {
   "cell_type": "code",
   "execution_count": null,
   "metadata": {},
   "outputs": [
    {
     "name": "stdout",
     "output_type": "stream",
     "text": [
      "99 tensor(4071.1445, grad_fn=<MseLossBackward>)\n",
      "199 tensor(4070.7488, grad_fn=<MseLossBackward>)\n",
      "299 tensor(4070.3530, grad_fn=<MseLossBackward>)\n",
      "399 tensor(4069.9578, grad_fn=<MseLossBackward>)\n",
      "499 tensor(4069.5625, grad_fn=<MseLossBackward>)\n",
      "599 tensor(4069.1670, grad_fn=<MseLossBackward>)\n",
      "699 tensor(4068.7720, grad_fn=<MseLossBackward>)\n",
      "799 tensor(4068.3770, grad_fn=<MseLossBackward>)\n",
      "899 tensor(4067.9822, grad_fn=<MseLossBackward>)\n",
      "999 tensor(4067.5874, grad_fn=<MseLossBackward>)\n",
      "1099 tensor(4067.1929, grad_fn=<MseLossBackward>)\n",
      "1199 tensor(4066.7983, grad_fn=<MseLossBackward>)\n",
      "1299 tensor(4066.4043, grad_fn=<MseLossBackward>)\n",
      "1399 tensor(4066.0100, grad_fn=<MseLossBackward>)\n",
      "1499 tensor(4065.6157, grad_fn=<MseLossBackward>)\n",
      "1599 tensor(4065.2217, grad_fn=<MseLossBackward>)\n",
      "1699 tensor(4064.8276, grad_fn=<MseLossBackward>)\n",
      "1799 tensor(4064.4341, grad_fn=<MseLossBackward>)\n",
      "1899 tensor(4064.0405, grad_fn=<MseLossBackward>)\n",
      "1999 tensor(4063.6470, grad_fn=<MseLossBackward>)\n"
     ]
    }
   ],
   "source": [
    "model = MNL()\n",
    "lr = 1e-9\n",
    "criterion = torch.nn.MSELoss(reduction='sum')\n",
    "optimizer = torch.optim.SGD(model.parameters(),lr=lr)\n",
    "\n",
    "for t in range(2000):\n",
    "    # Forward\n",
    "    y_pred = model(x)\n",
    "    # Compute loss\n",
    "    loss = criterion(y_pred, y)\n",
    "    if t % 100 == 99:\n",
    "        print(t, loss)\n",
    "    # Backward\n",
    "    model.zero_grad()\n",
    "    loss.backward()\n",
    "    optimizer.step()    "
   ]
  },
  {
   "cell_type": "code",
   "execution_count": null,
   "metadata": {},
   "outputs": [
    {
     "data": {
      "text/plain": [
       "'ASC_TRAIN=1.9969005584716797, ASC_SM=1.0009536743164062, ASC_CAR=1.002145767211914, B_TIME=-1.0007152557373047, B_COST=-0.49982118606567383'"
      ]
     },
     "execution_count": null,
     "metadata": {},
     "output_type": "execute_result"
    }
   ],
   "source": [
    "model.string()"
   ]
  },
  {
   "cell_type": "markdown",
   "metadata": {},
   "source": [
    "### MNL test with Negative Loglikelihood"
   ]
  },
  {
   "cell_type": "code",
   "execution_count": null,
   "metadata": {},
   "outputs": [],
   "source": [
    "class MNL(torch.nn.Module):\n",
    "    \n",
    "    def __init__(self):\n",
    "        super().__init__()\n",
    "        self.ASC_TRAIN = torch.nn.Parameter(torch.full((),0.1))\n",
    "        self.ASC_SM    = torch.tensor([0]) # Fixed ASC_SM = 1 like in biogeme\n",
    "        self.ASC_CAR   = torch.nn.Parameter(torch.full((),0.1))\n",
    "        self.B_TIME    = torch.nn.Parameter(torch.full((),0.1))\n",
    "        self.B_COST    = torch.nn.Parameter(torch.full((),0.1))        \n",
    "        \n",
    "    def forward(self, x, av=None):\n",
    "        # Calculate V\n",
    "        V1 = self.ASC_TRAIN + self.B_TIME * torch.tensor(x['TRAIN_TT'].values, dtype=torch.float) + self.B_COST * torch.tensor(x['TRAIN_CO'].values, dtype=torch.float)\n",
    "        V2 = self.ASC_SM    + self.B_TIME * torch.tensor(x['SM_TT'].values, dtype=torch.float)    + self.B_COST * torch.tensor(x['SM_CO'].values, dtype=torch.float)\n",
    "        V3 = self.ASC_CAR   + self.B_TIME * torch.tensor(x['CAR_TT'].values, dtype=torch.float)   + self.B_COST * torch.tensor(x['CAR_CO'].values, dtype=torch.float)\n",
    "        # Join with availability\n",
    "        V1 = V1 * torch.tensor(av['TRAIN_AV'].values, dtype=torch.float)\n",
    "        V2 = V2 * torch.tensor(av['SM_AV'].values, dtype=torch.float)\n",
    "        V3 = V3 * torch.tensor(av['CAR_AV'].values, dtype=torch.float)\n",
    "        # Concat into one matrix\n",
    "        V = torch.cat((V1.unsqueeze(-1),V2.unsqueeze(-1),V3.unsqueeze(-1)),1)\n",
    "        # Get probality and loglikelihood\n",
    "        probs = V.exp()/(V.exp().sum(-1,keepdim=True))\n",
    "        return probs\n",
    "    \n",
    "  \n",
    "    def string(self):\n",
    "        return f'ASC_TRAIN={self.ASC_TRAIN}, ASC_SM={self.ASC_SM}, ASC_CAR={self.ASC_CAR}, B_TIME={self.B_TIME}, B_COST={self.B_COST}'"
   ]
  },
  {
   "cell_type": "code",
   "execution_count": null,
   "metadata": {},
   "outputs": [
    {
     "data": {
      "text/plain": [
       "((7484, 6), torch.Size([7484]))"
      ]
     },
     "execution_count": null,
     "metadata": {},
     "output_type": "execute_result"
    }
   ],
   "source": [
    "# Data prepraration\n",
    "x = data[cols]\n",
    "\n",
    "y = data['CHOICE']\n",
    "y = torch.tensor(y.values,dtype=torch.long)\n",
    "y = y - 1\n",
    "\n",
    "av = data[['TRAIN_AV','CAR_AV','SM_AV']]\n",
    "\n",
    "x.shape, y.shape"
   ]
  },
  {
   "cell_type": "code",
   "execution_count": null,
   "metadata": {},
   "outputs": [
    {
     "name": "stdout",
     "output_type": "stream",
     "text": [
      "99 8071.12451171875\n",
      "199 7776.70166015625\n",
      "299 7597.798828125\n",
      "399 7485.1640625\n",
      "499 7412.060546875\n",
      "599 7363.3046875\n",
      "699 7329.9541015625\n",
      "799 7306.57568359375\n",
      "899 7289.78564453125\n",
      "999 7277.43017578125\n",
      "1099 7268.1083984375\n",
      "1199 7260.8984375\n",
      "1299 7255.181640625\n",
      "1399 7250.541015625\n",
      "1499 7246.685546875\n",
      "1599 7243.41650390625\n",
      "1699 7240.5927734375\n",
      "1799 7238.11474609375\n",
      "1899 7235.90771484375\n",
      "1999 7233.9208984375\n"
     ]
    }
   ],
   "source": [
    "def nll(probs, target): return -probs[range(target.shape[0]), target].log().sum()\n",
    "\n",
    "model = MNL()\n",
    "lr = 1e-6\n",
    "optimizer = torch.optim.SGD(model.parameters(),lr=lr)\n",
    "\n",
    "for t in range(2000):\n",
    "    # Forward\n",
    "    probs = model(x, av)\n",
    "    # Negative loglikelihood\n",
    "    loss = nll(probs,y)\n",
    "    if t % 100 == 99:\n",
    "        print(t, loss.item())\n",
    "    # Backward\n",
    "    model.zero_grad()\n",
    "    loss.backward()\n",
    "    optimizer.step()"
   ]
  },
  {
   "cell_type": "code",
   "execution_count": null,
   "metadata": {},
   "outputs": [
    {
     "data": {
      "text/plain": [
       "(tensor(1.0302, grad_fn=<NllLossBackward>), tensor(0.5239))"
      ]
     },
     "execution_count": null,
     "metadata": {},
     "output_type": "execute_result"
    }
   ],
   "source": [
    "import torch.nn.functional as F\n",
    "loss_func = F.cross_entropy\n",
    "def accuracy(out, yb): return (torch.argmax(out, dim=1)==yb).float().mean()\n",
    "\n",
    "loss_func(model(x,av), y), accuracy(model(x,av),y)"
   ]
  },
  {
   "cell_type": "code",
   "execution_count": null,
   "metadata": {},
   "outputs": [
    {
     "data": {
      "text/plain": [
       "'ASC_TRAIN=-0.7364017963409424, ASC_SM=tensor([0]), ASC_CAR=-0.06861856579780579, B_TIME=-0.5858228206634521, B_COST=-0.1433737725019455'"
      ]
     },
     "execution_count": null,
     "metadata": {},
     "output_type": "execute_result"
    }
   ],
   "source": [
    "model.string()"
   ]
  },
  {
   "cell_type": "markdown",
   "metadata": {},
   "source": [
    "### TasteMNL with Negative Loglikelihood"
   ]
  },
  {
   "cell_type": "code",
   "execution_count": null,
   "metadata": {},
   "outputs": [],
   "source": [
    "import torch.nn.functional as F"
   ]
  },
  {
   "cell_type": "code",
   "execution_count": null,
   "metadata": {},
   "outputs": [],
   "source": [
    "class TasteMNL(torch.nn.Module):\n",
    "    \n",
    "    def __init__(self, N):\n",
    "        super().__init__()\n",
    "        self.linear1 = torch.nn.Linear(8,50)\n",
    "        self.linear2 = torch.nn.Linear(50,12)\n",
    "        self.linear3 = torch.nn.Linear(12,4)\n",
    "        self.ASC_SM    = torch.tensor([0])\n",
    "        self.ASC_TRAIN = torch.zeros(N)   \n",
    "        self.ASC_CAR = torch.zeros(N)   \n",
    "        self.B_TIME = torch.zeros(N)   \n",
    "        self.B_COST = torch.zeros(N)   \n",
    "        \n",
    "    def forward(self, z, x, av=None):        \n",
    "        \n",
    "        Beta = F.relu(self.linear1(z))\n",
    "        Beta = F.relu(self.linear2(Beta))\n",
    "        Beta = self.linear3(Beta)\n",
    "        self.ASC_TRAIN = Beta[:,0]\n",
    "        self.ASC_CAR = Beta[:,1]\n",
    "        self.B_TIME = Beta[:,2]\n",
    "        self.B_COST = Beta[:,3]\n",
    "        \n",
    "        # Calculate V\n",
    "        V1 = self.ASC_TRAIN + self.B_TIME * torch.tensor(x['TRAIN_TT'].values, dtype=torch.float) + \\\n",
    "            self.B_COST * torch.tensor(x['TRAIN_CO'].values, dtype=torch.float)\n",
    "        V2 = self.ASC_SM    + self.B_TIME * torch.tensor(x['SM_TT'].values, dtype=torch.float)    + \\\n",
    "            self.B_COST * torch.tensor(x['SM_CO'].values, dtype=torch.float)\n",
    "        V3 = self.ASC_CAR   + self.B_TIME * torch.tensor(x['CAR_TT'].values, dtype=torch.float)   + \\\n",
    "            self.B_COST * torch.tensor(x['CAR_CO'].values, dtype=torch.float)\n",
    "        # Join with availability\n",
    "        V1 = V1 * torch.tensor(av['TRAIN_AV'].values, dtype=torch.float)\n",
    "        V2 = V2 * torch.tensor(av['SM_AV'].values, dtype=torch.float)\n",
    "        V3 = V3 * torch.tensor(av['CAR_AV'].values, dtype=torch.float)\n",
    "        # Concat into one matrix\n",
    "        V = torch.cat((V1.unsqueeze(-1),V2.unsqueeze(-1),V3.unsqueeze(-1)),1)\n",
    "        # Get probality and loglikelihood\n",
    "        probs = V.exp()/(V.exp().sum(-1,keepdim=True))\n",
    "        return probs\n",
    "    \n",
    "  \n",
    "    def string(self):\n",
    "        return f'ASC_TRAIN={self.ASC_TRAIN}, ASC_SM={self.ASC_SM}, ASC_CAR={self.ASC_CAR}, B_TIME={self.B_TIME}, B_COST={self.B_COST}'"
   ]
  },
  {
   "cell_type": "code",
   "execution_count": null,
   "metadata": {},
   "outputs": [
    {
     "data": {
      "text/plain": [
       "(torch.Size([7484, 8]), (7484, 6), torch.Size([7484]), (7484, 3))"
      ]
     },
     "execution_count": null,
     "metadata": {},
     "output_type": "execute_result"
    }
   ],
   "source": [
    "# Data prepraration\n",
    "# Personal attributes\n",
    "z = data[['AGE','MALE','INCOME','FIRST','PURPOSE','GA','WHO', 'LUGGAGE']].copy()\n",
    "z = torch.tensor(z.values, dtype=torch.float)\n",
    "# Alternative attributesnll\n",
    "x = data[cols]\n",
    "# Observed choice (Train:0, SM: 1, Car: 2)\n",
    "y = data['CHOICE']\n",
    "y = torch.tensor(y.values,dtype=torch.long)\n",
    "y = y - 1\n",
    "# Availability\n",
    "av = data[['TRAIN_AV','SM_AV', 'CAR_AV']]\n",
    "\n",
    "z.shape, x.shape, y.shape, av.shape"
   ]
  },
  {
   "cell_type": "code",
   "execution_count": null,
   "metadata": {},
   "outputs": [
    {
     "name": "stdout",
     "output_type": "stream",
     "text": [
      "0.003\n",
      "0 0 8695.7451171875\n",
      "0 2000 4906.64013671875\n",
      "0 4000 4712.39013671875\n",
      "0 6000 4615.0185546875\n",
      "0 8000 4557.451171875\n",
      "0 10000 4513.49853515625\n",
      "0.001\n",
      "1 0 4491.91748046875\n",
      "1 2000 4472.71875\n",
      "1 4000 4454.26904296875\n",
      "1 6000 4438.056640625\n",
      "1 8000 4422.37646484375\n",
      "1 10000 4412.49658203125\n",
      "0.0005\n",
      "2 0 4404.4248046875\n",
      "2 2000 4393.63330078125\n",
      "2 4000 4384.96923828125\n",
      "2 6000 4378.716796875\n",
      "2 8000 4372.66357421875\n",
      "2 10000 4367.78564453125\n",
      "0.0001\n",
      "3 0 4362.2783203125\n",
      "3 2000 4359.9150390625\n",
      "3 4000 4357.2451171875\n",
      "3 6000 4354.8203125\n",
      "3 8000 4352.54443359375\n",
      "3 10000 4350.1650390625\n"
     ]
    }
   ],
   "source": [
    "# N = z.shape[0]\n",
    "# model = TasteMNL(N)\n",
    "# lrs = [3e-3, 1e-3, 5e-4, 1e-4]\n",
    "# for i in range(len(lrs)):\n",
    "#     optimizer =  torch.optim.Adam(model.parameters(), lr = lrs[i], weight_decay = 0.0)\n",
    "#     for t in range(12000):\n",
    "#         # Forward\n",
    "#         probs = model(z, x, av)\n",
    "#         # Negative loglikelihood\n",
    "#         loss = nll(probs,y)\n",
    "#         if t % 2000 == 0:\n",
    "#             print(i, t, loss.item())\n",
    "#         # Backward\n",
    "#         model.zero_grad()\n",
    "#         loss.backward()\n",
    "#         optimizer.step()"
   ]
  },
  {
   "cell_type": "code",
   "execution_count": null,
   "metadata": {},
   "outputs": [
    {
     "name": "stdout",
     "output_type": "stream",
     "text": [
      "0 7624.8876953125\n",
      "1000 4736.88427734375\n",
      "2000 4543.5029296875\n",
      "3000 4460.92138671875\n",
      "4000 4413.04248046875\n",
      "5000 4370.56494140625\n",
      "6000 4332.6181640625\n",
      "7000 4301.42236328125\n",
      "8000 4268.51123046875\n",
      "9000 4249.654296875\n",
      "10000 4228.23046875\n",
      "11000 4216.103515625\n"
     ]
    }
   ],
   "source": [
    "N = z.shape[0]\n",
    "model = TasteMNL(N)\n",
    "lr = 3e-3\n",
    "# optimizer = torch.optim.SGD(model.parameters(),lr=lr)\n",
    "optimizer =  torch.optim.Adam(model.parameters(), lr = lr, weight_decay = 0.0)\n",
    "for t in range(12000):\n",
    "    # Forward\n",
    "    probs = model(z, x, av)\n",
    "    # Negative loglikelihood\n",
    "    loss = nll(probs,y)\n",
    "    if t % 1000 == 0:\n",
    "        print(t, loss.item())\n",
    "    # Backward\n",
    "    model.zero_grad()\n",
    "    loss.backward()\n",
    "    optimizer.step()"
   ]
  },
  {
   "cell_type": "code",
   "execution_count": null,
   "metadata": {},
   "outputs": [
    {
     "name": "stdout",
     "output_type": "stream",
     "text": [
      "0 4199.02685546875\n",
      "1000 4191.92431640625\n",
      "2000 4182.482421875\n",
      "3000 4174.251953125\n",
      "4000 4165.7646484375\n",
      "5000 4158.6015625\n",
      "6000 4148.3466796875\n",
      "7000 4137.77001953125\n",
      "8000 4128.26513671875\n",
      "9000 4122.544921875\n",
      "10000 4111.57470703125\n",
      "11000 4103.73681640625\n"
     ]
    }
   ],
   "source": [
    "lr = 1e-3\n",
    "optimizer =  torch.optim.Adam(model.parameters(), lr = lr, weight_decay = 0.0)\n",
    "for t in range(12000):\n",
    "    # Forward\n",
    "    probs = model(z, x, av)\n",
    "    # Negative loglikelihood\n",
    "    loss = nll(probs,y)\n",
    "    if t % 1000 == 0:\n",
    "        print(t, loss.item())\n",
    "    # Backward\n",
    "    model.zero_grad()\n",
    "    loss.backward()\n",
    "    optimizer.step()"
   ]
  },
  {
   "cell_type": "code",
   "execution_count": null,
   "metadata": {},
   "outputs": [
    {
     "name": "stdout",
     "output_type": "stream",
     "text": [
      "0 4098.0341796875\n",
      "1000 4089.334228515625\n",
      "2000 4082.322265625\n",
      "3000 4076.16259765625\n",
      "4000 4070.8017578125\n",
      "5000 4064.81640625\n",
      "6000 4059.5166015625\n",
      "7000 4055.72607421875\n",
      "8000 4050.66357421875\n",
      "9000 4046.42724609375\n",
      "10000 4044.3515625\n",
      "11000 4036.862060546875\n"
     ]
    }
   ],
   "source": [
    "lr = 5e-4\n",
    "optimizer =  torch.optim.Adam(model.parameters(), lr = lr, weight_decay = 0.0)\n",
    "for t in range(12000):\n",
    "    # Forward\n",
    "    probs = model(z, x, av)\n",
    "    # Negative loglikelihood\n",
    "    loss = nll(probs,y)\n",
    "    if t % 1000 == 0:\n",
    "        print(t, loss.item())\n",
    "    # Backward\n",
    "    model.zero_grad()\n",
    "    loss.backward()\n",
    "    optimizer.step()"
   ]
  },
  {
   "cell_type": "code",
   "execution_count": null,
   "metadata": {},
   "outputs": [
    {
     "name": "stdout",
     "output_type": "stream",
     "text": [
      "0 4033.870361328125\n",
      "1000 4030.62255859375\n",
      "2000 4028.701171875\n",
      "3000 4026.5771484375\n",
      "4000 4024.5498046875\n",
      "5000 4022.677978515625\n",
      "6000 4021.061279296875\n",
      "7000 4019.315673828125\n",
      "8000 4017.79931640625\n",
      "9000 4016.43359375\n",
      "10000 4015.12255859375\n",
      "11000 4013.778076171875\n"
     ]
    }
   ],
   "source": [
    "lr = 1e-4\n",
    "optimizer =  torch.optim.Adam(model.parameters(), lr = lr, weight_decay = 0.0)\n",
    "for t in range(12000):\n",
    "    # Forward\n",
    "    probs = model(z, x, av)\n",
    "    # Negative loglikelihood\n",
    "    loss = nll(probs,y)\n",
    "    if t % 1000 == 0:\n",
    "        print(t, loss.item())\n",
    "    # Backward\n",
    "    model.zero_grad()\n",
    "    loss.backward()\n",
    "    optimizer.step()"
   ]
  },
  {
   "cell_type": "code",
   "execution_count": null,
   "metadata": {},
   "outputs": [
    {
     "data": {
      "text/plain": [
       "(tensor(0.8182, grad_fn=<NllLossBackward>), tensor(0.7636))"
      ]
     },
     "execution_count": null,
     "metadata": {},
     "output_type": "execute_result"
    }
   ],
   "source": [
    "import torch.nn.functional as F\n",
    "loss_func = F.cross_entropy\n",
    "def accuracy(out, yb): return (torch.argmax(out, dim=1)==yb).float().mean()\n",
    "loss_func(model(z,x,av), y), accuracy(model(z,x,av),y)"
   ]
  },
  {
   "cell_type": "code",
   "execution_count": null,
   "metadata": {},
   "outputs": [
    {
     "data": {
      "text/plain": [
       "(tensor(-2.2415, grad_fn=<MeanBackward0>),\n",
       " tensor(-2.3657, grad_fn=<MeanBackward0>))"
      ]
     },
     "execution_count": null,
     "metadata": {},
     "output_type": "execute_result"
    }
   ],
   "source": [
    "model.ASC_TRAIN.mean(), model.ASC_CAR.mean()"
   ]
  },
  {
   "cell_type": "code",
   "execution_count": null,
   "metadata": {},
   "outputs": [
    {
     "data": {
      "text/plain": [
       "(tensor(-1.4012, grad_fn=<MeanBackward0>),\n",
       " tensor(-1.2147, grad_fn=<MeanBackward0>))"
      ]
     },
     "execution_count": null,
     "metadata": {},
     "output_type": "execute_result"
    }
   ],
   "source": [
    " model.B_TIME.mean(), model.B_COST.mean()"
   ]
  },
  {
   "cell_type": "code",
   "execution_count": null,
   "metadata": {},
   "outputs": [
    {
     "data": {
      "text/plain": [
       "(torch.Size([7484]), torch.Size([7484]))"
      ]
     },
     "execution_count": null,
     "metadata": {},
     "output_type": "execute_result"
    }
   ],
   "source": [
    " model.B_TIME.shape, model.B_COST.shape"
   ]
  },
  {
   "cell_type": "code",
   "execution_count": null,
   "metadata": {},
   "outputs": [
    {
     "data": {
      "text/plain": [
       "(torch.Size([1604, 8]), (1604, 6), torch.Size([1604]), (1604, 3))"
      ]
     },
     "execution_count": null,
     "metadata": {},
     "output_type": "execute_result"
    }
   ],
   "source": [
    "## VALIDATION\n",
    "df_valid = pd.read_csv('./data/swissmetro_valid.csv')\n",
    "df_valid = cleaning(df_valid)\n",
    "# Personal attributes\n",
    "z_valid = df_valid[['AGE','MALE','INCOME','FIRST','PURPOSE','GA','WHO', 'LUGGAGE']].copy()\n",
    "z_valid = torch.tensor(z_valid.values, dtype=torch.float)\n",
    "# Alternative attributesnll\n",
    "x_valid = df_valid[cols]\n",
    "# Observed choice (Train:0, SM: 1, Car: 2)\n",
    "y_valid = df_valid['CHOICE']\n",
    "y_valid = torch.tensor(y_valid.values,dtype=torch.long)\n",
    "y_valid = y_valid - 1\n",
    "# Availability\n",
    "av_valid = df_valid[['TRAIN_AV','SM_AV', 'CAR_AV']]\n",
    "\n",
    "z_valid.shape, x_valid.shape, y_valid.shape, av_valid.shape"
   ]
  },
  {
   "cell_type": "code",
   "execution_count": null,
   "metadata": {},
   "outputs": [
    {
     "data": {
      "text/plain": [
       "(tensor(0.8466, grad_fn=<NllLossBackward>),)"
      ]
     },
     "execution_count": null,
     "metadata": {},
     "output_type": "execute_result"
    }
   ],
   "source": [
    "loss_func(model(z_valid,x_valid,av_valid), y_valid), "
   ]
  },
  {
   "cell_type": "code",
   "execution_count": null,
   "metadata": {},
   "outputs": [
    {
     "data": {
      "text/plain": [
       "tensor(0.7251)"
      ]
     },
     "execution_count": null,
     "metadata": {},
     "output_type": "execute_result"
    }
   ],
   "source": [
    "accuracy(model(z_valid,x_valid,av_valid),y_valid)"
   ]
  }
 ],
 "metadata": {
  "kernelspec": {
   "display_name": "Python 3",
   "language": "python",
   "name": "python3"
  }
 },
 "nbformat": 4,
 "nbformat_minor": 2
}
