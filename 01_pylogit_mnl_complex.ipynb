{
 "cells": [
  {
   "cell_type": "code",
   "execution_count": 80,
   "id": "deadly-winning",
   "metadata": {},
   "outputs": [],
   "source": [
    "# Source code from: https://github.com/timothyb0912/pylogit"
   ]
  },
  {
   "cell_type": "code",
   "execution_count": 1,
   "id": "british-employment",
   "metadata": {},
   "outputs": [],
   "source": [
    "from collections import OrderedDict\n",
    "import numpy as np\n",
    "import pandas as pd\n",
    "import pylogit as pl"
   ]
  },
  {
   "cell_type": "markdown",
   "id": "alert-inflation",
   "metadata": {},
   "source": [
    "### Load Swiss metro data"
   ]
  },
  {
   "cell_type": "code",
   "execution_count": 2,
   "id": "textile-weekly",
   "metadata": {},
   "outputs": [
    {
     "data": {
      "text/plain": [
       "(19143, 22)"
      ]
     },
     "execution_count": 2,
     "metadata": {},
     "output_type": "execute_result"
    }
   ],
   "source": [
    "sm_long = pd.read_csv(\"./data/swissmetro_long.csv\")\n",
    "sm_long.shape"
   ]
  },
  {
   "cell_type": "markdown",
   "id": "original-necklace",
   "metadata": {},
   "source": [
    "### Create the model specification\n",
    "The model specification being used in this example is the following:\n",
    "$$\n",
    "\\begin{aligned}\n",
    "V_{i, \\textrm{Train}} &= \\textrm{ASC Train} + \\\\\n",
    "&\\quad \\beta _{ \\textrm{tt_transit} } \\textrm{Travel Time} _{ \\textrm{Train}} * \\frac{1}{60} + \\\\\n",
    "&\\quad \\beta _{ \\textrm{tc_train} } \\textrm{Travel Cost}_{\\textrm{Train}} * \\left( GA == 0 \\right) * 0.01 + \\\\\n",
    "&\\quad \\beta _{ \\textrm{headway_train} } \\textrm{Headway} _{\\textrm{Train}} * \\frac{1}{60} + \\\\\n",
    "&\\quad \\beta _{ \\textrm{survey} } \\left( \\textrm{Train Survey} == 1 \\right) \\\\\n",
    "\\\\\n",
    "V_{i, \\textrm{Swissmetro}} &= \\textrm{ASC Swissmetro} + \\\\\n",
    "&\\quad \\beta _{ \\textrm{tt_transit} } \\textrm{Travel Time} _{ \\textrm{Swissmetro}} * \\frac{1}{60} + \\\\\n",
    "&\\quad \\beta _{ \\textrm{tc_sm} } \\textrm{Travel Cost}_{\\textrm{Swissmetro}} * \\left( GA == 0 \\right) * 0.01 + \\\\\n",
    "&\\quad \\beta _{ \\textrm{headway_sm} } \\textrm{Heaway} _{\\textrm{Swissmetro}} * \\frac{1}{60} + \\\\\n",
    "&\\quad \\beta _{ \\textrm{seat} } \\left( \\textrm{Seat Configuration} == 1 \\right) \\\\\n",
    "&\\quad \\beta _{ \\textrm{survey} } \\left( \\textrm{Train Survey} == 1 \\right) \\\\\n",
    "&\\quad \\beta _{ \\textrm{first_class} } \\left( \\textrm{First Class} == 0 \\right) \\\\\n",
    "\\\\\n",
    "V_{i, \\textrm{Car}} &= \\beta _{ \\textrm{tt_car} } \\textrm{Travel Time} _{ \\textrm{Car}} * \\frac{1}{60} + \\\\\n",
    "&\\quad \\beta _{ \\textrm{tc_car}} \\textrm{Travel Cost}_{\\textrm{Car}} * 0.01 + \\\\\n",
    "&\\quad \\beta _{\\textrm{luggage}=1} \\left( \\textrm{Luggage} == 1 \\right) + \\\\\n",
    "&\\quad \\beta _{\\textrm{luggage}>1} \\left( \\textrm{Luggage} > 1 \\right)\n",
    "\\end{aligned}\n",
    "$$"
   ]
  },
  {
   "cell_type": "code",
   "execution_count": 3,
   "id": "differential-celtic",
   "metadata": {},
   "outputs": [],
   "source": [
    "# Scale the travel time column by 60 to convert raw units (minutes) to hours\n",
    "sm_long[\"travel_time_hrs\"] = sm_long[\"travel_time\"] / 60.0\n",
    "# Scale the headway column by 60 to convert raw units (minutes) to hours\n",
    "sm_long[\"headway_hrs\"] = sm_long[\"headway\"] / 60.0\n",
    "# Get free_ticket\n",
    "sm_long[\"free_ticket\"] = (((sm_long[\"GA\"] == 1) | (sm_long[\"WHO\"] == 2)) &\n",
    "                            sm_long[\"mode_id\"].isin([1,2])).astype(int)\n",
    "# Scale travel cost to 100.0\n",
    "sm_long[\"travel_cost_hundreth\"] = (sm_long[\"travel_cost\"] *\n",
    "                                  (sm_long[\"free_ticket\"] == 0) / 100.0)\n",
    "# Create a dummy variable for whether a person has a single piece of luggage\n",
    "sm_long[\"single_luggage_piece\"] = (sm_long[\"LUGGAGE\"] == 1).astype(int)\n",
    "# Create a dummy variable for whether a person has multiple pieces of luggage\n",
    "sm_long[\"multiple_luggage_pieces\"] = (sm_long[\"LUGGAGE\"] == 3).astype(int)\n",
    "# Create a dummy variable indicating that a person is NOT first class\n",
    "sm_long[\"regular_class\"] = 1 - sm_long[\"FIRST\"]\n",
    "# Create a dummy variable indicating that the survey was taken aboard a train\n",
    "sm_long[\"train_survey\"] = 1 - sm_long[\"SURVEY\"]"
   ]
  },
  {
   "cell_type": "code",
   "execution_count": 5,
   "id": "alien-network",
   "metadata": {},
   "outputs": [],
   "source": [
    "specification = OrderedDict()\n",
    "specification[\"intercept\"] = [1, 2]\n",
    "specification[\"travel_time_hrs\"] = [[1, 2,], 3]\n",
    "specification[\"travel_cost_hundreth\"] = [1, 2, 3]\n",
    "specification[\"headway_hrs\"] = [1, 2]\n",
    "specification[\"seat_configuration\"] = [2]\n",
    "specification[\"train_survey\"] = [[1, 2]]\n",
    "specification[\"regular_class\"] = [1]\n",
    "specification[\"single_luggage_piece\"] = [3]\n",
    "specification[\"multiple_luggage_pieces\"] = [3]"
   ]
  },
  {
   "cell_type": "code",
   "execution_count": 6,
   "id": "dominican-advance",
   "metadata": {},
   "outputs": [
    {
     "name": "stdout",
     "output_type": "stream",
     "text": [
      "Log-likelihood at zero: -6,964.6630\n",
      "Initial Log-likelihood: -6,964.6630\n",
      "Estimation Time for Point Estimation: 0.06 seconds.\n",
      "Final log-likelihood: -5,159.2583\n"
     ]
    },
    {
     "name": "stderr",
     "output_type": "stream",
     "text": [
      "/home/danph/anaconda3/envs/ml-dchoice/lib/python3.7/site-packages/scipy/optimize/_minimize.py:523: RuntimeWarning: Method BFGS does not use Hessian information (hess).\n",
      "  RuntimeWarning)\n"
     ]
    },
    {
     "data": {
      "text/html": [
       "<table class=\"simpletable\">\n",
       "<caption>Multinomial Logit Model Regression Results</caption>\n",
       "<tr>\n",
       "  <th>Dep. Variable:</th>         <td>CHOICE</td>          <th>  No. Observations:  </th>    <td>6,768</td>  \n",
       "</tr>\n",
       "<tr>\n",
       "  <th>Model:</th>         <td>Multinomial Logit Model</td> <th>  Df Residuals:      </th>    <td>6,754</td>  \n",
       "</tr>\n",
       "<tr>\n",
       "  <th>Method:</th>                  <td>MLE</td>           <th>  Df Model:          </th>     <td>14</td>    \n",
       "</tr>\n",
       "<tr>\n",
       "  <th>Date:</th>             <td>Thu, 11 Mar 2021</td>     <th>  Pseudo R-squ.:     </th>    <td>0.259</td>  \n",
       "</tr>\n",
       "<tr>\n",
       "  <th>Time:</th>                 <td>15:01:05</td>         <th>  Pseudo R-bar-squ.: </th>    <td>0.257</td>  \n",
       "</tr>\n",
       "<tr>\n",
       "  <th>AIC:</th>                 <td>10,346.517</td>        <th>  Log-Likelihood:    </th> <td>-5,159.258</td>\n",
       "</tr>\n",
       "<tr>\n",
       "  <th>BIC:</th>                 <td>10,441.996</td>        <th>  LL-Null:           </th> <td>-6,964.663</td>\n",
       "</tr>\n",
       "</table>\n",
       "<table class=\"simpletable\">\n",
       "<tr>\n",
       "              <td></td>                 <th>coef</th>     <th>std err</th>      <th>z</th>      <th>P>|z|</th>  <th>[0.025</th>    <th>0.975]</th>  \n",
       "</tr>\n",
       "<tr>\n",
       "  <th>intercept_1</th>               <td>   -1.2929</td> <td>    0.146</td> <td>   -8.845</td> <td> 0.000</td> <td>   -1.579</td> <td>   -1.006</td>\n",
       "</tr>\n",
       "<tr>\n",
       "  <th>intercept_2</th>               <td>   -0.5026</td> <td>    0.116</td> <td>   -4.332</td> <td> 0.000</td> <td>   -0.730</td> <td>   -0.275</td>\n",
       "</tr>\n",
       "<tr>\n",
       "  <th>travel_time_hrs_[1, 2]</th>    <td>   -0.6990</td> <td>    0.042</td> <td>  -16.545</td> <td> 0.000</td> <td>   -0.782</td> <td>   -0.616</td>\n",
       "</tr>\n",
       "<tr>\n",
       "  <th>travel_time_hrs_3</th>         <td>   -0.7230</td> <td>    0.047</td> <td>  -15.340</td> <td> 0.000</td> <td>   -0.815</td> <td>   -0.631</td>\n",
       "</tr>\n",
       "<tr>\n",
       "  <th>travel_cost_hundreth_1</th>    <td>   -0.5618</td> <td>    0.094</td> <td>   -6.002</td> <td> 0.000</td> <td>   -0.745</td> <td>   -0.378</td>\n",
       "</tr>\n",
       "<tr>\n",
       "  <th>travel_cost_hundreth_2</th>    <td>   -0.2817</td> <td>    0.045</td> <td>   -6.252</td> <td> 0.000</td> <td>   -0.370</td> <td>   -0.193</td>\n",
       "</tr>\n",
       "<tr>\n",
       "  <th>travel_cost_hundreth_3</th>    <td>   -0.5139</td> <td>    0.104</td> <td>   -4.953</td> <td> 0.000</td> <td>   -0.717</td> <td>   -0.311</td>\n",
       "</tr>\n",
       "<tr>\n",
       "  <th>headway_hrs_1</th>             <td>   -0.3143</td> <td>    0.062</td> <td>   -5.063</td> <td> 0.000</td> <td>   -0.436</td> <td>   -0.193</td>\n",
       "</tr>\n",
       "<tr>\n",
       "  <th>headway_hrs_2</th>             <td>   -0.3773</td> <td>    0.196</td> <td>   -1.925</td> <td> 0.054</td> <td>   -0.761</td> <td>    0.007</td>\n",
       "</tr>\n",
       "<tr>\n",
       "  <th>seat_configuration_2</th>      <td>   -0.7825</td> <td>    0.087</td> <td>   -8.970</td> <td> 0.000</td> <td>   -0.953</td> <td>   -0.611</td>\n",
       "</tr>\n",
       "<tr>\n",
       "  <th>train_survey_[1, 2]</th>       <td>    2.5425</td> <td>    0.114</td> <td>   22.235</td> <td> 0.000</td> <td>    2.318</td> <td>    2.767</td>\n",
       "</tr>\n",
       "<tr>\n",
       "  <th>regular_class_1</th>           <td>    0.5650</td> <td>    0.077</td> <td>    7.305</td> <td> 0.000</td> <td>    0.413</td> <td>    0.717</td>\n",
       "</tr>\n",
       "<tr>\n",
       "  <th>single_luggage_piece_3</th>    <td>    0.4228</td> <td>    0.067</td> <td>    6.270</td> <td> 0.000</td> <td>    0.291</td> <td>    0.555</td>\n",
       "</tr>\n",
       "<tr>\n",
       "  <th>multiple_luggage_pieces_3</th> <td>    1.4141</td> <td>    0.259</td> <td>    5.461</td> <td> 0.000</td> <td>    0.907</td> <td>    1.922</td>\n",
       "</tr>\n",
       "</table>"
      ],
      "text/plain": [
       "<class 'statsmodels.iolib.summary.Summary'>\n",
       "\"\"\"\n",
       "                     Multinomial Logit Model Regression Results                    \n",
       "===================================================================================\n",
       "Dep. Variable:                      CHOICE   No. Observations:                6,768\n",
       "Model:             Multinomial Logit Model   Df Residuals:                    6,754\n",
       "Method:                                MLE   Df Model:                           14\n",
       "Date:                     Thu, 11 Mar 2021   Pseudo R-squ.:                   0.259\n",
       "Time:                             15:01:05   Pseudo R-bar-squ.:               0.257\n",
       "AIC:                            10,346.517   Log-Likelihood:             -5,159.258\n",
       "BIC:                            10,441.996   LL-Null:                    -6,964.663\n",
       "=============================================================================================\n",
       "                                coef    std err          z      P>|z|      [0.025      0.975]\n",
       "---------------------------------------------------------------------------------------------\n",
       "intercept_1                  -1.2929      0.146     -8.845      0.000      -1.579      -1.006\n",
       "intercept_2                  -0.5026      0.116     -4.332      0.000      -0.730      -0.275\n",
       "travel_time_hrs_[1, 2]       -0.6990      0.042    -16.545      0.000      -0.782      -0.616\n",
       "travel_time_hrs_3            -0.7230      0.047    -15.340      0.000      -0.815      -0.631\n",
       "travel_cost_hundreth_1       -0.5618      0.094     -6.002      0.000      -0.745      -0.378\n",
       "travel_cost_hundreth_2       -0.2817      0.045     -6.252      0.000      -0.370      -0.193\n",
       "travel_cost_hundreth_3       -0.5139      0.104     -4.953      0.000      -0.717      -0.311\n",
       "headway_hrs_1                -0.3143      0.062     -5.063      0.000      -0.436      -0.193\n",
       "headway_hrs_2                -0.3773      0.196     -1.925      0.054      -0.761       0.007\n",
       "seat_configuration_2         -0.7825      0.087     -8.970      0.000      -0.953      -0.611\n",
       "train_survey_[1, 2]           2.5425      0.114     22.235      0.000       2.318       2.767\n",
       "regular_class_1               0.5650      0.077      7.305      0.000       0.413       0.717\n",
       "single_luggage_piece_3        0.4228      0.067      6.270      0.000       0.291       0.555\n",
       "multiple_luggage_pieces_3     1.4141      0.259      5.461      0.000       0.907       1.922\n",
       "=============================================================================================\n",
       "\"\"\""
      ]
     },
     "execution_count": 6,
     "metadata": {},
     "output_type": "execute_result"
    }
   ],
   "source": [
    "# Estimate the multinomial logit model (MNL)\n",
    "swissmetro_mnl = pl.create_choice_model(data=sm_long,\n",
    "                                        alt_id_col=\"mode_id\",\n",
    "                                        obs_id_col=\"custom_id\",\n",
    "                                        choice_col=\"CHOICE\",\n",
    "                                        specification=specification,\n",
    "                                        model_type=\"MNL\")\n",
    "\n",
    "# Specify the initial values and method for the optimization.\n",
    "swissmetro_mnl.fit_mle(np.zeros(14))\n",
    "\n",
    "# Look at the estimation results\n",
    "swissmetro_mnl.get_statsmodels_summary()"
   ]
  },
  {
   "cell_type": "markdown",
   "id": "executed-journey",
   "metadata": {},
   "source": [
    "### Evaluation metrics"
   ]
  },
  {
   "cell_type": "code",
   "execution_count": 8,
   "id": "alternative-butterfly",
   "metadata": {},
   "outputs": [],
   "source": [
    "from sklearn.metrics import accuracy_score, f1_score, classification_report"
   ]
  },
  {
   "cell_type": "code",
   "execution_count": 9,
   "id": "liquid-brake",
   "metadata": {},
   "outputs": [],
   "source": [
    "def model_pred(data, model, alt_id_col, obs_id_col, choice_col):\n",
    "    data['predicted'] = model.predict(data)  \n",
    "    is_chosen = data.groupby([obs_id_col])['predicted'].idxmax()\n",
    "    data['predicted_choice'] = 0\n",
    "    data.loc[is_chosen.values,'predicted_choice'] = 1\n",
    "    \n",
    "    actual = data.loc[data[choice_column] ==1,alt_id_column]\n",
    "    pred = data.loc[data['predicted_choice'] ==1,alt_id_column]\n",
    "    return actual, pred   \n",
    "\n",
    "def nll():\n",
    "    pass\n",
    "\n",
    "alt_id_column = \"mode_id\"\n",
    "obs_id_column = \"custom_id\"\n",
    "choice_column = \"CHOICE\""
   ]
  },
  {
   "cell_type": "markdown",
   "id": "monetary-master",
   "metadata": {},
   "source": [
    "##### MNL model results"
   ]
  },
  {
   "cell_type": "code",
   "execution_count": 10,
   "id": "secure-republican",
   "metadata": {},
   "outputs": [
    {
     "name": "stdout",
     "output_type": "stream",
     "text": [
      "              precision    recall  f1-score   support\n",
      "\n",
      "           1       0.46      0.04      0.07       908\n",
      "           2       0.67      0.86      0.76      4090\n",
      "           3       0.60      0.50      0.54      1770\n",
      "\n",
      "    accuracy                           0.65      6768\n",
      "   macro avg       0.58      0.46      0.46      6768\n",
      "weighted avg       0.63      0.65      0.61      6768\n",
      "\n"
     ]
    }
   ],
   "source": [
    "actual, predict = model_pred(sm_long, swissmetro_mnl, alt_id_column, obs_id_column, choice_column)\n",
    "print(classification_report(actual, predict))"
   ]
  },
  {
   "cell_type": "code",
   "execution_count": 11,
   "id": "first-craps",
   "metadata": {},
   "outputs": [
    {
     "data": {
      "text/plain": [
       "(0.6548463356973995, 0.6075402110928362)"
      ]
     },
     "execution_count": 11,
     "metadata": {},
     "output_type": "execute_result"
    }
   ],
   "source": [
    "accuracy_score(actual, predict), f1_score(actual, predict, average=\"weighted\")"
   ]
  },
  {
   "cell_type": "code",
   "execution_count": null,
   "id": "maritime-genome",
   "metadata": {},
   "outputs": [],
   "source": []
  }
 ],
 "metadata": {
  "kernelspec": {
   "display_name": "Python 3",
   "language": "python",
   "name": "python3"
  },
  "language_info": {
   "codemirror_mode": {
    "name": "ipython",
    "version": 3
   },
   "file_extension": ".py",
   "mimetype": "text/x-python",
   "name": "python",
   "nbconvert_exporter": "python",
   "pygments_lexer": "ipython3",
   "version": "3.7.10"
  }
 },
 "nbformat": 4,
 "nbformat_minor": 5
}
