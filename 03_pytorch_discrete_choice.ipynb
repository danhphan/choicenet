{
 "cells": [
  {
   "cell_type": "code",
   "execution_count": null,
   "metadata": {},
   "outputs": [],
   "source": [
    "# default_exp pytorch_discrete_choice"
   ]
  },
  {
   "cell_type": "markdown",
   "metadata": {},
   "source": [
    "# pytorch_discrete_choice\n",
    "\n",
    "> API details of pytorch_discrete_choice."
   ]
  },
  {
   "cell_type": "code",
   "execution_count": null,
   "metadata": {},
   "outputs": [],
   "source": [
    "#hide\n",
    "from nbdev.showdoc import *"
   ]
  },
  {
   "cell_type": "code",
   "execution_count": null,
   "metadata": {},
   "outputs": [],
   "source": [
    "#export\n",
    "def say_hello(to):\n",
    "    \"Say hello to somebody\"\n",
    "    return f'Hello {to}!'"
   ]
  },
  {
   "cell_type": "code",
   "execution_count": null,
   "metadata": {},
   "outputs": [
    {
     "data": {
      "text/plain": [
       "'Hello Choice Net!'"
      ]
     },
     "execution_count": null,
     "metadata": {},
     "output_type": "execute_result"
    }
   ],
   "source": [
    "say_hello(\"Choice Net\")"
   ]
  },
  {
   "cell_type": "code",
   "execution_count": null,
   "metadata": {},
   "outputs": [],
   "source": [
    "assert say_hello(\"Choice Net\") == \"Hello Choice Net!\""
   ]
  },
  {
   "cell_type": "markdown",
   "metadata": {},
   "source": [
    "#### Load required packaged"
   ]
  },
  {
   "cell_type": "code",
   "execution_count": null,
   "metadata": {},
   "outputs": [],
   "source": [
    "#export\n",
    "# Py3 Built-in module for type-hint annotations\n",
    "from typing import Dict, Tuple, List, Callable, Optional\n",
    "# Third-party modules for:\n",
    "# class definition\n",
    "import attr\n",
    "# Optimization\n",
    "import scipy.optimize as opt\n",
    "# Numerical computation\n",
    "import torch\n",
    "import torch.nn as nn\n",
    "import numpy as np\n",
    "# Utility functions for pytorch optimization\n",
    "import botorch.optim.numpy_converter as numpy_converter\n",
    "import botorch.optim.utils as optim_utils\n",
    "from botorch.optim.numpy_converter import TorchAttr\n",
    "# Input/Output of data\n",
    "import pandas as pd"
   ]
  },
  {
   "cell_type": "markdown",
   "metadata": {},
   "source": [
    "#### Loss Function"
   ]
  },
  {
   "cell_type": "code",
   "execution_count": null,
   "metadata": {},
   "outputs": [],
   "source": [
    "def log_loss(probs: torch.Tensor,\n",
    "             targets: torch.Tensor) -> torch.Tensor:\n",
    "    \"\"\"\n",
    "    Computes the log-loss (i.e., the negative log-likelihood) for given\n",
    "    long-format tensors of probabilities and choice indicators.\n",
    "\n",
    "    Parameters\n",
    "    ----------\n",
    "    probs : 1D torch.Tensor.\n",
    "        The probability of choosing each row's alternative for the given choice situation.\n",
    "    targets : 1D torch.Tensor.\n",
    "        A Tensor of zeros and ones indicating the chosen row for each choice situation. Should have the same size as `probs`.\n",
    "\n",
    "    Returns\n",
    "    -------\n",
    "    neg_log_likelihood : scalar torch.Tensor.\n",
    "        The negative log-likelihood computed from `probs` and `targets`.\n",
    "    \"\"\"\n",
    "    log_likelihood = torch.sum(targets * torch.log(probs))\n",
    "    return -1 * log_likelihood"
   ]
  },
  {
   "cell_type": "code",
   "execution_count": null,
   "metadata": {},
   "outputs": [
    {
     "data": {
      "text/plain": [
       "tensor(4.6052)"
      ]
     },
     "execution_count": null,
     "metadata": {},
     "output_type": "execute_result"
    }
   ],
   "source": [
    "log_loss(torch.Tensor([0.01,0.99]), torch.Tensor([1, 0]))"
   ]
  },
  {
   "cell_type": "code",
   "execution_count": null,
   "metadata": {},
   "outputs": [],
   "source": []
  }
 ],
 "metadata": {
  "kernelspec": {
   "display_name": "Python 3",
   "language": "python",
   "name": "python3"
  }
 },
 "nbformat": 4,
 "nbformat_minor": 2
}
