{
 "cells": [
  {
   "cell_type": "code",
   "execution_count": null,
   "metadata": {},
   "outputs": [],
   "source": [
    "# default_exp pytorch_discrete_choice"
   ]
  },
  {
   "cell_type": "markdown",
   "metadata": {},
   "source": [
    "# Discrete choice using pytorch\n",
    "\n",
    "> API details of Discrete choice using pytorch."
   ]
  },
  {
   "cell_type": "code",
   "execution_count": null,
   "metadata": {},
   "outputs": [],
   "source": [
    "#hide\n",
    "from nbdev.showdoc import *"
   ]
  },
  {
   "cell_type": "markdown",
   "metadata": {},
   "source": [
    "#### Load required packaged"
   ]
  },
  {
   "cell_type": "code",
   "execution_count": null,
   "metadata": {},
   "outputs": [],
   "source": [
    "#export\n",
    "# Py3 Built-in module for type-hint annotations\n",
    "from typing import Dict, Tuple, List, Callable, Optional\n",
    "# Third-party modules for:\n",
    "# class definition\n",
    "import attr\n",
    "# Optimization\n",
    "import scipy.optimize as opt\n",
    "# Numerical computation\n",
    "import torch\n",
    "import torch.nn as nn\n",
    "import numpy as np\n",
    "# Utility functions for pytorch optimization\n",
    "import botorch.optim.numpy_converter as numpy_converter\n",
    "import botorch.optim.utils as optim_utils\n",
    "from botorch.optim.numpy_converter import TorchAttr\n",
    "# Input/Output of data\n",
    "import pandas as pd"
   ]
  },
  {
   "cell_type": "markdown",
   "metadata": {},
   "source": [
    "#### Loss Function"
   ]
  },
  {
   "cell_type": "code",
   "execution_count": null,
   "metadata": {},
   "outputs": [
    {
     "ename": "NameError",
     "evalue": "name 'torch' is not defined",
     "output_type": "error",
     "traceback": [
      "\u001b[0;31m---------------------------------------------------------------------------\u001b[0m",
      "\u001b[0;31mNameError\u001b[0m                                 Traceback (most recent call last)",
      "\u001b[0;32m<ipython-input-1-5381beec4419>\u001b[0m in \u001b[0;36m<module>\u001b[0;34m\u001b[0m\n\u001b[1;32m      1\u001b[0m \u001b[0;31m#export\u001b[0m\u001b[0;34m\u001b[0m\u001b[0;34m\u001b[0m\u001b[0;34m\u001b[0m\u001b[0m\n\u001b[0;32m----> 2\u001b[0;31m def log_loss(probs: torch.Tensor,\n\u001b[0m\u001b[1;32m      3\u001b[0m              targets: torch.Tensor) -> torch.Tensor:\n\u001b[1;32m      4\u001b[0m     \"\"\"\n\u001b[1;32m      5\u001b[0m     \u001b[0mComputes\u001b[0m \u001b[0mthe\u001b[0m \u001b[0mlog\u001b[0m\u001b[0;34m-\u001b[0m\u001b[0mloss\u001b[0m \u001b[0;34m(\u001b[0m\u001b[0mi\u001b[0m\u001b[0;34m.\u001b[0m\u001b[0me\u001b[0m\u001b[0;34m.\u001b[0m\u001b[0;34m,\u001b[0m \u001b[0mthe\u001b[0m \u001b[0mnegative\u001b[0m \u001b[0mlog\u001b[0m\u001b[0;34m-\u001b[0m\u001b[0mlikelihood\u001b[0m\u001b[0;34m)\u001b[0m \u001b[0;32mfor\u001b[0m \u001b[0mgiven\u001b[0m\u001b[0;34m\u001b[0m\u001b[0;34m\u001b[0m\u001b[0m\n",
      "\u001b[0;31mNameError\u001b[0m: name 'torch' is not defined"
     ]
    }
   ],
   "source": [
    "#export\n",
    "def log_loss(probs: torch.Tensor,\n",
    "             targets: torch.Tensor) -> torch.Tensor:\n",
    "    \"\"\"\n",
    "    Computes the log-loss (i.e., the negative log-likelihood) for given\n",
    "    long-format tensors of probabilities and choice indicators.\n",
    "\n",
    "    Parameters\n",
    "    ----------\n",
    "    probs : 1D torch.Tensor.\n",
    "        The probability of choosing each row's alternative for the given choice situation.\n",
    "    targets : 1D torch.Tensor.\n",
    "        A Tensor of zeros and ones indicating the chosen row for each choice situation. Should have the same size as `probs`.\n",
    "\n",
    "    Returns\n",
    "    -------\n",
    "    neg_log_likelihood : scalar torch.Tensor.\n",
    "        The negative log-likelihood computed from `probs` and `targets`.\n",
    "    \"\"\"\n",
    "    log_likelihood = torch.sum(targets * torch.log(probs))\n",
    "    return -1 * log_likelihood"
   ]
  },
  {
   "cell_type": "code",
   "execution_count": null,
   "metadata": {},
   "outputs": [
    {
     "data": {
      "text/plain": [
       "tensor(4.6052)"
      ]
     },
     "execution_count": null,
     "metadata": {},
     "output_type": "execute_result"
    }
   ],
   "source": [
    "log_loss(torch.Tensor([0.01,0.99]), torch.Tensor([1, 0]))"
   ]
  },
  {
   "cell_type": "code",
   "execution_count": null,
   "metadata": {},
   "outputs": [],
   "source": []
  }
 ],
 "metadata": {
  "kernelspec": {
   "display_name": "Python 3",
   "language": "python",
   "name": "python3"
  }
 },
 "nbformat": 4,
 "nbformat_minor": 2
}
